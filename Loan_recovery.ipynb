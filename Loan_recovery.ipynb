{
 "cells": [
  {
   "cell_type": "markdown",
   "id": "b9665825",
   "metadata": {},
   "source": [
    "## Smart Loan Recovery System with Machine Learning"
   ]
  },
  {
   "cell_type": "markdown",
   "id": "d2f41fba",
   "metadata": {},
   "source": [
    "Loan defaults pose a significant challenge for financial institutions by affecting profitability and cash flow. Using historical loan repayment data, borrower profiles, and payment behaviours, many financial companies now use a smart loan recovery system to optimize collection efforts, minimize recovery costs, and maximize loan repayments.\n",
    "\n",
    "To build a loan recovery system with Machine Learning, we will use a dataset containing borrower profiles, loan details, and repayment histories. This dataset includes critical attributes such as:\n",
    "\n",
    "- Demographic Information: Age, employment type, income level, and number of dependents.\n",
    "- Loan Details: Loan amount, tenure, interest rate, and collateral value.\n",
    "- Repayment History: Number of missed payments, days past due, and monthly EMI payments.\n",
    "- Collection Efforts: Collection methods used, number of recovery attempts, and legal actions taken.\n",
    "- Loan Recovery Status: Whether the loan was fully recovered, partially recovered, or remains outstanding."
   ]
  },
  {
   "cell_type": "code",
   "execution_count": 26,
   "id": "3b422097",
   "metadata": {},
   "outputs": [],
   "source": [
    "import pandas as pd\n",
    "import numpy as np\n",
    "import matplotlib.pyplot as plt\n",
    "import seaborn as sns"
   ]
  },
  {
   "cell_type": "code",
   "execution_count": 27,
   "id": "ce737caa",
   "metadata": {},
   "outputs": [
    {
     "data": {
      "text/html": [
       "<div>\n",
       "<style scoped>\n",
       "    .dataframe tbody tr th:only-of-type {\n",
       "        vertical-align: middle;\n",
       "    }\n",
       "\n",
       "    .dataframe tbody tr th {\n",
       "        vertical-align: top;\n",
       "    }\n",
       "\n",
       "    .dataframe thead th {\n",
       "        text-align: right;\n",
       "    }\n",
       "</style>\n",
       "<table border=\"1\" class=\"dataframe\">\n",
       "  <thead>\n",
       "    <tr style=\"text-align: right;\">\n",
       "      <th></th>\n",
       "      <th>Borrower_ID</th>\n",
       "      <th>Age</th>\n",
       "      <th>Gender</th>\n",
       "      <th>Employment_Type</th>\n",
       "      <th>Monthly_Income</th>\n",
       "      <th>Num_Dependents</th>\n",
       "      <th>Loan_ID</th>\n",
       "      <th>Loan_Amount</th>\n",
       "      <th>Loan_Tenure</th>\n",
       "      <th>Interest_Rate</th>\n",
       "      <th>...</th>\n",
       "      <th>Collateral_Value</th>\n",
       "      <th>Outstanding_Loan_Amount</th>\n",
       "      <th>Monthly_EMI</th>\n",
       "      <th>Payment_History</th>\n",
       "      <th>Num_Missed_Payments</th>\n",
       "      <th>Days_Past_Due</th>\n",
       "      <th>Recovery_Status</th>\n",
       "      <th>Collection_Attempts</th>\n",
       "      <th>Collection_Method</th>\n",
       "      <th>Legal_Action_Taken</th>\n",
       "    </tr>\n",
       "  </thead>\n",
       "  <tbody>\n",
       "    <tr>\n",
       "      <th>0</th>\n",
       "      <td>BRW_1</td>\n",
       "      <td>59</td>\n",
       "      <td>Male</td>\n",
       "      <td>Salaried</td>\n",
       "      <td>215422</td>\n",
       "      <td>0</td>\n",
       "      <td>LN_1</td>\n",
       "      <td>1445796</td>\n",
       "      <td>60</td>\n",
       "      <td>12.39</td>\n",
       "      <td>...</td>\n",
       "      <td>1.727997e+06</td>\n",
       "      <td>2.914130e+05</td>\n",
       "      <td>4856.88</td>\n",
       "      <td>On-Time</td>\n",
       "      <td>0</td>\n",
       "      <td>0</td>\n",
       "      <td>Partially Recovered</td>\n",
       "      <td>1</td>\n",
       "      <td>Settlement Offer</td>\n",
       "      <td>No</td>\n",
       "    </tr>\n",
       "    <tr>\n",
       "      <th>1</th>\n",
       "      <td>BRW_2</td>\n",
       "      <td>49</td>\n",
       "      <td>Female</td>\n",
       "      <td>Salaried</td>\n",
       "      <td>60893</td>\n",
       "      <td>0</td>\n",
       "      <td>LN_2</td>\n",
       "      <td>1044620</td>\n",
       "      <td>12</td>\n",
       "      <td>13.47</td>\n",
       "      <td>...</td>\n",
       "      <td>1.180032e+06</td>\n",
       "      <td>6.652042e+05</td>\n",
       "      <td>55433.68</td>\n",
       "      <td>On-Time</td>\n",
       "      <td>0</td>\n",
       "      <td>0</td>\n",
       "      <td>Fully Recovered</td>\n",
       "      <td>2</td>\n",
       "      <td>Settlement Offer</td>\n",
       "      <td>No</td>\n",
       "    </tr>\n",
       "    <tr>\n",
       "      <th>2</th>\n",
       "      <td>BRW_3</td>\n",
       "      <td>35</td>\n",
       "      <td>Male</td>\n",
       "      <td>Salaried</td>\n",
       "      <td>116520</td>\n",
       "      <td>1</td>\n",
       "      <td>LN_3</td>\n",
       "      <td>1923410</td>\n",
       "      <td>72</td>\n",
       "      <td>7.74</td>\n",
       "      <td>...</td>\n",
       "      <td>2.622540e+06</td>\n",
       "      <td>1.031372e+06</td>\n",
       "      <td>14324.61</td>\n",
       "      <td>Delayed</td>\n",
       "      <td>2</td>\n",
       "      <td>124</td>\n",
       "      <td>Fully Recovered</td>\n",
       "      <td>2</td>\n",
       "      <td>Legal Notice</td>\n",
       "      <td>No</td>\n",
       "    </tr>\n",
       "    <tr>\n",
       "      <th>3</th>\n",
       "      <td>BRW_4</td>\n",
       "      <td>63</td>\n",
       "      <td>Female</td>\n",
       "      <td>Salaried</td>\n",
       "      <td>140818</td>\n",
       "      <td>2</td>\n",
       "      <td>LN_4</td>\n",
       "      <td>1811663</td>\n",
       "      <td>36</td>\n",
       "      <td>12.23</td>\n",
       "      <td>...</td>\n",
       "      <td>1.145493e+06</td>\n",
       "      <td>2.249739e+05</td>\n",
       "      <td>6249.28</td>\n",
       "      <td>On-Time</td>\n",
       "      <td>1</td>\n",
       "      <td>56</td>\n",
       "      <td>Fully Recovered</td>\n",
       "      <td>2</td>\n",
       "      <td>Calls</td>\n",
       "      <td>No</td>\n",
       "    </tr>\n",
       "    <tr>\n",
       "      <th>4</th>\n",
       "      <td>BRW_5</td>\n",
       "      <td>28</td>\n",
       "      <td>Male</td>\n",
       "      <td>Salaried</td>\n",
       "      <td>76272</td>\n",
       "      <td>1</td>\n",
       "      <td>LN_5</td>\n",
       "      <td>88578</td>\n",
       "      <td>48</td>\n",
       "      <td>16.13</td>\n",
       "      <td>...</td>\n",
       "      <td>0.000000e+00</td>\n",
       "      <td>3.918989e+04</td>\n",
       "      <td>816.46</td>\n",
       "      <td>On-Time</td>\n",
       "      <td>1</td>\n",
       "      <td>69</td>\n",
       "      <td>Fully Recovered</td>\n",
       "      <td>0</td>\n",
       "      <td>Debt Collectors</td>\n",
       "      <td>No</td>\n",
       "    </tr>\n",
       "  </tbody>\n",
       "</table>\n",
       "<p>5 rows × 21 columns</p>\n",
       "</div>"
      ],
      "text/plain": [
       "  Borrower_ID  Age  Gender Employment_Type  Monthly_Income  Num_Dependents  \\\n",
       "0       BRW_1   59    Male        Salaried          215422               0   \n",
       "1       BRW_2   49  Female        Salaried           60893               0   \n",
       "2       BRW_3   35    Male        Salaried          116520               1   \n",
       "3       BRW_4   63  Female        Salaried          140818               2   \n",
       "4       BRW_5   28    Male        Salaried           76272               1   \n",
       "\n",
       "  Loan_ID  Loan_Amount  Loan_Tenure  Interest_Rate  ... Collateral_Value  \\\n",
       "0    LN_1      1445796           60          12.39  ...     1.727997e+06   \n",
       "1    LN_2      1044620           12          13.47  ...     1.180032e+06   \n",
       "2    LN_3      1923410           72           7.74  ...     2.622540e+06   \n",
       "3    LN_4      1811663           36          12.23  ...     1.145493e+06   \n",
       "4    LN_5        88578           48          16.13  ...     0.000000e+00   \n",
       "\n",
       "   Outstanding_Loan_Amount  Monthly_EMI  Payment_History Num_Missed_Payments  \\\n",
       "0             2.914130e+05      4856.88          On-Time                   0   \n",
       "1             6.652042e+05     55433.68          On-Time                   0   \n",
       "2             1.031372e+06     14324.61          Delayed                   2   \n",
       "3             2.249739e+05      6249.28          On-Time                   1   \n",
       "4             3.918989e+04       816.46          On-Time                   1   \n",
       "\n",
       "   Days_Past_Due      Recovery_Status Collection_Attempts  Collection_Method  \\\n",
       "0              0  Partially Recovered                   1   Settlement Offer   \n",
       "1              0      Fully Recovered                   2   Settlement Offer   \n",
       "2            124      Fully Recovered                   2       Legal Notice   \n",
       "3             56      Fully Recovered                   2              Calls   \n",
       "4             69      Fully Recovered                   0    Debt Collectors   \n",
       "\n",
       "  Legal_Action_Taken  \n",
       "0                 No  \n",
       "1                 No  \n",
       "2                 No  \n",
       "3                 No  \n",
       "4                 No  \n",
       "\n",
       "[5 rows x 21 columns]"
      ]
     },
     "execution_count": 27,
     "metadata": {},
     "output_type": "execute_result"
    }
   ],
   "source": [
    "df = pd.read_csv('loan-recovery.csv')\n",
    "df.head()\n"
   ]
  },
  {
   "cell_type": "code",
   "execution_count": 28,
   "id": "5da604a2",
   "metadata": {},
   "outputs": [
    {
     "data": {
      "text/html": [
       "<div>\n",
       "<style scoped>\n",
       "    .dataframe tbody tr th:only-of-type {\n",
       "        vertical-align: middle;\n",
       "    }\n",
       "\n",
       "    .dataframe tbody tr th {\n",
       "        vertical-align: top;\n",
       "    }\n",
       "\n",
       "    .dataframe thead th {\n",
       "        text-align: right;\n",
       "    }\n",
       "</style>\n",
       "<table border=\"1\" class=\"dataframe\">\n",
       "  <thead>\n",
       "    <tr style=\"text-align: right;\">\n",
       "      <th></th>\n",
       "      <th>Age</th>\n",
       "      <th>Monthly_Income</th>\n",
       "      <th>Num_Dependents</th>\n",
       "      <th>Loan_Amount</th>\n",
       "      <th>Loan_Tenure</th>\n",
       "      <th>Interest_Rate</th>\n",
       "      <th>Collateral_Value</th>\n",
       "      <th>Outstanding_Loan_Amount</th>\n",
       "      <th>Monthly_EMI</th>\n",
       "      <th>Num_Missed_Payments</th>\n",
       "      <th>Days_Past_Due</th>\n",
       "      <th>Collection_Attempts</th>\n",
       "    </tr>\n",
       "  </thead>\n",
       "  <tbody>\n",
       "    <tr>\n",
       "      <th>count</th>\n",
       "      <td>500.000000</td>\n",
       "      <td>500.000000</td>\n",
       "      <td>500.000000</td>\n",
       "      <td>5.000000e+02</td>\n",
       "      <td>500.00000</td>\n",
       "      <td>500.000000</td>\n",
       "      <td>5.000000e+02</td>\n",
       "      <td>5.000000e+02</td>\n",
       "      <td>500.000000</td>\n",
       "      <td>500.000000</td>\n",
       "      <td>500.000000</td>\n",
       "      <td>500.000000</td>\n",
       "    </tr>\n",
       "    <tr>\n",
       "      <th>mean</th>\n",
       "      <td>43.116000</td>\n",
       "      <td>134829.920000</td>\n",
       "      <td>1.476000</td>\n",
       "      <td>1.024907e+06</td>\n",
       "      <td>46.10400</td>\n",
       "      <td>11.192820</td>\n",
       "      <td>6.032240e+05</td>\n",
       "      <td>5.627260e+05</td>\n",
       "      <td>15861.536020</td>\n",
       "      <td>1.912000</td>\n",
       "      <td>70.678000</td>\n",
       "      <td>3.000000</td>\n",
       "    </tr>\n",
       "    <tr>\n",
       "      <th>std</th>\n",
       "      <td>12.733217</td>\n",
       "      <td>68969.356746</td>\n",
       "      <td>1.145447</td>\n",
       "      <td>5.907556e+05</td>\n",
       "      <td>18.23706</td>\n",
       "      <td>3.775209</td>\n",
       "      <td>7.457131e+05</td>\n",
       "      <td>4.723581e+05</td>\n",
       "      <td>18709.231315</td>\n",
       "      <td>2.110252</td>\n",
       "      <td>60.211038</td>\n",
       "      <td>2.807805</td>\n",
       "    </tr>\n",
       "    <tr>\n",
       "      <th>min</th>\n",
       "      <td>21.000000</td>\n",
       "      <td>15207.000000</td>\n",
       "      <td>0.000000</td>\n",
       "      <td>5.413800e+04</td>\n",
       "      <td>12.00000</td>\n",
       "      <td>5.020000</td>\n",
       "      <td>0.000000e+00</td>\n",
       "      <td>1.571283e+04</td>\n",
       "      <td>261.880000</td>\n",
       "      <td>0.000000</td>\n",
       "      <td>0.000000</td>\n",
       "      <td>0.000000</td>\n",
       "    </tr>\n",
       "    <tr>\n",
       "      <th>25%</th>\n",
       "      <td>32.000000</td>\n",
       "      <td>76343.250000</td>\n",
       "      <td>0.000000</td>\n",
       "      <td>4.629848e+05</td>\n",
       "      <td>36.00000</td>\n",
       "      <td>7.907500</td>\n",
       "      <td>0.000000e+00</td>\n",
       "      <td>1.822072e+05</td>\n",
       "      <td>4039.097500</td>\n",
       "      <td>1.000000</td>\n",
       "      <td>4.000000</td>\n",
       "      <td>1.000000</td>\n",
       "    </tr>\n",
       "    <tr>\n",
       "      <th>50%</th>\n",
       "      <td>44.000000</td>\n",
       "      <td>134929.500000</td>\n",
       "      <td>1.000000</td>\n",
       "      <td>9.971240e+05</td>\n",
       "      <td>48.00000</td>\n",
       "      <td>10.915000</td>\n",
       "      <td>2.327684e+05</td>\n",
       "      <td>4.133240e+05</td>\n",
       "      <td>9330.170000</td>\n",
       "      <td>2.000000</td>\n",
       "      <td>66.500000</td>\n",
       "      <td>2.000000</td>\n",
       "    </tr>\n",
       "    <tr>\n",
       "      <th>75%</th>\n",
       "      <td>53.000000</td>\n",
       "      <td>193086.250000</td>\n",
       "      <td>3.000000</td>\n",
       "      <td>1.557952e+06</td>\n",
       "      <td>60.00000</td>\n",
       "      <td>14.577500</td>\n",
       "      <td>1.111106e+06</td>\n",
       "      <td>8.324787e+05</td>\n",
       "      <td>20439.485000</td>\n",
       "      <td>3.000000</td>\n",
       "      <td>122.250000</td>\n",
       "      <td>4.000000</td>\n",
       "    </tr>\n",
       "    <tr>\n",
       "      <th>max</th>\n",
       "      <td>64.000000</td>\n",
       "      <td>249746.000000</td>\n",
       "      <td>3.000000</td>\n",
       "      <td>1.995325e+06</td>\n",
       "      <td>72.00000</td>\n",
       "      <td>17.970000</td>\n",
       "      <td>2.744395e+06</td>\n",
       "      <td>1.932396e+06</td>\n",
       "      <td>127849.230000</td>\n",
       "      <td>12.000000</td>\n",
       "      <td>180.000000</td>\n",
       "      <td>10.000000</td>\n",
       "    </tr>\n",
       "  </tbody>\n",
       "</table>\n",
       "</div>"
      ],
      "text/plain": [
       "              Age  Monthly_Income  Num_Dependents   Loan_Amount  Loan_Tenure  \\\n",
       "count  500.000000      500.000000      500.000000  5.000000e+02    500.00000   \n",
       "mean    43.116000   134829.920000        1.476000  1.024907e+06     46.10400   \n",
       "std     12.733217    68969.356746        1.145447  5.907556e+05     18.23706   \n",
       "min     21.000000    15207.000000        0.000000  5.413800e+04     12.00000   \n",
       "25%     32.000000    76343.250000        0.000000  4.629848e+05     36.00000   \n",
       "50%     44.000000   134929.500000        1.000000  9.971240e+05     48.00000   \n",
       "75%     53.000000   193086.250000        3.000000  1.557952e+06     60.00000   \n",
       "max     64.000000   249746.000000        3.000000  1.995325e+06     72.00000   \n",
       "\n",
       "       Interest_Rate  Collateral_Value  Outstanding_Loan_Amount  \\\n",
       "count     500.000000      5.000000e+02             5.000000e+02   \n",
       "mean       11.192820      6.032240e+05             5.627260e+05   \n",
       "std         3.775209      7.457131e+05             4.723581e+05   \n",
       "min         5.020000      0.000000e+00             1.571283e+04   \n",
       "25%         7.907500      0.000000e+00             1.822072e+05   \n",
       "50%        10.915000      2.327684e+05             4.133240e+05   \n",
       "75%        14.577500      1.111106e+06             8.324787e+05   \n",
       "max        17.970000      2.744395e+06             1.932396e+06   \n",
       "\n",
       "         Monthly_EMI  Num_Missed_Payments  Days_Past_Due  Collection_Attempts  \n",
       "count     500.000000           500.000000     500.000000           500.000000  \n",
       "mean    15861.536020             1.912000      70.678000             3.000000  \n",
       "std     18709.231315             2.110252      60.211038             2.807805  \n",
       "min       261.880000             0.000000       0.000000             0.000000  \n",
       "25%      4039.097500             1.000000       4.000000             1.000000  \n",
       "50%      9330.170000             2.000000      66.500000             2.000000  \n",
       "75%     20439.485000             3.000000     122.250000             4.000000  \n",
       "max    127849.230000            12.000000     180.000000            10.000000  "
      ]
     },
     "execution_count": 28,
     "metadata": {},
     "output_type": "execute_result"
    }
   ],
   "source": [
    "df.describe()"
   ]
  },
  {
   "cell_type": "code",
   "execution_count": 29,
   "id": "956c5d88",
   "metadata": {},
   "outputs": [
    {
     "name": "stdout",
     "output_type": "stream",
     "text": [
      "<class 'pandas.core.frame.DataFrame'>\n",
      "RangeIndex: 500 entries, 0 to 499\n",
      "Data columns (total 21 columns):\n",
      " #   Column                   Non-Null Count  Dtype  \n",
      "---  ------                   --------------  -----  \n",
      " 0   Borrower_ID              500 non-null    object \n",
      " 1   Age                      500 non-null    int64  \n",
      " 2   Gender                   500 non-null    object \n",
      " 3   Employment_Type          500 non-null    object \n",
      " 4   Monthly_Income           500 non-null    int64  \n",
      " 5   Num_Dependents           500 non-null    int64  \n",
      " 6   Loan_ID                  500 non-null    object \n",
      " 7   Loan_Amount              500 non-null    int64  \n",
      " 8   Loan_Tenure              500 non-null    int64  \n",
      " 9   Interest_Rate            500 non-null    float64\n",
      " 10  Loan_Type                500 non-null    object \n",
      " 11  Collateral_Value         500 non-null    float64\n",
      " 12  Outstanding_Loan_Amount  500 non-null    float64\n",
      " 13  Monthly_EMI              500 non-null    float64\n",
      " 14  Payment_History          500 non-null    object \n",
      " 15  Num_Missed_Payments      500 non-null    int64  \n",
      " 16  Days_Past_Due            500 non-null    int64  \n",
      " 17  Recovery_Status          500 non-null    object \n",
      " 18  Collection_Attempts      500 non-null    int64  \n",
      " 19  Collection_Method        500 non-null    object \n",
      " 20  Legal_Action_Taken       500 non-null    object \n",
      "dtypes: float64(4), int64(8), object(9)\n",
      "memory usage: 82.2+ KB\n"
     ]
    }
   ],
   "source": [
    "# Add comprehensive data quality assessment\n",
    "df.info()"
   ]
  },
  {
   "cell_type": "code",
   "execution_count": null,
   "id": "5d6d45b2",
   "metadata": {},
   "outputs": [
    {
     "data": {
      "application/vnd.plotly.v1+json": {
       "config": {
        "plotlyServerURL": "https://plot.ly"
       },
       "data": [
        {
         "colorscale": [
          [
           0,
           "rgb(103,0,31)"
          ],
          [
           0.1,
           "rgb(178,24,43)"
          ],
          [
           0.2,
           "rgb(214,96,77)"
          ],
          [
           0.3,
           "rgb(244,165,130)"
          ],
          [
           0.4,
           "rgb(253,219,199)"
          ],
          [
           0.5,
           "rgb(247,247,247)"
          ],
          [
           0.6,
           "rgb(209,229,240)"
          ],
          [
           0.7,
           "rgb(146,197,222)"
          ],
          [
           0.8,
           "rgb(67,147,195)"
          ],
          [
           0.9,
           "rgb(33,102,172)"
          ],
          [
           1,
           "rgb(5,48,97)"
          ]
         ],
         "hoverongaps": false,
         "hovertemplate": "<b>%{x}</b> vs <b>%{y}</b><br>Correlation: %{z:.3f}<extra></extra>",
         "text": {
          "bdata": "AAAAAAAA8D97FK5H4XqUP3sUrkfheoQ/exSuR+F6hL97FK5H4Xq0v3sUrkfherQ/mpmZmZmZqb97FK5H4XqkP+xRuB6F67E/exSuR+F6pL+amZmZmZmpP7gehetRuJ4/exSuR+F6lD8AAAAAAADwP5qZmZmZmbk/AAAAAAAAAAAK16NwPQq3P3sUrkfherQ/uB6F61G4nj+4HoXrUbieP7gehetRuJ6/exSuR+F6pD97FK5H4XqUP3sUrkfheqQ/exSuR+F6hD+amZmZmZm5PwAAAAAAAPA/exSuR+F6pL97FK5H4XqEv5qZmZmZmak/exSuR+F6hD+4HoXrUbiev7gehetRuJ6/CtejcD0Ktz/sUbgeheuxP3sUrkfhepS/exSuR+F6hL8AAAAAAAAAAHsUrkfheqS/AAAAAAAA8D8AAAAAAAAAAArXo3A9Cre/AAAAAAAA4D8AAAAAAADoP1K4HoXrUeA/AAAAAAAAAIAAAAAAAAAAAHsUrkfheoQ/exSuR+F6tL8K16NwPQq3P3sUrkfheoS/AAAAAAAAAAAAAAAAAADwPwAAAAAAAACAexSuR+F6lL8AAAAAAAAAAFyPwvUoXN+/exSuR+F6lL+4HoXrUbieP3sUrkfhepS/exSuR+F6tD97FK5H4Xq0P5qZmZmZmak/CtejcD0Kt78AAAAAAAAAgAAAAAAAAPA/exSuR+F6hD+amZmZmZmpv+xRuB6F67G/exSuR+F6pL97FK5H4XqkP7gehetRuJ6/mpmZmZmZqb+4HoXrUbieP3sUrkfheoQ/AAAAAAAA4D97FK5H4XqUv3sUrkfheoQ/AAAAAAAA8D+uR+F6FK7XP6RwPQrXo9A/mpmZmZmZqT97FK5H4XqEv7gehetRuK6/exSuR+F6pD+4HoXrUbieP7gehetRuJ6/AAAAAAAA6D8AAAAAAAAAAJqZmZmZmam/rkfhehSu1z8AAAAAAADwPxSuR+F6FOY/mpmZmZmZqT97FK5H4XqkP3sUrkfheoS/7FG4HoXrsT+4HoXrUbiev7gehetRuJ6/UrgehetR4D9cj8L1KFzfv+xRuB6F67G/pHA9Ctej0D8UrkfhehTmPwAAAAAAAPA/uB6F61G4nj97FK5H4XqkP7gehetRuJ4/exSuR+F6pL97FK5H4XqkPwrXo3A9Crc/AAAAAAAAAIB7FK5H4XqUv3sUrkfheqS/mpmZmZmZqT+amZmZmZmpP7gehetRuJ4/AAAAAAAA8D/D9Shcj8LVP7gehetRuJ4/mpmZmZmZqT97FK5H4XqUP+xRuB6F67E/AAAAAAAAAAC4HoXrUbieP3sUrkfheqQ/exSuR+F6hL97FK5H4XqkP3sUrkfheqQ/w/UoXI/C1T8AAAAAAADwP7gehetRuK4/uB6F61G4nj97FK5H4XqkP3sUrkfhepS/exSuR+F6hD97FK5H4XqUv7gehetRuJ6/uB6F61G4rr97FK5H4XqEv7gehetRuJ4/uB6F61G4nj+4HoXrUbiuPwAAAAAAAPA/",
          "dtype": "f8",
          "shape": "12, 12"
         },
         "textfont": {
          "size": 10
         },
         "texttemplate": "%{text}",
         "type": "heatmap",
         "x": [
          "Age",
          "Monthly_Income",
          "Num_Dependents",
          "Loan_Amount",
          "Loan_Tenure",
          "Interest_Rate",
          "Collateral_Value",
          "Outstanding_Loan_Amount",
          "Monthly_EMI",
          "Num_Missed_Payments",
          "Days_Past_Due",
          "Collection_Attempts"
         ],
         "y": [
          "Age",
          "Monthly_Income",
          "Num_Dependents",
          "Loan_Amount",
          "Loan_Tenure",
          "Interest_Rate",
          "Collateral_Value",
          "Outstanding_Loan_Amount",
          "Monthly_EMI",
          "Num_Missed_Payments",
          "Days_Past_Due",
          "Collection_Attempts"
         ],
         "z": {
          "bdata": "AAAAAAAA8D+M49JK8rqOPz57t2yra3g/4oOSS8hIib+RsqVyIdy0v0bk5a7sUbQ/2fmMSkxVqL+aBiK70LiiP9UmdZn0ZLI/rjzLliNbo7/JPbZJkJWoP8vWLZvCGZ0/jOPSSvK6jj8AAAAAAADwP4EYKc8X57g/dJHaZvtHYT9MFuj0v6a3P2n61Q9F9LQ/NiVZlAKkmT+fr6ieQ1GeP9PvaIJEWpy/gUjlcdpNpD+J5Tfar1WRP1ss5z99tqU/Pnu3bKtreD+BGCnPF+e4PwAAAAAAAPA/XQsDvUG0pL+dB81boHF5v78OI/4AWqo/xN0nyizBhD9arpSDs+ehv4WJ+H/bDZy/cKFMQFfZtT8sNJBHZLKwP1SC4NDwapS/4oOSS8hIib90kdpm+0dhP10LA71BtKS/AAAAAAAA8D8gOpdllzUhP6WK6b3oqba/A4ODZ/EE4D9dyW7PVAroP1KVANBXb+A/lMmzyGjlcL/X8WLpm9txPwpE337s1oI/kbKlciHctL9MFuj0v6a3P50HzVugcXm/IDqXZZc1IT8AAAAAAADwP+CzEe0upWC/C9AmjsgYmL+ez8efkRZyP6Q6k0T0rd+/qRZsuV5dlr/yDEPbTTCdP7AOLLXn1JC/RuTlruxRtD9p+tUPRfS0P78OI/4AWqo/pYrpveiptr/gsxHtLqVgvwAAAAAAAPA/9OlLzve5iD/sPSXa+uyqv594O/Af0rG/mwU51APgpb8TDvOldrmjP+6CW7abwJ6/2fmMSkxVqL82JVmUAqSZP8TdJ8oswYQ/A4ODZ/EE4D8L0CaOyBiYv/TpS873uYg/AAAAAAAA8D/pDf9CSa3XP1Ob0Irn8tA/l4GAS0IFqD/biP69SjaCv4zYJ7tX162/mgYiu9C4oj+fr6ieQ1GeP1qulIOz56G/Xcluz1QK6D+ez8efkRZyP+w9Jdr67Kq/6Q3/Qkmt1z8AAAAAAADwP1mqYIF2E+Y/aj1mrsRxqj9SDivsBBqlP/4j8POYI4W/1SZ1mfRksj/T72iCRFqcv4WJ+H/bDZy/UpUA0Fdv4D+kOpNE9K3fv594O/Af0rG/U5vQiufy0D9ZqmCBdhPmPwAAAAAAAPA/6G5r1qeDnD+FTPKALGSjP+U8fRFUEp8/rjzLliNbo7+BSOVx2k2kP3ChTEBX2bU/lMmzyGjlcL+pFmy5Xl2Wv5sFOdQD4KW/l4GAS0IFqD9qPWauxHGqP+hua9ang5w/AAAAAAAA8D+ewTMfxgDWPwyVkKLGJKE/yT22SZCVqD+J5Tfar1WRPyw0kEdksrA/1/Fi6ZvbcT/yDEPbTTCdPxMO86V2uaM/24j+vUo2gr9SDivsBBqlP4VM8oAsZKM/nsEzH8YA1j8AAAAAAADwPz6eo34ox68/y9Ytm8IZnT9bLOc/fbalP1SC4NDwapS/CkTffuzWgj+wDiy159SQv+6CW7abwJ6/jNgnu1fXrb/+I/DzmCOFv+U8fRFUEp8/DJWQosYkoT8+nqN+KMevPwAAAAAAAPA/",
          "dtype": "f8",
          "shape": "12, 12"
         },
         "zmid": 0
        }
       ],
       "layout": {
        "height": 600,
        "template": {
         "data": {
          "bar": [
           {
            "error_x": {
             "color": "#2a3f5f"
            },
            "error_y": {
             "color": "#2a3f5f"
            },
            "marker": {
             "line": {
              "color": "#E5ECF6",
              "width": 0.5
             },
             "pattern": {
              "fillmode": "overlay",
              "size": 10,
              "solidity": 0.2
             }
            },
            "type": "bar"
           }
          ],
          "barpolar": [
           {
            "marker": {
             "line": {
              "color": "#E5ECF6",
              "width": 0.5
             },
             "pattern": {
              "fillmode": "overlay",
              "size": 10,
              "solidity": 0.2
             }
            },
            "type": "barpolar"
           }
          ],
          "carpet": [
           {
            "aaxis": {
             "endlinecolor": "#2a3f5f",
             "gridcolor": "white",
             "linecolor": "white",
             "minorgridcolor": "white",
             "startlinecolor": "#2a3f5f"
            },
            "baxis": {
             "endlinecolor": "#2a3f5f",
             "gridcolor": "white",
             "linecolor": "white",
             "minorgridcolor": "white",
             "startlinecolor": "#2a3f5f"
            },
            "type": "carpet"
           }
          ],
          "choropleth": [
           {
            "colorbar": {
             "outlinewidth": 0,
             "ticks": ""
            },
            "type": "choropleth"
           }
          ],
          "contour": [
           {
            "colorbar": {
             "outlinewidth": 0,
             "ticks": ""
            },
            "colorscale": [
             [
              0,
              "#0d0887"
             ],
             [
              0.1111111111111111,
              "#46039f"
             ],
             [
              0.2222222222222222,
              "#7201a8"
             ],
             [
              0.3333333333333333,
              "#9c179e"
             ],
             [
              0.4444444444444444,
              "#bd3786"
             ],
             [
              0.5555555555555556,
              "#d8576b"
             ],
             [
              0.6666666666666666,
              "#ed7953"
             ],
             [
              0.7777777777777778,
              "#fb9f3a"
             ],
             [
              0.8888888888888888,
              "#fdca26"
             ],
             [
              1,
              "#f0f921"
             ]
            ],
            "type": "contour"
           }
          ],
          "contourcarpet": [
           {
            "colorbar": {
             "outlinewidth": 0,
             "ticks": ""
            },
            "type": "contourcarpet"
           }
          ],
          "heatmap": [
           {
            "colorbar": {
             "outlinewidth": 0,
             "ticks": ""
            },
            "colorscale": [
             [
              0,
              "#0d0887"
             ],
             [
              0.1111111111111111,
              "#46039f"
             ],
             [
              0.2222222222222222,
              "#7201a8"
             ],
             [
              0.3333333333333333,
              "#9c179e"
             ],
             [
              0.4444444444444444,
              "#bd3786"
             ],
             [
              0.5555555555555556,
              "#d8576b"
             ],
             [
              0.6666666666666666,
              "#ed7953"
             ],
             [
              0.7777777777777778,
              "#fb9f3a"
             ],
             [
              0.8888888888888888,
              "#fdca26"
             ],
             [
              1,
              "#f0f921"
             ]
            ],
            "type": "heatmap"
           }
          ],
          "histogram": [
           {
            "marker": {
             "pattern": {
              "fillmode": "overlay",
              "size": 10,
              "solidity": 0.2
             }
            },
            "type": "histogram"
           }
          ],
          "histogram2d": [
           {
            "colorbar": {
             "outlinewidth": 0,
             "ticks": ""
            },
            "colorscale": [
             [
              0,
              "#0d0887"
             ],
             [
              0.1111111111111111,
              "#46039f"
             ],
             [
              0.2222222222222222,
              "#7201a8"
             ],
             [
              0.3333333333333333,
              "#9c179e"
             ],
             [
              0.4444444444444444,
              "#bd3786"
             ],
             [
              0.5555555555555556,
              "#d8576b"
             ],
             [
              0.6666666666666666,
              "#ed7953"
             ],
             [
              0.7777777777777778,
              "#fb9f3a"
             ],
             [
              0.8888888888888888,
              "#fdca26"
             ],
             [
              1,
              "#f0f921"
             ]
            ],
            "type": "histogram2d"
           }
          ],
          "histogram2dcontour": [
           {
            "colorbar": {
             "outlinewidth": 0,
             "ticks": ""
            },
            "colorscale": [
             [
              0,
              "#0d0887"
             ],
             [
              0.1111111111111111,
              "#46039f"
             ],
             [
              0.2222222222222222,
              "#7201a8"
             ],
             [
              0.3333333333333333,
              "#9c179e"
             ],
             [
              0.4444444444444444,
              "#bd3786"
             ],
             [
              0.5555555555555556,
              "#d8576b"
             ],
             [
              0.6666666666666666,
              "#ed7953"
             ],
             [
              0.7777777777777778,
              "#fb9f3a"
             ],
             [
              0.8888888888888888,
              "#fdca26"
             ],
             [
              1,
              "#f0f921"
             ]
            ],
            "type": "histogram2dcontour"
           }
          ],
          "mesh3d": [
           {
            "colorbar": {
             "outlinewidth": 0,
             "ticks": ""
            },
            "type": "mesh3d"
           }
          ],
          "parcoords": [
           {
            "line": {
             "colorbar": {
              "outlinewidth": 0,
              "ticks": ""
             }
            },
            "type": "parcoords"
           }
          ],
          "pie": [
           {
            "automargin": true,
            "type": "pie"
           }
          ],
          "scatter": [
           {
            "fillpattern": {
             "fillmode": "overlay",
             "size": 10,
             "solidity": 0.2
            },
            "type": "scatter"
           }
          ],
          "scatter3d": [
           {
            "line": {
             "colorbar": {
              "outlinewidth": 0,
              "ticks": ""
             }
            },
            "marker": {
             "colorbar": {
              "outlinewidth": 0,
              "ticks": ""
             }
            },
            "type": "scatter3d"
           }
          ],
          "scattercarpet": [
           {
            "marker": {
             "colorbar": {
              "outlinewidth": 0,
              "ticks": ""
             }
            },
            "type": "scattercarpet"
           }
          ],
          "scattergeo": [
           {
            "marker": {
             "colorbar": {
              "outlinewidth": 0,
              "ticks": ""
             }
            },
            "type": "scattergeo"
           }
          ],
          "scattergl": [
           {
            "marker": {
             "colorbar": {
              "outlinewidth": 0,
              "ticks": ""
             }
            },
            "type": "scattergl"
           }
          ],
          "scattermap": [
           {
            "marker": {
             "colorbar": {
              "outlinewidth": 0,
              "ticks": ""
             }
            },
            "type": "scattermap"
           }
          ],
          "scattermapbox": [
           {
            "marker": {
             "colorbar": {
              "outlinewidth": 0,
              "ticks": ""
             }
            },
            "type": "scattermapbox"
           }
          ],
          "scatterpolar": [
           {
            "marker": {
             "colorbar": {
              "outlinewidth": 0,
              "ticks": ""
             }
            },
            "type": "scatterpolar"
           }
          ],
          "scatterpolargl": [
           {
            "marker": {
             "colorbar": {
              "outlinewidth": 0,
              "ticks": ""
             }
            },
            "type": "scatterpolargl"
           }
          ],
          "scatterternary": [
           {
            "marker": {
             "colorbar": {
              "outlinewidth": 0,
              "ticks": ""
             }
            },
            "type": "scatterternary"
           }
          ],
          "surface": [
           {
            "colorbar": {
             "outlinewidth": 0,
             "ticks": ""
            },
            "colorscale": [
             [
              0,
              "#0d0887"
             ],
             [
              0.1111111111111111,
              "#46039f"
             ],
             [
              0.2222222222222222,
              "#7201a8"
             ],
             [
              0.3333333333333333,
              "#9c179e"
             ],
             [
              0.4444444444444444,
              "#bd3786"
             ],
             [
              0.5555555555555556,
              "#d8576b"
             ],
             [
              0.6666666666666666,
              "#ed7953"
             ],
             [
              0.7777777777777778,
              "#fb9f3a"
             ],
             [
              0.8888888888888888,
              "#fdca26"
             ],
             [
              1,
              "#f0f921"
             ]
            ],
            "type": "surface"
           }
          ],
          "table": [
           {
            "cells": {
             "fill": {
              "color": "#EBF0F8"
             },
             "line": {
              "color": "white"
             }
            },
            "header": {
             "fill": {
              "color": "#C8D4E3"
             },
             "line": {
              "color": "white"
             }
            },
            "type": "table"
           }
          ]
         },
         "layout": {
          "annotationdefaults": {
           "arrowcolor": "#2a3f5f",
           "arrowhead": 0,
           "arrowwidth": 1
          },
          "autotypenumbers": "strict",
          "coloraxis": {
           "colorbar": {
            "outlinewidth": 0,
            "ticks": ""
           }
          },
          "colorscale": {
           "diverging": [
            [
             0,
             "#8e0152"
            ],
            [
             0.1,
             "#c51b7d"
            ],
            [
             0.2,
             "#de77ae"
            ],
            [
             0.3,
             "#f1b6da"
            ],
            [
             0.4,
             "#fde0ef"
            ],
            [
             0.5,
             "#f7f7f7"
            ],
            [
             0.6,
             "#e6f5d0"
            ],
            [
             0.7,
             "#b8e186"
            ],
            [
             0.8,
             "#7fbc41"
            ],
            [
             0.9,
             "#4d9221"
            ],
            [
             1,
             "#276419"
            ]
           ],
           "sequential": [
            [
             0,
             "#0d0887"
            ],
            [
             0.1111111111111111,
             "#46039f"
            ],
            [
             0.2222222222222222,
             "#7201a8"
            ],
            [
             0.3333333333333333,
             "#9c179e"
            ],
            [
             0.4444444444444444,
             "#bd3786"
            ],
            [
             0.5555555555555556,
             "#d8576b"
            ],
            [
             0.6666666666666666,
             "#ed7953"
            ],
            [
             0.7777777777777778,
             "#fb9f3a"
            ],
            [
             0.8888888888888888,
             "#fdca26"
            ],
            [
             1,
             "#f0f921"
            ]
           ],
           "sequentialminus": [
            [
             0,
             "#0d0887"
            ],
            [
             0.1111111111111111,
             "#46039f"
            ],
            [
             0.2222222222222222,
             "#7201a8"
            ],
            [
             0.3333333333333333,
             "#9c179e"
            ],
            [
             0.4444444444444444,
             "#bd3786"
            ],
            [
             0.5555555555555556,
             "#d8576b"
            ],
            [
             0.6666666666666666,
             "#ed7953"
            ],
            [
             0.7777777777777778,
             "#fb9f3a"
            ],
            [
             0.8888888888888888,
             "#fdca26"
            ],
            [
             1,
             "#f0f921"
            ]
           ]
          },
          "colorway": [
           "#636efa",
           "#EF553B",
           "#00cc96",
           "#ab63fa",
           "#FFA15A",
           "#19d3f3",
           "#FF6692",
           "#B6E880",
           "#FF97FF",
           "#FECB52"
          ],
          "font": {
           "color": "#2a3f5f"
          },
          "geo": {
           "bgcolor": "white",
           "lakecolor": "white",
           "landcolor": "#E5ECF6",
           "showlakes": true,
           "showland": true,
           "subunitcolor": "white"
          },
          "hoverlabel": {
           "align": "left"
          },
          "hovermode": "closest",
          "mapbox": {
           "style": "light"
          },
          "paper_bgcolor": "white",
          "plot_bgcolor": "#E5ECF6",
          "polar": {
           "angularaxis": {
            "gridcolor": "white",
            "linecolor": "white",
            "ticks": ""
           },
           "bgcolor": "#E5ECF6",
           "radialaxis": {
            "gridcolor": "white",
            "linecolor": "white",
            "ticks": ""
           }
          },
          "scene": {
           "xaxis": {
            "backgroundcolor": "#E5ECF6",
            "gridcolor": "white",
            "gridwidth": 2,
            "linecolor": "white",
            "showbackground": true,
            "ticks": "",
            "zerolinecolor": "white"
           },
           "yaxis": {
            "backgroundcolor": "#E5ECF6",
            "gridcolor": "white",
            "gridwidth": 2,
            "linecolor": "white",
            "showbackground": true,
            "ticks": "",
            "zerolinecolor": "white"
           },
           "zaxis": {
            "backgroundcolor": "#E5ECF6",
            "gridcolor": "white",
            "gridwidth": 2,
            "linecolor": "white",
            "showbackground": true,
            "ticks": "",
            "zerolinecolor": "white"
           }
          },
          "shapedefaults": {
           "line": {
            "color": "#2a3f5f"
           }
          },
          "ternary": {
           "aaxis": {
            "gridcolor": "white",
            "linecolor": "white",
            "ticks": ""
           },
           "baxis": {
            "gridcolor": "white",
            "linecolor": "white",
            "ticks": ""
           },
           "bgcolor": "#E5ECF6",
           "caxis": {
            "gridcolor": "white",
            "linecolor": "white",
            "ticks": ""
           }
          },
          "title": {
           "x": 0.05
          },
          "xaxis": {
           "automargin": true,
           "gridcolor": "white",
           "linecolor": "white",
           "ticks": "",
           "title": {
            "standoff": 15
           },
           "zerolinecolor": "white",
           "zerolinewidth": 2
          },
          "yaxis": {
           "automargin": true,
           "gridcolor": "white",
           "linecolor": "white",
           "ticks": "",
           "title": {
            "standoff": 15
           },
           "zerolinecolor": "white",
           "zerolinewidth": 2
          }
         }
        },
        "title": {
         "text": "Feature Correlation Matrix"
        },
        "width": 800,
        "xaxis": {
         "showgrid": false
        },
        "yaxis": {
         "showgrid": false
        }
       }
      }
     },
     "metadata": {},
     "output_type": "display_data"
    }
   ],
   "source": [
    "import plotly.graph_objects as go\n",
    "import plotly.express as px\n",
    "\n",
    "# Add correlation heatmap using plotly\n",
    "correlation_matrix = df.select_dtypes(include=[np.number]).corr()\n",
    "\n",
    "fig = go.Figure(data=go.Heatmap(\n",
    "    z=correlation_matrix,\n",
    "    x=correlation_matrix.columns,\n",
    "    y=correlation_matrix.columns,\n",
    "    colorscale='RdBu',\n",
    "    zmid=0,\n",
    "    text=np.round(correlation_matrix.values, 2),\n",
    "    texttemplate=\"%{text}\",\n",
    "    textfont={\"size\": 10},\n",
    "    hoverongaps=False,\n",
    "    hovertemplate='<b>%{x}</b> vs <b>%{y}</b><br>Correlation: %{z:.3f}<extra></extra>'\n",
    "))\n",
    "\n",
    "fig.update_layout(\n",
    "    title='Feature Correlation Matrix',\n",
    "    width=800,\n",
    "    height=600,\n",
    "    xaxis={'showgrid': False},\n",
    "    yaxis={'showgrid': False}\n",
    ")\n",
    "\n",
    "fig.show()"
   ]
  },
  {
   "cell_type": "code",
   "execution_count": null,
   "id": "3cb72a47",
   "metadata": {},
   "outputs": [
    {
     "data": {
      "application/vnd.plotly.v1+json": {
       "config": {
        "plotlyServerURL": "https://plot.ly"
       },
       "data": [
        {
         "hovertemplate": "Gender: %{x}<br>Count: %{y}<extra></extra>",
         "legendgroup": "Male",
         "marker": {
          "color": "rgb(141,211,199)",
          "pattern": {
           "shape": ""
          }
         },
         "name": "Male",
         "orientation": "v",
         "showlegend": true,
         "textposition": "outside",
         "texttemplate": "%{y}",
         "type": "bar",
         "x": [
          "Male"
         ],
         "xaxis": "x",
         "y": {
          "bdata": "NwE=",
          "dtype": "i2"
         },
         "yaxis": "y"
        },
        {
         "hovertemplate": "Gender: %{x}<br>Count: %{y}<extra></extra>",
         "legendgroup": "Female",
         "marker": {
          "color": "rgb(255,255,179)",
          "pattern": {
           "shape": ""
          }
         },
         "name": "Female",
         "orientation": "v",
         "showlegend": true,
         "textposition": "outside",
         "texttemplate": "%{y}",
         "type": "bar",
         "x": [
          "Female"
         ],
         "xaxis": "x",
         "y": {
          "bdata": "vQA=",
          "dtype": "i2"
         },
         "yaxis": "y"
        }
       ],
       "layout": {
        "barmode": "relative",
        "height": 400,
        "legend": {
         "title": {
          "text": "Gender"
         },
         "tracegroupgap": 0
        },
        "showlegend": false,
        "template": {
         "data": {
          "bar": [
           {
            "error_x": {
             "color": "#2a3f5f"
            },
            "error_y": {
             "color": "#2a3f5f"
            },
            "marker": {
             "line": {
              "color": "#E5ECF6",
              "width": 0.5
             },
             "pattern": {
              "fillmode": "overlay",
              "size": 10,
              "solidity": 0.2
             }
            },
            "type": "bar"
           }
          ],
          "barpolar": [
           {
            "marker": {
             "line": {
              "color": "#E5ECF6",
              "width": 0.5
             },
             "pattern": {
              "fillmode": "overlay",
              "size": 10,
              "solidity": 0.2
             }
            },
            "type": "barpolar"
           }
          ],
          "carpet": [
           {
            "aaxis": {
             "endlinecolor": "#2a3f5f",
             "gridcolor": "white",
             "linecolor": "white",
             "minorgridcolor": "white",
             "startlinecolor": "#2a3f5f"
            },
            "baxis": {
             "endlinecolor": "#2a3f5f",
             "gridcolor": "white",
             "linecolor": "white",
             "minorgridcolor": "white",
             "startlinecolor": "#2a3f5f"
            },
            "type": "carpet"
           }
          ],
          "choropleth": [
           {
            "colorbar": {
             "outlinewidth": 0,
             "ticks": ""
            },
            "type": "choropleth"
           }
          ],
          "contour": [
           {
            "colorbar": {
             "outlinewidth": 0,
             "ticks": ""
            },
            "colorscale": [
             [
              0,
              "#0d0887"
             ],
             [
              0.1111111111111111,
              "#46039f"
             ],
             [
              0.2222222222222222,
              "#7201a8"
             ],
             [
              0.3333333333333333,
              "#9c179e"
             ],
             [
              0.4444444444444444,
              "#bd3786"
             ],
             [
              0.5555555555555556,
              "#d8576b"
             ],
             [
              0.6666666666666666,
              "#ed7953"
             ],
             [
              0.7777777777777778,
              "#fb9f3a"
             ],
             [
              0.8888888888888888,
              "#fdca26"
             ],
             [
              1,
              "#f0f921"
             ]
            ],
            "type": "contour"
           }
          ],
          "contourcarpet": [
           {
            "colorbar": {
             "outlinewidth": 0,
             "ticks": ""
            },
            "type": "contourcarpet"
           }
          ],
          "heatmap": [
           {
            "colorbar": {
             "outlinewidth": 0,
             "ticks": ""
            },
            "colorscale": [
             [
              0,
              "#0d0887"
             ],
             [
              0.1111111111111111,
              "#46039f"
             ],
             [
              0.2222222222222222,
              "#7201a8"
             ],
             [
              0.3333333333333333,
              "#9c179e"
             ],
             [
              0.4444444444444444,
              "#bd3786"
             ],
             [
              0.5555555555555556,
              "#d8576b"
             ],
             [
              0.6666666666666666,
              "#ed7953"
             ],
             [
              0.7777777777777778,
              "#fb9f3a"
             ],
             [
              0.8888888888888888,
              "#fdca26"
             ],
             [
              1,
              "#f0f921"
             ]
            ],
            "type": "heatmap"
           }
          ],
          "histogram": [
           {
            "marker": {
             "pattern": {
              "fillmode": "overlay",
              "size": 10,
              "solidity": 0.2
             }
            },
            "type": "histogram"
           }
          ],
          "histogram2d": [
           {
            "colorbar": {
             "outlinewidth": 0,
             "ticks": ""
            },
            "colorscale": [
             [
              0,
              "#0d0887"
             ],
             [
              0.1111111111111111,
              "#46039f"
             ],
             [
              0.2222222222222222,
              "#7201a8"
             ],
             [
              0.3333333333333333,
              "#9c179e"
             ],
             [
              0.4444444444444444,
              "#bd3786"
             ],
             [
              0.5555555555555556,
              "#d8576b"
             ],
             [
              0.6666666666666666,
              "#ed7953"
             ],
             [
              0.7777777777777778,
              "#fb9f3a"
             ],
             [
              0.8888888888888888,
              "#fdca26"
             ],
             [
              1,
              "#f0f921"
             ]
            ],
            "type": "histogram2d"
           }
          ],
          "histogram2dcontour": [
           {
            "colorbar": {
             "outlinewidth": 0,
             "ticks": ""
            },
            "colorscale": [
             [
              0,
              "#0d0887"
             ],
             [
              0.1111111111111111,
              "#46039f"
             ],
             [
              0.2222222222222222,
              "#7201a8"
             ],
             [
              0.3333333333333333,
              "#9c179e"
             ],
             [
              0.4444444444444444,
              "#bd3786"
             ],
             [
              0.5555555555555556,
              "#d8576b"
             ],
             [
              0.6666666666666666,
              "#ed7953"
             ],
             [
              0.7777777777777778,
              "#fb9f3a"
             ],
             [
              0.8888888888888888,
              "#fdca26"
             ],
             [
              1,
              "#f0f921"
             ]
            ],
            "type": "histogram2dcontour"
           }
          ],
          "mesh3d": [
           {
            "colorbar": {
             "outlinewidth": 0,
             "ticks": ""
            },
            "type": "mesh3d"
           }
          ],
          "parcoords": [
           {
            "line": {
             "colorbar": {
              "outlinewidth": 0,
              "ticks": ""
             }
            },
            "type": "parcoords"
           }
          ],
          "pie": [
           {
            "automargin": true,
            "type": "pie"
           }
          ],
          "scatter": [
           {
            "fillpattern": {
             "fillmode": "overlay",
             "size": 10,
             "solidity": 0.2
            },
            "type": "scatter"
           }
          ],
          "scatter3d": [
           {
            "line": {
             "colorbar": {
              "outlinewidth": 0,
              "ticks": ""
             }
            },
            "marker": {
             "colorbar": {
              "outlinewidth": 0,
              "ticks": ""
             }
            },
            "type": "scatter3d"
           }
          ],
          "scattercarpet": [
           {
            "marker": {
             "colorbar": {
              "outlinewidth": 0,
              "ticks": ""
             }
            },
            "type": "scattercarpet"
           }
          ],
          "scattergeo": [
           {
            "marker": {
             "colorbar": {
              "outlinewidth": 0,
              "ticks": ""
             }
            },
            "type": "scattergeo"
           }
          ],
          "scattergl": [
           {
            "marker": {
             "colorbar": {
              "outlinewidth": 0,
              "ticks": ""
             }
            },
            "type": "scattergl"
           }
          ],
          "scattermap": [
           {
            "marker": {
             "colorbar": {
              "outlinewidth": 0,
              "ticks": ""
             }
            },
            "type": "scattermap"
           }
          ],
          "scattermapbox": [
           {
            "marker": {
             "colorbar": {
              "outlinewidth": 0,
              "ticks": ""
             }
            },
            "type": "scattermapbox"
           }
          ],
          "scatterpolar": [
           {
            "marker": {
             "colorbar": {
              "outlinewidth": 0,
              "ticks": ""
             }
            },
            "type": "scatterpolar"
           }
          ],
          "scatterpolargl": [
           {
            "marker": {
             "colorbar": {
              "outlinewidth": 0,
              "ticks": ""
             }
            },
            "type": "scatterpolargl"
           }
          ],
          "scatterternary": [
           {
            "marker": {
             "colorbar": {
              "outlinewidth": 0,
              "ticks": ""
             }
            },
            "type": "scatterternary"
           }
          ],
          "surface": [
           {
            "colorbar": {
             "outlinewidth": 0,
             "ticks": ""
            },
            "colorscale": [
             [
              0,
              "#0d0887"
             ],
             [
              0.1111111111111111,
              "#46039f"
             ],
             [
              0.2222222222222222,
              "#7201a8"
             ],
             [
              0.3333333333333333,
              "#9c179e"
             ],
             [
              0.4444444444444444,
              "#bd3786"
             ],
             [
              0.5555555555555556,
              "#d8576b"
             ],
             [
              0.6666666666666666,
              "#ed7953"
             ],
             [
              0.7777777777777778,
              "#fb9f3a"
             ],
             [
              0.8888888888888888,
              "#fdca26"
             ],
             [
              1,
              "#f0f921"
             ]
            ],
            "type": "surface"
           }
          ],
          "table": [
           {
            "cells": {
             "fill": {
              "color": "#EBF0F8"
             },
             "line": {
              "color": "white"
             }
            },
            "header": {
             "fill": {
              "color": "#C8D4E3"
             },
             "line": {
              "color": "white"
             }
            },
            "type": "table"
           }
          ]
         },
         "layout": {
          "annotationdefaults": {
           "arrowcolor": "#2a3f5f",
           "arrowhead": 0,
           "arrowwidth": 1
          },
          "autotypenumbers": "strict",
          "coloraxis": {
           "colorbar": {
            "outlinewidth": 0,
            "ticks": ""
           }
          },
          "colorscale": {
           "diverging": [
            [
             0,
             "#8e0152"
            ],
            [
             0.1,
             "#c51b7d"
            ],
            [
             0.2,
             "#de77ae"
            ],
            [
             0.3,
             "#f1b6da"
            ],
            [
             0.4,
             "#fde0ef"
            ],
            [
             0.5,
             "#f7f7f7"
            ],
            [
             0.6,
             "#e6f5d0"
            ],
            [
             0.7,
             "#b8e186"
            ],
            [
             0.8,
             "#7fbc41"
            ],
            [
             0.9,
             "#4d9221"
            ],
            [
             1,
             "#276419"
            ]
           ],
           "sequential": [
            [
             0,
             "#0d0887"
            ],
            [
             0.1111111111111111,
             "#46039f"
            ],
            [
             0.2222222222222222,
             "#7201a8"
            ],
            [
             0.3333333333333333,
             "#9c179e"
            ],
            [
             0.4444444444444444,
             "#bd3786"
            ],
            [
             0.5555555555555556,
             "#d8576b"
            ],
            [
             0.6666666666666666,
             "#ed7953"
            ],
            [
             0.7777777777777778,
             "#fb9f3a"
            ],
            [
             0.8888888888888888,
             "#fdca26"
            ],
            [
             1,
             "#f0f921"
            ]
           ],
           "sequentialminus": [
            [
             0,
             "#0d0887"
            ],
            [
             0.1111111111111111,
             "#46039f"
            ],
            [
             0.2222222222222222,
             "#7201a8"
            ],
            [
             0.3333333333333333,
             "#9c179e"
            ],
            [
             0.4444444444444444,
             "#bd3786"
            ],
            [
             0.5555555555555556,
             "#d8576b"
            ],
            [
             0.6666666666666666,
             "#ed7953"
            ],
            [
             0.7777777777777778,
             "#fb9f3a"
            ],
            [
             0.8888888888888888,
             "#fdca26"
            ],
            [
             1,
             "#f0f921"
            ]
           ]
          },
          "colorway": [
           "#636efa",
           "#EF553B",
           "#00cc96",
           "#ab63fa",
           "#FFA15A",
           "#19d3f3",
           "#FF6692",
           "#B6E880",
           "#FF97FF",
           "#FECB52"
          ],
          "font": {
           "color": "#2a3f5f"
          },
          "geo": {
           "bgcolor": "white",
           "lakecolor": "white",
           "landcolor": "#E5ECF6",
           "showlakes": true,
           "showland": true,
           "subunitcolor": "white"
          },
          "hoverlabel": {
           "align": "left"
          },
          "hovermode": "closest",
          "mapbox": {
           "style": "light"
          },
          "paper_bgcolor": "white",
          "plot_bgcolor": "#E5ECF6",
          "polar": {
           "angularaxis": {
            "gridcolor": "white",
            "linecolor": "white",
            "ticks": ""
           },
           "bgcolor": "#E5ECF6",
           "radialaxis": {
            "gridcolor": "white",
            "linecolor": "white",
            "ticks": ""
           }
          },
          "scene": {
           "xaxis": {
            "backgroundcolor": "#E5ECF6",
            "gridcolor": "white",
            "gridwidth": 2,
            "linecolor": "white",
            "showbackground": true,
            "ticks": "",
            "zerolinecolor": "white"
           },
           "yaxis": {
            "backgroundcolor": "#E5ECF6",
            "gridcolor": "white",
            "gridwidth": 2,
            "linecolor": "white",
            "showbackground": true,
            "ticks": "",
            "zerolinecolor": "white"
           },
           "zaxis": {
            "backgroundcolor": "#E5ECF6",
            "gridcolor": "white",
            "gridwidth": 2,
            "linecolor": "white",
            "showbackground": true,
            "ticks": "",
            "zerolinecolor": "white"
           }
          },
          "shapedefaults": {
           "line": {
            "color": "#2a3f5f"
           }
          },
          "ternary": {
           "aaxis": {
            "gridcolor": "white",
            "linecolor": "white",
            "ticks": ""
           },
           "baxis": {
            "gridcolor": "white",
            "linecolor": "white",
            "ticks": ""
           },
           "bgcolor": "#E5ECF6",
           "caxis": {
            "gridcolor": "white",
            "linecolor": "white",
            "ticks": ""
           }
          },
          "title": {
           "x": 0.05
          },
          "xaxis": {
           "automargin": true,
           "gridcolor": "white",
           "linecolor": "white",
           "ticks": "",
           "title": {
            "standoff": 15
           },
           "zerolinecolor": "white",
           "zerolinewidth": 2
          },
          "yaxis": {
           "automargin": true,
           "gridcolor": "white",
           "linecolor": "white",
           "ticks": "",
           "title": {
            "standoff": 15
           },
           "zerolinecolor": "white",
           "zerolinewidth": 2
          }
         }
        },
        "title": {
         "text": "Gender Distribution"
        },
        "width": 600,
        "xaxis": {
         "anchor": "y",
         "categoryarray": [
          "Male",
          "Female"
         ],
         "categoryorder": "array",
         "domain": [
          0,
          1
         ],
         "title": {
          "text": "Gender"
         }
        },
        "yaxis": {
         "anchor": "x",
         "domain": [
          0,
          1
         ],
         "title": {
          "text": "Count"
         }
        }
       }
      }
     },
     "metadata": {},
     "output_type": "display_data"
    },
    {
     "data": {
      "application/vnd.plotly.v1+json": {
       "config": {
        "plotlyServerURL": "https://plot.ly"
       },
       "data": [
        {
         "hovertemplate": "Employment_Type: %{x}<br>Count: %{y}<extra></extra>",
         "legendgroup": "Salaried",
         "marker": {
          "color": "rgb(141,211,199)",
          "pattern": {
           "shape": ""
          }
         },
         "name": "Salaried",
         "orientation": "v",
         "showlegend": true,
         "textposition": "outside",
         "texttemplate": "%{y}",
         "type": "bar",
         "x": [
          "Salaried"
         ],
         "xaxis": "x",
         "y": {
          "bdata": "JAE=",
          "dtype": "i2"
         },
         "yaxis": "y"
        },
        {
         "hovertemplate": "Employment_Type: %{x}<br>Count: %{y}<extra></extra>",
         "legendgroup": "Self-Employed",
         "marker": {
          "color": "rgb(255,255,179)",
          "pattern": {
           "shape": ""
          }
         },
         "name": "Self-Employed",
         "orientation": "v",
         "showlegend": true,
         "textposition": "outside",
         "texttemplate": "%{y}",
         "type": "bar",
         "x": [
          "Self-Employed"
         ],
         "xaxis": "x",
         "y": {
          "bdata": "mwA=",
          "dtype": "i2"
         },
         "yaxis": "y"
        },
        {
         "hovertemplate": "Employment_Type: %{x}<br>Count: %{y}<extra></extra>",
         "legendgroup": "Business Owner",
         "marker": {
          "color": "rgb(190,186,218)",
          "pattern": {
           "shape": ""
          }
         },
         "name": "Business Owner",
         "orientation": "v",
         "showlegend": true,
         "textposition": "outside",
         "texttemplate": "%{y}",
         "type": "bar",
         "x": [
          "Business Owner"
         ],
         "xaxis": "x",
         "y": {
          "bdata": "NQ==",
          "dtype": "i1"
         },
         "yaxis": "y"
        }
       ],
       "layout": {
        "barmode": "relative",
        "height": 400,
        "legend": {
         "title": {
          "text": "Employment_Type"
         },
         "tracegroupgap": 0
        },
        "showlegend": false,
        "template": {
         "data": {
          "bar": [
           {
            "error_x": {
             "color": "#2a3f5f"
            },
            "error_y": {
             "color": "#2a3f5f"
            },
            "marker": {
             "line": {
              "color": "#E5ECF6",
              "width": 0.5
             },
             "pattern": {
              "fillmode": "overlay",
              "size": 10,
              "solidity": 0.2
             }
            },
            "type": "bar"
           }
          ],
          "barpolar": [
           {
            "marker": {
             "line": {
              "color": "#E5ECF6",
              "width": 0.5
             },
             "pattern": {
              "fillmode": "overlay",
              "size": 10,
              "solidity": 0.2
             }
            },
            "type": "barpolar"
           }
          ],
          "carpet": [
           {
            "aaxis": {
             "endlinecolor": "#2a3f5f",
             "gridcolor": "white",
             "linecolor": "white",
             "minorgridcolor": "white",
             "startlinecolor": "#2a3f5f"
            },
            "baxis": {
             "endlinecolor": "#2a3f5f",
             "gridcolor": "white",
             "linecolor": "white",
             "minorgridcolor": "white",
             "startlinecolor": "#2a3f5f"
            },
            "type": "carpet"
           }
          ],
          "choropleth": [
           {
            "colorbar": {
             "outlinewidth": 0,
             "ticks": ""
            },
            "type": "choropleth"
           }
          ],
          "contour": [
           {
            "colorbar": {
             "outlinewidth": 0,
             "ticks": ""
            },
            "colorscale": [
             [
              0,
              "#0d0887"
             ],
             [
              0.1111111111111111,
              "#46039f"
             ],
             [
              0.2222222222222222,
              "#7201a8"
             ],
             [
              0.3333333333333333,
              "#9c179e"
             ],
             [
              0.4444444444444444,
              "#bd3786"
             ],
             [
              0.5555555555555556,
              "#d8576b"
             ],
             [
              0.6666666666666666,
              "#ed7953"
             ],
             [
              0.7777777777777778,
              "#fb9f3a"
             ],
             [
              0.8888888888888888,
              "#fdca26"
             ],
             [
              1,
              "#f0f921"
             ]
            ],
            "type": "contour"
           }
          ],
          "contourcarpet": [
           {
            "colorbar": {
             "outlinewidth": 0,
             "ticks": ""
            },
            "type": "contourcarpet"
           }
          ],
          "heatmap": [
           {
            "colorbar": {
             "outlinewidth": 0,
             "ticks": ""
            },
            "colorscale": [
             [
              0,
              "#0d0887"
             ],
             [
              0.1111111111111111,
              "#46039f"
             ],
             [
              0.2222222222222222,
              "#7201a8"
             ],
             [
              0.3333333333333333,
              "#9c179e"
             ],
             [
              0.4444444444444444,
              "#bd3786"
             ],
             [
              0.5555555555555556,
              "#d8576b"
             ],
             [
              0.6666666666666666,
              "#ed7953"
             ],
             [
              0.7777777777777778,
              "#fb9f3a"
             ],
             [
              0.8888888888888888,
              "#fdca26"
             ],
             [
              1,
              "#f0f921"
             ]
            ],
            "type": "heatmap"
           }
          ],
          "histogram": [
           {
            "marker": {
             "pattern": {
              "fillmode": "overlay",
              "size": 10,
              "solidity": 0.2
             }
            },
            "type": "histogram"
           }
          ],
          "histogram2d": [
           {
            "colorbar": {
             "outlinewidth": 0,
             "ticks": ""
            },
            "colorscale": [
             [
              0,
              "#0d0887"
             ],
             [
              0.1111111111111111,
              "#46039f"
             ],
             [
              0.2222222222222222,
              "#7201a8"
             ],
             [
              0.3333333333333333,
              "#9c179e"
             ],
             [
              0.4444444444444444,
              "#bd3786"
             ],
             [
              0.5555555555555556,
              "#d8576b"
             ],
             [
              0.6666666666666666,
              "#ed7953"
             ],
             [
              0.7777777777777778,
              "#fb9f3a"
             ],
             [
              0.8888888888888888,
              "#fdca26"
             ],
             [
              1,
              "#f0f921"
             ]
            ],
            "type": "histogram2d"
           }
          ],
          "histogram2dcontour": [
           {
            "colorbar": {
             "outlinewidth": 0,
             "ticks": ""
            },
            "colorscale": [
             [
              0,
              "#0d0887"
             ],
             [
              0.1111111111111111,
              "#46039f"
             ],
             [
              0.2222222222222222,
              "#7201a8"
             ],
             [
              0.3333333333333333,
              "#9c179e"
             ],
             [
              0.4444444444444444,
              "#bd3786"
             ],
             [
              0.5555555555555556,
              "#d8576b"
             ],
             [
              0.6666666666666666,
              "#ed7953"
             ],
             [
              0.7777777777777778,
              "#fb9f3a"
             ],
             [
              0.8888888888888888,
              "#fdca26"
             ],
             [
              1,
              "#f0f921"
             ]
            ],
            "type": "histogram2dcontour"
           }
          ],
          "mesh3d": [
           {
            "colorbar": {
             "outlinewidth": 0,
             "ticks": ""
            },
            "type": "mesh3d"
           }
          ],
          "parcoords": [
           {
            "line": {
             "colorbar": {
              "outlinewidth": 0,
              "ticks": ""
             }
            },
            "type": "parcoords"
           }
          ],
          "pie": [
           {
            "automargin": true,
            "type": "pie"
           }
          ],
          "scatter": [
           {
            "fillpattern": {
             "fillmode": "overlay",
             "size": 10,
             "solidity": 0.2
            },
            "type": "scatter"
           }
          ],
          "scatter3d": [
           {
            "line": {
             "colorbar": {
              "outlinewidth": 0,
              "ticks": ""
             }
            },
            "marker": {
             "colorbar": {
              "outlinewidth": 0,
              "ticks": ""
             }
            },
            "type": "scatter3d"
           }
          ],
          "scattercarpet": [
           {
            "marker": {
             "colorbar": {
              "outlinewidth": 0,
              "ticks": ""
             }
            },
            "type": "scattercarpet"
           }
          ],
          "scattergeo": [
           {
            "marker": {
             "colorbar": {
              "outlinewidth": 0,
              "ticks": ""
             }
            },
            "type": "scattergeo"
           }
          ],
          "scattergl": [
           {
            "marker": {
             "colorbar": {
              "outlinewidth": 0,
              "ticks": ""
             }
            },
            "type": "scattergl"
           }
          ],
          "scattermap": [
           {
            "marker": {
             "colorbar": {
              "outlinewidth": 0,
              "ticks": ""
             }
            },
            "type": "scattermap"
           }
          ],
          "scattermapbox": [
           {
            "marker": {
             "colorbar": {
              "outlinewidth": 0,
              "ticks": ""
             }
            },
            "type": "scattermapbox"
           }
          ],
          "scatterpolar": [
           {
            "marker": {
             "colorbar": {
              "outlinewidth": 0,
              "ticks": ""
             }
            },
            "type": "scatterpolar"
           }
          ],
          "scatterpolargl": [
           {
            "marker": {
             "colorbar": {
              "outlinewidth": 0,
              "ticks": ""
             }
            },
            "type": "scatterpolargl"
           }
          ],
          "scatterternary": [
           {
            "marker": {
             "colorbar": {
              "outlinewidth": 0,
              "ticks": ""
             }
            },
            "type": "scatterternary"
           }
          ],
          "surface": [
           {
            "colorbar": {
             "outlinewidth": 0,
             "ticks": ""
            },
            "colorscale": [
             [
              0,
              "#0d0887"
             ],
             [
              0.1111111111111111,
              "#46039f"
             ],
             [
              0.2222222222222222,
              "#7201a8"
             ],
             [
              0.3333333333333333,
              "#9c179e"
             ],
             [
              0.4444444444444444,
              "#bd3786"
             ],
             [
              0.5555555555555556,
              "#d8576b"
             ],
             [
              0.6666666666666666,
              "#ed7953"
             ],
             [
              0.7777777777777778,
              "#fb9f3a"
             ],
             [
              0.8888888888888888,
              "#fdca26"
             ],
             [
              1,
              "#f0f921"
             ]
            ],
            "type": "surface"
           }
          ],
          "table": [
           {
            "cells": {
             "fill": {
              "color": "#EBF0F8"
             },
             "line": {
              "color": "white"
             }
            },
            "header": {
             "fill": {
              "color": "#C8D4E3"
             },
             "line": {
              "color": "white"
             }
            },
            "type": "table"
           }
          ]
         },
         "layout": {
          "annotationdefaults": {
           "arrowcolor": "#2a3f5f",
           "arrowhead": 0,
           "arrowwidth": 1
          },
          "autotypenumbers": "strict",
          "coloraxis": {
           "colorbar": {
            "outlinewidth": 0,
            "ticks": ""
           }
          },
          "colorscale": {
           "diverging": [
            [
             0,
             "#8e0152"
            ],
            [
             0.1,
             "#c51b7d"
            ],
            [
             0.2,
             "#de77ae"
            ],
            [
             0.3,
             "#f1b6da"
            ],
            [
             0.4,
             "#fde0ef"
            ],
            [
             0.5,
             "#f7f7f7"
            ],
            [
             0.6,
             "#e6f5d0"
            ],
            [
             0.7,
             "#b8e186"
            ],
            [
             0.8,
             "#7fbc41"
            ],
            [
             0.9,
             "#4d9221"
            ],
            [
             1,
             "#276419"
            ]
           ],
           "sequential": [
            [
             0,
             "#0d0887"
            ],
            [
             0.1111111111111111,
             "#46039f"
            ],
            [
             0.2222222222222222,
             "#7201a8"
            ],
            [
             0.3333333333333333,
             "#9c179e"
            ],
            [
             0.4444444444444444,
             "#bd3786"
            ],
            [
             0.5555555555555556,
             "#d8576b"
            ],
            [
             0.6666666666666666,
             "#ed7953"
            ],
            [
             0.7777777777777778,
             "#fb9f3a"
            ],
            [
             0.8888888888888888,
             "#fdca26"
            ],
            [
             1,
             "#f0f921"
            ]
           ],
           "sequentialminus": [
            [
             0,
             "#0d0887"
            ],
            [
             0.1111111111111111,
             "#46039f"
            ],
            [
             0.2222222222222222,
             "#7201a8"
            ],
            [
             0.3333333333333333,
             "#9c179e"
            ],
            [
             0.4444444444444444,
             "#bd3786"
            ],
            [
             0.5555555555555556,
             "#d8576b"
            ],
            [
             0.6666666666666666,
             "#ed7953"
            ],
            [
             0.7777777777777778,
             "#fb9f3a"
            ],
            [
             0.8888888888888888,
             "#fdca26"
            ],
            [
             1,
             "#f0f921"
            ]
           ]
          },
          "colorway": [
           "#636efa",
           "#EF553B",
           "#00cc96",
           "#ab63fa",
           "#FFA15A",
           "#19d3f3",
           "#FF6692",
           "#B6E880",
           "#FF97FF",
           "#FECB52"
          ],
          "font": {
           "color": "#2a3f5f"
          },
          "geo": {
           "bgcolor": "white",
           "lakecolor": "white",
           "landcolor": "#E5ECF6",
           "showlakes": true,
           "showland": true,
           "subunitcolor": "white"
          },
          "hoverlabel": {
           "align": "left"
          },
          "hovermode": "closest",
          "mapbox": {
           "style": "light"
          },
          "paper_bgcolor": "white",
          "plot_bgcolor": "#E5ECF6",
          "polar": {
           "angularaxis": {
            "gridcolor": "white",
            "linecolor": "white",
            "ticks": ""
           },
           "bgcolor": "#E5ECF6",
           "radialaxis": {
            "gridcolor": "white",
            "linecolor": "white",
            "ticks": ""
           }
          },
          "scene": {
           "xaxis": {
            "backgroundcolor": "#E5ECF6",
            "gridcolor": "white",
            "gridwidth": 2,
            "linecolor": "white",
            "showbackground": true,
            "ticks": "",
            "zerolinecolor": "white"
           },
           "yaxis": {
            "backgroundcolor": "#E5ECF6",
            "gridcolor": "white",
            "gridwidth": 2,
            "linecolor": "white",
            "showbackground": true,
            "ticks": "",
            "zerolinecolor": "white"
           },
           "zaxis": {
            "backgroundcolor": "#E5ECF6",
            "gridcolor": "white",
            "gridwidth": 2,
            "linecolor": "white",
            "showbackground": true,
            "ticks": "",
            "zerolinecolor": "white"
           }
          },
          "shapedefaults": {
           "line": {
            "color": "#2a3f5f"
           }
          },
          "ternary": {
           "aaxis": {
            "gridcolor": "white",
            "linecolor": "white",
            "ticks": ""
           },
           "baxis": {
            "gridcolor": "white",
            "linecolor": "white",
            "ticks": ""
           },
           "bgcolor": "#E5ECF6",
           "caxis": {
            "gridcolor": "white",
            "linecolor": "white",
            "ticks": ""
           }
          },
          "title": {
           "x": 0.05
          },
          "xaxis": {
           "automargin": true,
           "gridcolor": "white",
           "linecolor": "white",
           "ticks": "",
           "title": {
            "standoff": 15
           },
           "zerolinecolor": "white",
           "zerolinewidth": 2
          },
          "yaxis": {
           "automargin": true,
           "gridcolor": "white",
           "linecolor": "white",
           "ticks": "",
           "title": {
            "standoff": 15
           },
           "zerolinecolor": "white",
           "zerolinewidth": 2
          }
         }
        },
        "title": {
         "text": "Employment_Type Distribution"
        },
        "width": 600,
        "xaxis": {
         "anchor": "y",
         "categoryarray": [
          "Salaried",
          "Self-Employed",
          "Business Owner"
         ],
         "categoryorder": "array",
         "domain": [
          0,
          1
         ],
         "title": {
          "text": "Employment_Type"
         }
        },
        "yaxis": {
         "anchor": "x",
         "domain": [
          0,
          1
         ],
         "title": {
          "text": "Count"
         }
        }
       }
      }
     },
     "metadata": {},
     "output_type": "display_data"
    },
    {
     "data": {
      "application/vnd.plotly.v1+json": {
       "config": {
        "plotlyServerURL": "https://plot.ly"
       },
       "data": [
        {
         "hovertemplate": "Loan_Type: %{x}<br>Count: %{y}<extra></extra>",
         "legendgroup": "Personal",
         "marker": {
          "color": "rgb(141,211,199)",
          "pattern": {
           "shape": ""
          }
         },
         "name": "Personal",
         "orientation": "v",
         "showlegend": true,
         "textposition": "outside",
         "texttemplate": "%{y}",
         "type": "bar",
         "x": [
          "Personal"
         ],
         "xaxis": "x",
         "y": {
          "bdata": "3AA=",
          "dtype": "i2"
         },
         "yaxis": "y"
        },
        {
         "hovertemplate": "Loan_Type: %{x}<br>Count: %{y}<extra></extra>",
         "legendgroup": "Home",
         "marker": {
          "color": "rgb(255,255,179)",
          "pattern": {
           "shape": ""
          }
         },
         "name": "Home",
         "orientation": "v",
         "showlegend": true,
         "textposition": "outside",
         "texttemplate": "%{y}",
         "type": "bar",
         "x": [
          "Home"
         ],
         "xaxis": "x",
         "y": {
          "bdata": "kAA=",
          "dtype": "i2"
         },
         "yaxis": "y"
        },
        {
         "hovertemplate": "Loan_Type: %{x}<br>Count: %{y}<extra></extra>",
         "legendgroup": "Auto",
         "marker": {
          "color": "rgb(190,186,218)",
          "pattern": {
           "shape": ""
          }
         },
         "name": "Auto",
         "orientation": "v",
         "showlegend": true,
         "textposition": "outside",
         "texttemplate": "%{y}",
         "type": "bar",
         "x": [
          "Auto"
         ],
         "xaxis": "x",
         "y": {
          "bdata": "Vw==",
          "dtype": "i1"
         },
         "yaxis": "y"
        },
        {
         "hovertemplate": "Loan_Type: %{x}<br>Count: %{y}<extra></extra>",
         "legendgroup": "Business",
         "marker": {
          "color": "rgb(251,128,114)",
          "pattern": {
           "shape": ""
          }
         },
         "name": "Business",
         "orientation": "v",
         "showlegend": true,
         "textposition": "outside",
         "texttemplate": "%{y}",
         "type": "bar",
         "x": [
          "Business"
         ],
         "xaxis": "x",
         "y": {
          "bdata": "MQ==",
          "dtype": "i1"
         },
         "yaxis": "y"
        }
       ],
       "layout": {
        "barmode": "relative",
        "height": 400,
        "legend": {
         "title": {
          "text": "Loan_Type"
         },
         "tracegroupgap": 0
        },
        "showlegend": false,
        "template": {
         "data": {
          "bar": [
           {
            "error_x": {
             "color": "#2a3f5f"
            },
            "error_y": {
             "color": "#2a3f5f"
            },
            "marker": {
             "line": {
              "color": "#E5ECF6",
              "width": 0.5
             },
             "pattern": {
              "fillmode": "overlay",
              "size": 10,
              "solidity": 0.2
             }
            },
            "type": "bar"
           }
          ],
          "barpolar": [
           {
            "marker": {
             "line": {
              "color": "#E5ECF6",
              "width": 0.5
             },
             "pattern": {
              "fillmode": "overlay",
              "size": 10,
              "solidity": 0.2
             }
            },
            "type": "barpolar"
           }
          ],
          "carpet": [
           {
            "aaxis": {
             "endlinecolor": "#2a3f5f",
             "gridcolor": "white",
             "linecolor": "white",
             "minorgridcolor": "white",
             "startlinecolor": "#2a3f5f"
            },
            "baxis": {
             "endlinecolor": "#2a3f5f",
             "gridcolor": "white",
             "linecolor": "white",
             "minorgridcolor": "white",
             "startlinecolor": "#2a3f5f"
            },
            "type": "carpet"
           }
          ],
          "choropleth": [
           {
            "colorbar": {
             "outlinewidth": 0,
             "ticks": ""
            },
            "type": "choropleth"
           }
          ],
          "contour": [
           {
            "colorbar": {
             "outlinewidth": 0,
             "ticks": ""
            },
            "colorscale": [
             [
              0,
              "#0d0887"
             ],
             [
              0.1111111111111111,
              "#46039f"
             ],
             [
              0.2222222222222222,
              "#7201a8"
             ],
             [
              0.3333333333333333,
              "#9c179e"
             ],
             [
              0.4444444444444444,
              "#bd3786"
             ],
             [
              0.5555555555555556,
              "#d8576b"
             ],
             [
              0.6666666666666666,
              "#ed7953"
             ],
             [
              0.7777777777777778,
              "#fb9f3a"
             ],
             [
              0.8888888888888888,
              "#fdca26"
             ],
             [
              1,
              "#f0f921"
             ]
            ],
            "type": "contour"
           }
          ],
          "contourcarpet": [
           {
            "colorbar": {
             "outlinewidth": 0,
             "ticks": ""
            },
            "type": "contourcarpet"
           }
          ],
          "heatmap": [
           {
            "colorbar": {
             "outlinewidth": 0,
             "ticks": ""
            },
            "colorscale": [
             [
              0,
              "#0d0887"
             ],
             [
              0.1111111111111111,
              "#46039f"
             ],
             [
              0.2222222222222222,
              "#7201a8"
             ],
             [
              0.3333333333333333,
              "#9c179e"
             ],
             [
              0.4444444444444444,
              "#bd3786"
             ],
             [
              0.5555555555555556,
              "#d8576b"
             ],
             [
              0.6666666666666666,
              "#ed7953"
             ],
             [
              0.7777777777777778,
              "#fb9f3a"
             ],
             [
              0.8888888888888888,
              "#fdca26"
             ],
             [
              1,
              "#f0f921"
             ]
            ],
            "type": "heatmap"
           }
          ],
          "histogram": [
           {
            "marker": {
             "pattern": {
              "fillmode": "overlay",
              "size": 10,
              "solidity": 0.2
             }
            },
            "type": "histogram"
           }
          ],
          "histogram2d": [
           {
            "colorbar": {
             "outlinewidth": 0,
             "ticks": ""
            },
            "colorscale": [
             [
              0,
              "#0d0887"
             ],
             [
              0.1111111111111111,
              "#46039f"
             ],
             [
              0.2222222222222222,
              "#7201a8"
             ],
             [
              0.3333333333333333,
              "#9c179e"
             ],
             [
              0.4444444444444444,
              "#bd3786"
             ],
             [
              0.5555555555555556,
              "#d8576b"
             ],
             [
              0.6666666666666666,
              "#ed7953"
             ],
             [
              0.7777777777777778,
              "#fb9f3a"
             ],
             [
              0.8888888888888888,
              "#fdca26"
             ],
             [
              1,
              "#f0f921"
             ]
            ],
            "type": "histogram2d"
           }
          ],
          "histogram2dcontour": [
           {
            "colorbar": {
             "outlinewidth": 0,
             "ticks": ""
            },
            "colorscale": [
             [
              0,
              "#0d0887"
             ],
             [
              0.1111111111111111,
              "#46039f"
             ],
             [
              0.2222222222222222,
              "#7201a8"
             ],
             [
              0.3333333333333333,
              "#9c179e"
             ],
             [
              0.4444444444444444,
              "#bd3786"
             ],
             [
              0.5555555555555556,
              "#d8576b"
             ],
             [
              0.6666666666666666,
              "#ed7953"
             ],
             [
              0.7777777777777778,
              "#fb9f3a"
             ],
             [
              0.8888888888888888,
              "#fdca26"
             ],
             [
              1,
              "#f0f921"
             ]
            ],
            "type": "histogram2dcontour"
           }
          ],
          "mesh3d": [
           {
            "colorbar": {
             "outlinewidth": 0,
             "ticks": ""
            },
            "type": "mesh3d"
           }
          ],
          "parcoords": [
           {
            "line": {
             "colorbar": {
              "outlinewidth": 0,
              "ticks": ""
             }
            },
            "type": "parcoords"
           }
          ],
          "pie": [
           {
            "automargin": true,
            "type": "pie"
           }
          ],
          "scatter": [
           {
            "fillpattern": {
             "fillmode": "overlay",
             "size": 10,
             "solidity": 0.2
            },
            "type": "scatter"
           }
          ],
          "scatter3d": [
           {
            "line": {
             "colorbar": {
              "outlinewidth": 0,
              "ticks": ""
             }
            },
            "marker": {
             "colorbar": {
              "outlinewidth": 0,
              "ticks": ""
             }
            },
            "type": "scatter3d"
           }
          ],
          "scattercarpet": [
           {
            "marker": {
             "colorbar": {
              "outlinewidth": 0,
              "ticks": ""
             }
            },
            "type": "scattercarpet"
           }
          ],
          "scattergeo": [
           {
            "marker": {
             "colorbar": {
              "outlinewidth": 0,
              "ticks": ""
             }
            },
            "type": "scattergeo"
           }
          ],
          "scattergl": [
           {
            "marker": {
             "colorbar": {
              "outlinewidth": 0,
              "ticks": ""
             }
            },
            "type": "scattergl"
           }
          ],
          "scattermap": [
           {
            "marker": {
             "colorbar": {
              "outlinewidth": 0,
              "ticks": ""
             }
            },
            "type": "scattermap"
           }
          ],
          "scattermapbox": [
           {
            "marker": {
             "colorbar": {
              "outlinewidth": 0,
              "ticks": ""
             }
            },
            "type": "scattermapbox"
           }
          ],
          "scatterpolar": [
           {
            "marker": {
             "colorbar": {
              "outlinewidth": 0,
              "ticks": ""
             }
            },
            "type": "scatterpolar"
           }
          ],
          "scatterpolargl": [
           {
            "marker": {
             "colorbar": {
              "outlinewidth": 0,
              "ticks": ""
             }
            },
            "type": "scatterpolargl"
           }
          ],
          "scatterternary": [
           {
            "marker": {
             "colorbar": {
              "outlinewidth": 0,
              "ticks": ""
             }
            },
            "type": "scatterternary"
           }
          ],
          "surface": [
           {
            "colorbar": {
             "outlinewidth": 0,
             "ticks": ""
            },
            "colorscale": [
             [
              0,
              "#0d0887"
             ],
             [
              0.1111111111111111,
              "#46039f"
             ],
             [
              0.2222222222222222,
              "#7201a8"
             ],
             [
              0.3333333333333333,
              "#9c179e"
             ],
             [
              0.4444444444444444,
              "#bd3786"
             ],
             [
              0.5555555555555556,
              "#d8576b"
             ],
             [
              0.6666666666666666,
              "#ed7953"
             ],
             [
              0.7777777777777778,
              "#fb9f3a"
             ],
             [
              0.8888888888888888,
              "#fdca26"
             ],
             [
              1,
              "#f0f921"
             ]
            ],
            "type": "surface"
           }
          ],
          "table": [
           {
            "cells": {
             "fill": {
              "color": "#EBF0F8"
             },
             "line": {
              "color": "white"
             }
            },
            "header": {
             "fill": {
              "color": "#C8D4E3"
             },
             "line": {
              "color": "white"
             }
            },
            "type": "table"
           }
          ]
         },
         "layout": {
          "annotationdefaults": {
           "arrowcolor": "#2a3f5f",
           "arrowhead": 0,
           "arrowwidth": 1
          },
          "autotypenumbers": "strict",
          "coloraxis": {
           "colorbar": {
            "outlinewidth": 0,
            "ticks": ""
           }
          },
          "colorscale": {
           "diverging": [
            [
             0,
             "#8e0152"
            ],
            [
             0.1,
             "#c51b7d"
            ],
            [
             0.2,
             "#de77ae"
            ],
            [
             0.3,
             "#f1b6da"
            ],
            [
             0.4,
             "#fde0ef"
            ],
            [
             0.5,
             "#f7f7f7"
            ],
            [
             0.6,
             "#e6f5d0"
            ],
            [
             0.7,
             "#b8e186"
            ],
            [
             0.8,
             "#7fbc41"
            ],
            [
             0.9,
             "#4d9221"
            ],
            [
             1,
             "#276419"
            ]
           ],
           "sequential": [
            [
             0,
             "#0d0887"
            ],
            [
             0.1111111111111111,
             "#46039f"
            ],
            [
             0.2222222222222222,
             "#7201a8"
            ],
            [
             0.3333333333333333,
             "#9c179e"
            ],
            [
             0.4444444444444444,
             "#bd3786"
            ],
            [
             0.5555555555555556,
             "#d8576b"
            ],
            [
             0.6666666666666666,
             "#ed7953"
            ],
            [
             0.7777777777777778,
             "#fb9f3a"
            ],
            [
             0.8888888888888888,
             "#fdca26"
            ],
            [
             1,
             "#f0f921"
            ]
           ],
           "sequentialminus": [
            [
             0,
             "#0d0887"
            ],
            [
             0.1111111111111111,
             "#46039f"
            ],
            [
             0.2222222222222222,
             "#7201a8"
            ],
            [
             0.3333333333333333,
             "#9c179e"
            ],
            [
             0.4444444444444444,
             "#bd3786"
            ],
            [
             0.5555555555555556,
             "#d8576b"
            ],
            [
             0.6666666666666666,
             "#ed7953"
            ],
            [
             0.7777777777777778,
             "#fb9f3a"
            ],
            [
             0.8888888888888888,
             "#fdca26"
            ],
            [
             1,
             "#f0f921"
            ]
           ]
          },
          "colorway": [
           "#636efa",
           "#EF553B",
           "#00cc96",
           "#ab63fa",
           "#FFA15A",
           "#19d3f3",
           "#FF6692",
           "#B6E880",
           "#FF97FF",
           "#FECB52"
          ],
          "font": {
           "color": "#2a3f5f"
          },
          "geo": {
           "bgcolor": "white",
           "lakecolor": "white",
           "landcolor": "#E5ECF6",
           "showlakes": true,
           "showland": true,
           "subunitcolor": "white"
          },
          "hoverlabel": {
           "align": "left"
          },
          "hovermode": "closest",
          "mapbox": {
           "style": "light"
          },
          "paper_bgcolor": "white",
          "plot_bgcolor": "#E5ECF6",
          "polar": {
           "angularaxis": {
            "gridcolor": "white",
            "linecolor": "white",
            "ticks": ""
           },
           "bgcolor": "#E5ECF6",
           "radialaxis": {
            "gridcolor": "white",
            "linecolor": "white",
            "ticks": ""
           }
          },
          "scene": {
           "xaxis": {
            "backgroundcolor": "#E5ECF6",
            "gridcolor": "white",
            "gridwidth": 2,
            "linecolor": "white",
            "showbackground": true,
            "ticks": "",
            "zerolinecolor": "white"
           },
           "yaxis": {
            "backgroundcolor": "#E5ECF6",
            "gridcolor": "white",
            "gridwidth": 2,
            "linecolor": "white",
            "showbackground": true,
            "ticks": "",
            "zerolinecolor": "white"
           },
           "zaxis": {
            "backgroundcolor": "#E5ECF6",
            "gridcolor": "white",
            "gridwidth": 2,
            "linecolor": "white",
            "showbackground": true,
            "ticks": "",
            "zerolinecolor": "white"
           }
          },
          "shapedefaults": {
           "line": {
            "color": "#2a3f5f"
           }
          },
          "ternary": {
           "aaxis": {
            "gridcolor": "white",
            "linecolor": "white",
            "ticks": ""
           },
           "baxis": {
            "gridcolor": "white",
            "linecolor": "white",
            "ticks": ""
           },
           "bgcolor": "#E5ECF6",
           "caxis": {
            "gridcolor": "white",
            "linecolor": "white",
            "ticks": ""
           }
          },
          "title": {
           "x": 0.05
          },
          "xaxis": {
           "automargin": true,
           "gridcolor": "white",
           "linecolor": "white",
           "ticks": "",
           "title": {
            "standoff": 15
           },
           "zerolinecolor": "white",
           "zerolinewidth": 2
          },
          "yaxis": {
           "automargin": true,
           "gridcolor": "white",
           "linecolor": "white",
           "ticks": "",
           "title": {
            "standoff": 15
           },
           "zerolinecolor": "white",
           "zerolinewidth": 2
          }
         }
        },
        "title": {
         "text": "Loan_Type Distribution"
        },
        "width": 600,
        "xaxis": {
         "anchor": "y",
         "categoryarray": [
          "Personal",
          "Home",
          "Auto",
          "Business"
         ],
         "categoryorder": "array",
         "domain": [
          0,
          1
         ],
         "title": {
          "text": "Loan_Type"
         }
        },
        "yaxis": {
         "anchor": "x",
         "domain": [
          0,
          1
         ],
         "title": {
          "text": "Count"
         }
        }
       }
      }
     },
     "metadata": {},
     "output_type": "display_data"
    },
    {
     "data": {
      "application/vnd.plotly.v1+json": {
       "config": {
        "plotlyServerURL": "https://plot.ly"
       },
       "data": [
        {
         "hovertemplate": "Payment_History: %{x}<br>Count: %{y}<extra></extra>",
         "legendgroup": "On-Time",
         "marker": {
          "color": "rgb(141,211,199)",
          "pattern": {
           "shape": ""
          }
         },
         "name": "On-Time",
         "orientation": "v",
         "showlegend": true,
         "textposition": "outside",
         "texttemplate": "%{y}",
         "type": "bar",
         "x": [
          "On-Time"
         ],
         "xaxis": "x",
         "y": {
          "bdata": "MgE=",
          "dtype": "i2"
         },
         "yaxis": "y"
        },
        {
         "hovertemplate": "Payment_History: %{x}<br>Count: %{y}<extra></extra>",
         "legendgroup": "Delayed",
         "marker": {
          "color": "rgb(255,255,179)",
          "pattern": {
           "shape": ""
          }
         },
         "name": "Delayed",
         "orientation": "v",
         "showlegend": true,
         "textposition": "outside",
         "texttemplate": "%{y}",
         "type": "bar",
         "x": [
          "Delayed"
         ],
         "xaxis": "x",
         "y": {
          "bdata": "jAA=",
          "dtype": "i2"
         },
         "yaxis": "y"
        },
        {
         "hovertemplate": "Payment_History: %{x}<br>Count: %{y}<extra></extra>",
         "legendgroup": "Missed",
         "marker": {
          "color": "rgb(190,186,218)",
          "pattern": {
           "shape": ""
          }
         },
         "name": "Missed",
         "orientation": "v",
         "showlegend": true,
         "textposition": "outside",
         "texttemplate": "%{y}",
         "type": "bar",
         "x": [
          "Missed"
         ],
         "xaxis": "x",
         "y": {
          "bdata": "Ng==",
          "dtype": "i1"
         },
         "yaxis": "y"
        }
       ],
       "layout": {
        "barmode": "relative",
        "height": 400,
        "legend": {
         "title": {
          "text": "Payment_History"
         },
         "tracegroupgap": 0
        },
        "showlegend": false,
        "template": {
         "data": {
          "bar": [
           {
            "error_x": {
             "color": "#2a3f5f"
            },
            "error_y": {
             "color": "#2a3f5f"
            },
            "marker": {
             "line": {
              "color": "#E5ECF6",
              "width": 0.5
             },
             "pattern": {
              "fillmode": "overlay",
              "size": 10,
              "solidity": 0.2
             }
            },
            "type": "bar"
           }
          ],
          "barpolar": [
           {
            "marker": {
             "line": {
              "color": "#E5ECF6",
              "width": 0.5
             },
             "pattern": {
              "fillmode": "overlay",
              "size": 10,
              "solidity": 0.2
             }
            },
            "type": "barpolar"
           }
          ],
          "carpet": [
           {
            "aaxis": {
             "endlinecolor": "#2a3f5f",
             "gridcolor": "white",
             "linecolor": "white",
             "minorgridcolor": "white",
             "startlinecolor": "#2a3f5f"
            },
            "baxis": {
             "endlinecolor": "#2a3f5f",
             "gridcolor": "white",
             "linecolor": "white",
             "minorgridcolor": "white",
             "startlinecolor": "#2a3f5f"
            },
            "type": "carpet"
           }
          ],
          "choropleth": [
           {
            "colorbar": {
             "outlinewidth": 0,
             "ticks": ""
            },
            "type": "choropleth"
           }
          ],
          "contour": [
           {
            "colorbar": {
             "outlinewidth": 0,
             "ticks": ""
            },
            "colorscale": [
             [
              0,
              "#0d0887"
             ],
             [
              0.1111111111111111,
              "#46039f"
             ],
             [
              0.2222222222222222,
              "#7201a8"
             ],
             [
              0.3333333333333333,
              "#9c179e"
             ],
             [
              0.4444444444444444,
              "#bd3786"
             ],
             [
              0.5555555555555556,
              "#d8576b"
             ],
             [
              0.6666666666666666,
              "#ed7953"
             ],
             [
              0.7777777777777778,
              "#fb9f3a"
             ],
             [
              0.8888888888888888,
              "#fdca26"
             ],
             [
              1,
              "#f0f921"
             ]
            ],
            "type": "contour"
           }
          ],
          "contourcarpet": [
           {
            "colorbar": {
             "outlinewidth": 0,
             "ticks": ""
            },
            "type": "contourcarpet"
           }
          ],
          "heatmap": [
           {
            "colorbar": {
             "outlinewidth": 0,
             "ticks": ""
            },
            "colorscale": [
             [
              0,
              "#0d0887"
             ],
             [
              0.1111111111111111,
              "#46039f"
             ],
             [
              0.2222222222222222,
              "#7201a8"
             ],
             [
              0.3333333333333333,
              "#9c179e"
             ],
             [
              0.4444444444444444,
              "#bd3786"
             ],
             [
              0.5555555555555556,
              "#d8576b"
             ],
             [
              0.6666666666666666,
              "#ed7953"
             ],
             [
              0.7777777777777778,
              "#fb9f3a"
             ],
             [
              0.8888888888888888,
              "#fdca26"
             ],
             [
              1,
              "#f0f921"
             ]
            ],
            "type": "heatmap"
           }
          ],
          "histogram": [
           {
            "marker": {
             "pattern": {
              "fillmode": "overlay",
              "size": 10,
              "solidity": 0.2
             }
            },
            "type": "histogram"
           }
          ],
          "histogram2d": [
           {
            "colorbar": {
             "outlinewidth": 0,
             "ticks": ""
            },
            "colorscale": [
             [
              0,
              "#0d0887"
             ],
             [
              0.1111111111111111,
              "#46039f"
             ],
             [
              0.2222222222222222,
              "#7201a8"
             ],
             [
              0.3333333333333333,
              "#9c179e"
             ],
             [
              0.4444444444444444,
              "#bd3786"
             ],
             [
              0.5555555555555556,
              "#d8576b"
             ],
             [
              0.6666666666666666,
              "#ed7953"
             ],
             [
              0.7777777777777778,
              "#fb9f3a"
             ],
             [
              0.8888888888888888,
              "#fdca26"
             ],
             [
              1,
              "#f0f921"
             ]
            ],
            "type": "histogram2d"
           }
          ],
          "histogram2dcontour": [
           {
            "colorbar": {
             "outlinewidth": 0,
             "ticks": ""
            },
            "colorscale": [
             [
              0,
              "#0d0887"
             ],
             [
              0.1111111111111111,
              "#46039f"
             ],
             [
              0.2222222222222222,
              "#7201a8"
             ],
             [
              0.3333333333333333,
              "#9c179e"
             ],
             [
              0.4444444444444444,
              "#bd3786"
             ],
             [
              0.5555555555555556,
              "#d8576b"
             ],
             [
              0.6666666666666666,
              "#ed7953"
             ],
             [
              0.7777777777777778,
              "#fb9f3a"
             ],
             [
              0.8888888888888888,
              "#fdca26"
             ],
             [
              1,
              "#f0f921"
             ]
            ],
            "type": "histogram2dcontour"
           }
          ],
          "mesh3d": [
           {
            "colorbar": {
             "outlinewidth": 0,
             "ticks": ""
            },
            "type": "mesh3d"
           }
          ],
          "parcoords": [
           {
            "line": {
             "colorbar": {
              "outlinewidth": 0,
              "ticks": ""
             }
            },
            "type": "parcoords"
           }
          ],
          "pie": [
           {
            "automargin": true,
            "type": "pie"
           }
          ],
          "scatter": [
           {
            "fillpattern": {
             "fillmode": "overlay",
             "size": 10,
             "solidity": 0.2
            },
            "type": "scatter"
           }
          ],
          "scatter3d": [
           {
            "line": {
             "colorbar": {
              "outlinewidth": 0,
              "ticks": ""
             }
            },
            "marker": {
             "colorbar": {
              "outlinewidth": 0,
              "ticks": ""
             }
            },
            "type": "scatter3d"
           }
          ],
          "scattercarpet": [
           {
            "marker": {
             "colorbar": {
              "outlinewidth": 0,
              "ticks": ""
             }
            },
            "type": "scattercarpet"
           }
          ],
          "scattergeo": [
           {
            "marker": {
             "colorbar": {
              "outlinewidth": 0,
              "ticks": ""
             }
            },
            "type": "scattergeo"
           }
          ],
          "scattergl": [
           {
            "marker": {
             "colorbar": {
              "outlinewidth": 0,
              "ticks": ""
             }
            },
            "type": "scattergl"
           }
          ],
          "scattermap": [
           {
            "marker": {
             "colorbar": {
              "outlinewidth": 0,
              "ticks": ""
             }
            },
            "type": "scattermap"
           }
          ],
          "scattermapbox": [
           {
            "marker": {
             "colorbar": {
              "outlinewidth": 0,
              "ticks": ""
             }
            },
            "type": "scattermapbox"
           }
          ],
          "scatterpolar": [
           {
            "marker": {
             "colorbar": {
              "outlinewidth": 0,
              "ticks": ""
             }
            },
            "type": "scatterpolar"
           }
          ],
          "scatterpolargl": [
           {
            "marker": {
             "colorbar": {
              "outlinewidth": 0,
              "ticks": ""
             }
            },
            "type": "scatterpolargl"
           }
          ],
          "scatterternary": [
           {
            "marker": {
             "colorbar": {
              "outlinewidth": 0,
              "ticks": ""
             }
            },
            "type": "scatterternary"
           }
          ],
          "surface": [
           {
            "colorbar": {
             "outlinewidth": 0,
             "ticks": ""
            },
            "colorscale": [
             [
              0,
              "#0d0887"
             ],
             [
              0.1111111111111111,
              "#46039f"
             ],
             [
              0.2222222222222222,
              "#7201a8"
             ],
             [
              0.3333333333333333,
              "#9c179e"
             ],
             [
              0.4444444444444444,
              "#bd3786"
             ],
             [
              0.5555555555555556,
              "#d8576b"
             ],
             [
              0.6666666666666666,
              "#ed7953"
             ],
             [
              0.7777777777777778,
              "#fb9f3a"
             ],
             [
              0.8888888888888888,
              "#fdca26"
             ],
             [
              1,
              "#f0f921"
             ]
            ],
            "type": "surface"
           }
          ],
          "table": [
           {
            "cells": {
             "fill": {
              "color": "#EBF0F8"
             },
             "line": {
              "color": "white"
             }
            },
            "header": {
             "fill": {
              "color": "#C8D4E3"
             },
             "line": {
              "color": "white"
             }
            },
            "type": "table"
           }
          ]
         },
         "layout": {
          "annotationdefaults": {
           "arrowcolor": "#2a3f5f",
           "arrowhead": 0,
           "arrowwidth": 1
          },
          "autotypenumbers": "strict",
          "coloraxis": {
           "colorbar": {
            "outlinewidth": 0,
            "ticks": ""
           }
          },
          "colorscale": {
           "diverging": [
            [
             0,
             "#8e0152"
            ],
            [
             0.1,
             "#c51b7d"
            ],
            [
             0.2,
             "#de77ae"
            ],
            [
             0.3,
             "#f1b6da"
            ],
            [
             0.4,
             "#fde0ef"
            ],
            [
             0.5,
             "#f7f7f7"
            ],
            [
             0.6,
             "#e6f5d0"
            ],
            [
             0.7,
             "#b8e186"
            ],
            [
             0.8,
             "#7fbc41"
            ],
            [
             0.9,
             "#4d9221"
            ],
            [
             1,
             "#276419"
            ]
           ],
           "sequential": [
            [
             0,
             "#0d0887"
            ],
            [
             0.1111111111111111,
             "#46039f"
            ],
            [
             0.2222222222222222,
             "#7201a8"
            ],
            [
             0.3333333333333333,
             "#9c179e"
            ],
            [
             0.4444444444444444,
             "#bd3786"
            ],
            [
             0.5555555555555556,
             "#d8576b"
            ],
            [
             0.6666666666666666,
             "#ed7953"
            ],
            [
             0.7777777777777778,
             "#fb9f3a"
            ],
            [
             0.8888888888888888,
             "#fdca26"
            ],
            [
             1,
             "#f0f921"
            ]
           ],
           "sequentialminus": [
            [
             0,
             "#0d0887"
            ],
            [
             0.1111111111111111,
             "#46039f"
            ],
            [
             0.2222222222222222,
             "#7201a8"
            ],
            [
             0.3333333333333333,
             "#9c179e"
            ],
            [
             0.4444444444444444,
             "#bd3786"
            ],
            [
             0.5555555555555556,
             "#d8576b"
            ],
            [
             0.6666666666666666,
             "#ed7953"
            ],
            [
             0.7777777777777778,
             "#fb9f3a"
            ],
            [
             0.8888888888888888,
             "#fdca26"
            ],
            [
             1,
             "#f0f921"
            ]
           ]
          },
          "colorway": [
           "#636efa",
           "#EF553B",
           "#00cc96",
           "#ab63fa",
           "#FFA15A",
           "#19d3f3",
           "#FF6692",
           "#B6E880",
           "#FF97FF",
           "#FECB52"
          ],
          "font": {
           "color": "#2a3f5f"
          },
          "geo": {
           "bgcolor": "white",
           "lakecolor": "white",
           "landcolor": "#E5ECF6",
           "showlakes": true,
           "showland": true,
           "subunitcolor": "white"
          },
          "hoverlabel": {
           "align": "left"
          },
          "hovermode": "closest",
          "mapbox": {
           "style": "light"
          },
          "paper_bgcolor": "white",
          "plot_bgcolor": "#E5ECF6",
          "polar": {
           "angularaxis": {
            "gridcolor": "white",
            "linecolor": "white",
            "ticks": ""
           },
           "bgcolor": "#E5ECF6",
           "radialaxis": {
            "gridcolor": "white",
            "linecolor": "white",
            "ticks": ""
           }
          },
          "scene": {
           "xaxis": {
            "backgroundcolor": "#E5ECF6",
            "gridcolor": "white",
            "gridwidth": 2,
            "linecolor": "white",
            "showbackground": true,
            "ticks": "",
            "zerolinecolor": "white"
           },
           "yaxis": {
            "backgroundcolor": "#E5ECF6",
            "gridcolor": "white",
            "gridwidth": 2,
            "linecolor": "white",
            "showbackground": true,
            "ticks": "",
            "zerolinecolor": "white"
           },
           "zaxis": {
            "backgroundcolor": "#E5ECF6",
            "gridcolor": "white",
            "gridwidth": 2,
            "linecolor": "white",
            "showbackground": true,
            "ticks": "",
            "zerolinecolor": "white"
           }
          },
          "shapedefaults": {
           "line": {
            "color": "#2a3f5f"
           }
          },
          "ternary": {
           "aaxis": {
            "gridcolor": "white",
            "linecolor": "white",
            "ticks": ""
           },
           "baxis": {
            "gridcolor": "white",
            "linecolor": "white",
            "ticks": ""
           },
           "bgcolor": "#E5ECF6",
           "caxis": {
            "gridcolor": "white",
            "linecolor": "white",
            "ticks": ""
           }
          },
          "title": {
           "x": 0.05
          },
          "xaxis": {
           "automargin": true,
           "gridcolor": "white",
           "linecolor": "white",
           "ticks": "",
           "title": {
            "standoff": 15
           },
           "zerolinecolor": "white",
           "zerolinewidth": 2
          },
          "yaxis": {
           "automargin": true,
           "gridcolor": "white",
           "linecolor": "white",
           "ticks": "",
           "title": {
            "standoff": 15
           },
           "zerolinecolor": "white",
           "zerolinewidth": 2
          }
         }
        },
        "title": {
         "text": "Payment_History Distribution"
        },
        "width": 600,
        "xaxis": {
         "anchor": "y",
         "categoryarray": [
          "On-Time",
          "Delayed",
          "Missed"
         ],
         "categoryorder": "array",
         "domain": [
          0,
          1
         ],
         "title": {
          "text": "Payment_History"
         }
        },
        "yaxis": {
         "anchor": "x",
         "domain": [
          0,
          1
         ],
         "title": {
          "text": "Count"
         }
        }
       }
      }
     },
     "metadata": {},
     "output_type": "display_data"
    },
    {
     "data": {
      "application/vnd.plotly.v1+json": {
       "config": {
        "plotlyServerURL": "https://plot.ly"
       },
       "data": [
        {
         "hovertemplate": "Recovery_Status: %{x}<br>Count: %{y}<extra></extra>",
         "legendgroup": "Fully Recovered",
         "marker": {
          "color": "rgb(141,211,199)",
          "pattern": {
           "shape": ""
          }
         },
         "name": "Fully Recovered",
         "orientation": "v",
         "showlegend": true,
         "textposition": "outside",
         "texttemplate": "%{y}",
         "type": "bar",
         "x": [
          "Fully Recovered"
         ],
         "xaxis": "x",
         "y": {
          "bdata": "KAE=",
          "dtype": "i2"
         },
         "yaxis": "y"
        },
        {
         "hovertemplate": "Recovery_Status: %{x}<br>Count: %{y}<extra></extra>",
         "legendgroup": "Partially Recovered",
         "marker": {
          "color": "rgb(255,255,179)",
          "pattern": {
           "shape": ""
          }
         },
         "name": "Partially Recovered",
         "orientation": "v",
         "showlegend": true,
         "textposition": "outside",
         "texttemplate": "%{y}",
         "type": "bar",
         "x": [
          "Partially Recovered"
         ],
         "xaxis": "x",
         "y": {
          "bdata": "mgA=",
          "dtype": "i2"
         },
         "yaxis": "y"
        },
        {
         "hovertemplate": "Recovery_Status: %{x}<br>Count: %{y}<extra></extra>",
         "legendgroup": "Written Off",
         "marker": {
          "color": "rgb(190,186,218)",
          "pattern": {
           "shape": ""
          }
         },
         "name": "Written Off",
         "orientation": "v",
         "showlegend": true,
         "textposition": "outside",
         "texttemplate": "%{y}",
         "type": "bar",
         "x": [
          "Written Off"
         ],
         "xaxis": "x",
         "y": {
          "bdata": "Mg==",
          "dtype": "i1"
         },
         "yaxis": "y"
        }
       ],
       "layout": {
        "barmode": "relative",
        "height": 400,
        "legend": {
         "title": {
          "text": "Recovery_Status"
         },
         "tracegroupgap": 0
        },
        "showlegend": false,
        "template": {
         "data": {
          "bar": [
           {
            "error_x": {
             "color": "#2a3f5f"
            },
            "error_y": {
             "color": "#2a3f5f"
            },
            "marker": {
             "line": {
              "color": "#E5ECF6",
              "width": 0.5
             },
             "pattern": {
              "fillmode": "overlay",
              "size": 10,
              "solidity": 0.2
             }
            },
            "type": "bar"
           }
          ],
          "barpolar": [
           {
            "marker": {
             "line": {
              "color": "#E5ECF6",
              "width": 0.5
             },
             "pattern": {
              "fillmode": "overlay",
              "size": 10,
              "solidity": 0.2
             }
            },
            "type": "barpolar"
           }
          ],
          "carpet": [
           {
            "aaxis": {
             "endlinecolor": "#2a3f5f",
             "gridcolor": "white",
             "linecolor": "white",
             "minorgridcolor": "white",
             "startlinecolor": "#2a3f5f"
            },
            "baxis": {
             "endlinecolor": "#2a3f5f",
             "gridcolor": "white",
             "linecolor": "white",
             "minorgridcolor": "white",
             "startlinecolor": "#2a3f5f"
            },
            "type": "carpet"
           }
          ],
          "choropleth": [
           {
            "colorbar": {
             "outlinewidth": 0,
             "ticks": ""
            },
            "type": "choropleth"
           }
          ],
          "contour": [
           {
            "colorbar": {
             "outlinewidth": 0,
             "ticks": ""
            },
            "colorscale": [
             [
              0,
              "#0d0887"
             ],
             [
              0.1111111111111111,
              "#46039f"
             ],
             [
              0.2222222222222222,
              "#7201a8"
             ],
             [
              0.3333333333333333,
              "#9c179e"
             ],
             [
              0.4444444444444444,
              "#bd3786"
             ],
             [
              0.5555555555555556,
              "#d8576b"
             ],
             [
              0.6666666666666666,
              "#ed7953"
             ],
             [
              0.7777777777777778,
              "#fb9f3a"
             ],
             [
              0.8888888888888888,
              "#fdca26"
             ],
             [
              1,
              "#f0f921"
             ]
            ],
            "type": "contour"
           }
          ],
          "contourcarpet": [
           {
            "colorbar": {
             "outlinewidth": 0,
             "ticks": ""
            },
            "type": "contourcarpet"
           }
          ],
          "heatmap": [
           {
            "colorbar": {
             "outlinewidth": 0,
             "ticks": ""
            },
            "colorscale": [
             [
              0,
              "#0d0887"
             ],
             [
              0.1111111111111111,
              "#46039f"
             ],
             [
              0.2222222222222222,
              "#7201a8"
             ],
             [
              0.3333333333333333,
              "#9c179e"
             ],
             [
              0.4444444444444444,
              "#bd3786"
             ],
             [
              0.5555555555555556,
              "#d8576b"
             ],
             [
              0.6666666666666666,
              "#ed7953"
             ],
             [
              0.7777777777777778,
              "#fb9f3a"
             ],
             [
              0.8888888888888888,
              "#fdca26"
             ],
             [
              1,
              "#f0f921"
             ]
            ],
            "type": "heatmap"
           }
          ],
          "histogram": [
           {
            "marker": {
             "pattern": {
              "fillmode": "overlay",
              "size": 10,
              "solidity": 0.2
             }
            },
            "type": "histogram"
           }
          ],
          "histogram2d": [
           {
            "colorbar": {
             "outlinewidth": 0,
             "ticks": ""
            },
            "colorscale": [
             [
              0,
              "#0d0887"
             ],
             [
              0.1111111111111111,
              "#46039f"
             ],
             [
              0.2222222222222222,
              "#7201a8"
             ],
             [
              0.3333333333333333,
              "#9c179e"
             ],
             [
              0.4444444444444444,
              "#bd3786"
             ],
             [
              0.5555555555555556,
              "#d8576b"
             ],
             [
              0.6666666666666666,
              "#ed7953"
             ],
             [
              0.7777777777777778,
              "#fb9f3a"
             ],
             [
              0.8888888888888888,
              "#fdca26"
             ],
             [
              1,
              "#f0f921"
             ]
            ],
            "type": "histogram2d"
           }
          ],
          "histogram2dcontour": [
           {
            "colorbar": {
             "outlinewidth": 0,
             "ticks": ""
            },
            "colorscale": [
             [
              0,
              "#0d0887"
             ],
             [
              0.1111111111111111,
              "#46039f"
             ],
             [
              0.2222222222222222,
              "#7201a8"
             ],
             [
              0.3333333333333333,
              "#9c179e"
             ],
             [
              0.4444444444444444,
              "#bd3786"
             ],
             [
              0.5555555555555556,
              "#d8576b"
             ],
             [
              0.6666666666666666,
              "#ed7953"
             ],
             [
              0.7777777777777778,
              "#fb9f3a"
             ],
             [
              0.8888888888888888,
              "#fdca26"
             ],
             [
              1,
              "#f0f921"
             ]
            ],
            "type": "histogram2dcontour"
           }
          ],
          "mesh3d": [
           {
            "colorbar": {
             "outlinewidth": 0,
             "ticks": ""
            },
            "type": "mesh3d"
           }
          ],
          "parcoords": [
           {
            "line": {
             "colorbar": {
              "outlinewidth": 0,
              "ticks": ""
             }
            },
            "type": "parcoords"
           }
          ],
          "pie": [
           {
            "automargin": true,
            "type": "pie"
           }
          ],
          "scatter": [
           {
            "fillpattern": {
             "fillmode": "overlay",
             "size": 10,
             "solidity": 0.2
            },
            "type": "scatter"
           }
          ],
          "scatter3d": [
           {
            "line": {
             "colorbar": {
              "outlinewidth": 0,
              "ticks": ""
             }
            },
            "marker": {
             "colorbar": {
              "outlinewidth": 0,
              "ticks": ""
             }
            },
            "type": "scatter3d"
           }
          ],
          "scattercarpet": [
           {
            "marker": {
             "colorbar": {
              "outlinewidth": 0,
              "ticks": ""
             }
            },
            "type": "scattercarpet"
           }
          ],
          "scattergeo": [
           {
            "marker": {
             "colorbar": {
              "outlinewidth": 0,
              "ticks": ""
             }
            },
            "type": "scattergeo"
           }
          ],
          "scattergl": [
           {
            "marker": {
             "colorbar": {
              "outlinewidth": 0,
              "ticks": ""
             }
            },
            "type": "scattergl"
           }
          ],
          "scattermap": [
           {
            "marker": {
             "colorbar": {
              "outlinewidth": 0,
              "ticks": ""
             }
            },
            "type": "scattermap"
           }
          ],
          "scattermapbox": [
           {
            "marker": {
             "colorbar": {
              "outlinewidth": 0,
              "ticks": ""
             }
            },
            "type": "scattermapbox"
           }
          ],
          "scatterpolar": [
           {
            "marker": {
             "colorbar": {
              "outlinewidth": 0,
              "ticks": ""
             }
            },
            "type": "scatterpolar"
           }
          ],
          "scatterpolargl": [
           {
            "marker": {
             "colorbar": {
              "outlinewidth": 0,
              "ticks": ""
             }
            },
            "type": "scatterpolargl"
           }
          ],
          "scatterternary": [
           {
            "marker": {
             "colorbar": {
              "outlinewidth": 0,
              "ticks": ""
             }
            },
            "type": "scatterternary"
           }
          ],
          "surface": [
           {
            "colorbar": {
             "outlinewidth": 0,
             "ticks": ""
            },
            "colorscale": [
             [
              0,
              "#0d0887"
             ],
             [
              0.1111111111111111,
              "#46039f"
             ],
             [
              0.2222222222222222,
              "#7201a8"
             ],
             [
              0.3333333333333333,
              "#9c179e"
             ],
             [
              0.4444444444444444,
              "#bd3786"
             ],
             [
              0.5555555555555556,
              "#d8576b"
             ],
             [
              0.6666666666666666,
              "#ed7953"
             ],
             [
              0.7777777777777778,
              "#fb9f3a"
             ],
             [
              0.8888888888888888,
              "#fdca26"
             ],
             [
              1,
              "#f0f921"
             ]
            ],
            "type": "surface"
           }
          ],
          "table": [
           {
            "cells": {
             "fill": {
              "color": "#EBF0F8"
             },
             "line": {
              "color": "white"
             }
            },
            "header": {
             "fill": {
              "color": "#C8D4E3"
             },
             "line": {
              "color": "white"
             }
            },
            "type": "table"
           }
          ]
         },
         "layout": {
          "annotationdefaults": {
           "arrowcolor": "#2a3f5f",
           "arrowhead": 0,
           "arrowwidth": 1
          },
          "autotypenumbers": "strict",
          "coloraxis": {
           "colorbar": {
            "outlinewidth": 0,
            "ticks": ""
           }
          },
          "colorscale": {
           "diverging": [
            [
             0,
             "#8e0152"
            ],
            [
             0.1,
             "#c51b7d"
            ],
            [
             0.2,
             "#de77ae"
            ],
            [
             0.3,
             "#f1b6da"
            ],
            [
             0.4,
             "#fde0ef"
            ],
            [
             0.5,
             "#f7f7f7"
            ],
            [
             0.6,
             "#e6f5d0"
            ],
            [
             0.7,
             "#b8e186"
            ],
            [
             0.8,
             "#7fbc41"
            ],
            [
             0.9,
             "#4d9221"
            ],
            [
             1,
             "#276419"
            ]
           ],
           "sequential": [
            [
             0,
             "#0d0887"
            ],
            [
             0.1111111111111111,
             "#46039f"
            ],
            [
             0.2222222222222222,
             "#7201a8"
            ],
            [
             0.3333333333333333,
             "#9c179e"
            ],
            [
             0.4444444444444444,
             "#bd3786"
            ],
            [
             0.5555555555555556,
             "#d8576b"
            ],
            [
             0.6666666666666666,
             "#ed7953"
            ],
            [
             0.7777777777777778,
             "#fb9f3a"
            ],
            [
             0.8888888888888888,
             "#fdca26"
            ],
            [
             1,
             "#f0f921"
            ]
           ],
           "sequentialminus": [
            [
             0,
             "#0d0887"
            ],
            [
             0.1111111111111111,
             "#46039f"
            ],
            [
             0.2222222222222222,
             "#7201a8"
            ],
            [
             0.3333333333333333,
             "#9c179e"
            ],
            [
             0.4444444444444444,
             "#bd3786"
            ],
            [
             0.5555555555555556,
             "#d8576b"
            ],
            [
             0.6666666666666666,
             "#ed7953"
            ],
            [
             0.7777777777777778,
             "#fb9f3a"
            ],
            [
             0.8888888888888888,
             "#fdca26"
            ],
            [
             1,
             "#f0f921"
            ]
           ]
          },
          "colorway": [
           "#636efa",
           "#EF553B",
           "#00cc96",
           "#ab63fa",
           "#FFA15A",
           "#19d3f3",
           "#FF6692",
           "#B6E880",
           "#FF97FF",
           "#FECB52"
          ],
          "font": {
           "color": "#2a3f5f"
          },
          "geo": {
           "bgcolor": "white",
           "lakecolor": "white",
           "landcolor": "#E5ECF6",
           "showlakes": true,
           "showland": true,
           "subunitcolor": "white"
          },
          "hoverlabel": {
           "align": "left"
          },
          "hovermode": "closest",
          "mapbox": {
           "style": "light"
          },
          "paper_bgcolor": "white",
          "plot_bgcolor": "#E5ECF6",
          "polar": {
           "angularaxis": {
            "gridcolor": "white",
            "linecolor": "white",
            "ticks": ""
           },
           "bgcolor": "#E5ECF6",
           "radialaxis": {
            "gridcolor": "white",
            "linecolor": "white",
            "ticks": ""
           }
          },
          "scene": {
           "xaxis": {
            "backgroundcolor": "#E5ECF6",
            "gridcolor": "white",
            "gridwidth": 2,
            "linecolor": "white",
            "showbackground": true,
            "ticks": "",
            "zerolinecolor": "white"
           },
           "yaxis": {
            "backgroundcolor": "#E5ECF6",
            "gridcolor": "white",
            "gridwidth": 2,
            "linecolor": "white",
            "showbackground": true,
            "ticks": "",
            "zerolinecolor": "white"
           },
           "zaxis": {
            "backgroundcolor": "#E5ECF6",
            "gridcolor": "white",
            "gridwidth": 2,
            "linecolor": "white",
            "showbackground": true,
            "ticks": "",
            "zerolinecolor": "white"
           }
          },
          "shapedefaults": {
           "line": {
            "color": "#2a3f5f"
           }
          },
          "ternary": {
           "aaxis": {
            "gridcolor": "white",
            "linecolor": "white",
            "ticks": ""
           },
           "baxis": {
            "gridcolor": "white",
            "linecolor": "white",
            "ticks": ""
           },
           "bgcolor": "#E5ECF6",
           "caxis": {
            "gridcolor": "white",
            "linecolor": "white",
            "ticks": ""
           }
          },
          "title": {
           "x": 0.05
          },
          "xaxis": {
           "automargin": true,
           "gridcolor": "white",
           "linecolor": "white",
           "ticks": "",
           "title": {
            "standoff": 15
           },
           "zerolinecolor": "white",
           "zerolinewidth": 2
          },
          "yaxis": {
           "automargin": true,
           "gridcolor": "white",
           "linecolor": "white",
           "ticks": "",
           "title": {
            "standoff": 15
           },
           "zerolinecolor": "white",
           "zerolinewidth": 2
          }
         }
        },
        "title": {
         "text": "Recovery_Status Distribution"
        },
        "width": 600,
        "xaxis": {
         "anchor": "y",
         "categoryarray": [
          "Fully Recovered",
          "Partially Recovered",
          "Written Off"
         ],
         "categoryorder": "array",
         "domain": [
          0,
          1
         ],
         "title": {
          "text": "Recovery_Status"
         }
        },
        "yaxis": {
         "anchor": "x",
         "domain": [
          0,
          1
         ],
         "title": {
          "text": "Count"
         }
        }
       }
      }
     },
     "metadata": {},
     "output_type": "display_data"
    },
    {
     "data": {
      "application/vnd.plotly.v1+json": {
       "config": {
        "plotlyServerURL": "https://plot.ly"
       },
       "data": [
        {
         "hovertemplate": "Collection_Method: %{x}<br>Count: %{y}<extra></extra>",
         "legendgroup": "Calls",
         "marker": {
          "color": "rgb(141,211,199)",
          "pattern": {
           "shape": ""
          }
         },
         "name": "Calls",
         "orientation": "v",
         "showlegend": true,
         "textposition": "outside",
         "texttemplate": "%{y}",
         "type": "bar",
         "x": [
          "Calls"
         ],
         "xaxis": "x",
         "y": {
          "bdata": "gQA=",
          "dtype": "i2"
         },
         "yaxis": "y"
        },
        {
         "hovertemplate": "Collection_Method: %{x}<br>Count: %{y}<extra></extra>",
         "legendgroup": "Legal Notice",
         "marker": {
          "color": "rgb(255,255,179)",
          "pattern": {
           "shape": ""
          }
         },
         "name": "Legal Notice",
         "orientation": "v",
         "showlegend": true,
         "textposition": "outside",
         "texttemplate": "%{y}",
         "type": "bar",
         "x": [
          "Legal Notice"
         ],
         "xaxis": "x",
         "y": {
          "bdata": "fg==",
          "dtype": "i1"
         },
         "yaxis": "y"
        },
        {
         "hovertemplate": "Collection_Method: %{x}<br>Count: %{y}<extra></extra>",
         "legendgroup": "Debt Collectors",
         "marker": {
          "color": "rgb(190,186,218)",
          "pattern": {
           "shape": ""
          }
         },
         "name": "Debt Collectors",
         "orientation": "v",
         "showlegend": true,
         "textposition": "outside",
         "texttemplate": "%{y}",
         "type": "bar",
         "x": [
          "Debt Collectors"
         ],
         "xaxis": "x",
         "y": {
          "bdata": "fQ==",
          "dtype": "i1"
         },
         "yaxis": "y"
        },
        {
         "hovertemplate": "Collection_Method: %{x}<br>Count: %{y}<extra></extra>",
         "legendgroup": "Settlement Offer",
         "marker": {
          "color": "rgb(251,128,114)",
          "pattern": {
           "shape": ""
          }
         },
         "name": "Settlement Offer",
         "orientation": "v",
         "showlegend": true,
         "textposition": "outside",
         "texttemplate": "%{y}",
         "type": "bar",
         "x": [
          "Settlement Offer"
         ],
         "xaxis": "x",
         "y": {
          "bdata": "eA==",
          "dtype": "i1"
         },
         "yaxis": "y"
        }
       ],
       "layout": {
        "barmode": "relative",
        "height": 400,
        "legend": {
         "title": {
          "text": "Collection_Method"
         },
         "tracegroupgap": 0
        },
        "showlegend": false,
        "template": {
         "data": {
          "bar": [
           {
            "error_x": {
             "color": "#2a3f5f"
            },
            "error_y": {
             "color": "#2a3f5f"
            },
            "marker": {
             "line": {
              "color": "#E5ECF6",
              "width": 0.5
             },
             "pattern": {
              "fillmode": "overlay",
              "size": 10,
              "solidity": 0.2
             }
            },
            "type": "bar"
           }
          ],
          "barpolar": [
           {
            "marker": {
             "line": {
              "color": "#E5ECF6",
              "width": 0.5
             },
             "pattern": {
              "fillmode": "overlay",
              "size": 10,
              "solidity": 0.2
             }
            },
            "type": "barpolar"
           }
          ],
          "carpet": [
           {
            "aaxis": {
             "endlinecolor": "#2a3f5f",
             "gridcolor": "white",
             "linecolor": "white",
             "minorgridcolor": "white",
             "startlinecolor": "#2a3f5f"
            },
            "baxis": {
             "endlinecolor": "#2a3f5f",
             "gridcolor": "white",
             "linecolor": "white",
             "minorgridcolor": "white",
             "startlinecolor": "#2a3f5f"
            },
            "type": "carpet"
           }
          ],
          "choropleth": [
           {
            "colorbar": {
             "outlinewidth": 0,
             "ticks": ""
            },
            "type": "choropleth"
           }
          ],
          "contour": [
           {
            "colorbar": {
             "outlinewidth": 0,
             "ticks": ""
            },
            "colorscale": [
             [
              0,
              "#0d0887"
             ],
             [
              0.1111111111111111,
              "#46039f"
             ],
             [
              0.2222222222222222,
              "#7201a8"
             ],
             [
              0.3333333333333333,
              "#9c179e"
             ],
             [
              0.4444444444444444,
              "#bd3786"
             ],
             [
              0.5555555555555556,
              "#d8576b"
             ],
             [
              0.6666666666666666,
              "#ed7953"
             ],
             [
              0.7777777777777778,
              "#fb9f3a"
             ],
             [
              0.8888888888888888,
              "#fdca26"
             ],
             [
              1,
              "#f0f921"
             ]
            ],
            "type": "contour"
           }
          ],
          "contourcarpet": [
           {
            "colorbar": {
             "outlinewidth": 0,
             "ticks": ""
            },
            "type": "contourcarpet"
           }
          ],
          "heatmap": [
           {
            "colorbar": {
             "outlinewidth": 0,
             "ticks": ""
            },
            "colorscale": [
             [
              0,
              "#0d0887"
             ],
             [
              0.1111111111111111,
              "#46039f"
             ],
             [
              0.2222222222222222,
              "#7201a8"
             ],
             [
              0.3333333333333333,
              "#9c179e"
             ],
             [
              0.4444444444444444,
              "#bd3786"
             ],
             [
              0.5555555555555556,
              "#d8576b"
             ],
             [
              0.6666666666666666,
              "#ed7953"
             ],
             [
              0.7777777777777778,
              "#fb9f3a"
             ],
             [
              0.8888888888888888,
              "#fdca26"
             ],
             [
              1,
              "#f0f921"
             ]
            ],
            "type": "heatmap"
           }
          ],
          "histogram": [
           {
            "marker": {
             "pattern": {
              "fillmode": "overlay",
              "size": 10,
              "solidity": 0.2
             }
            },
            "type": "histogram"
           }
          ],
          "histogram2d": [
           {
            "colorbar": {
             "outlinewidth": 0,
             "ticks": ""
            },
            "colorscale": [
             [
              0,
              "#0d0887"
             ],
             [
              0.1111111111111111,
              "#46039f"
             ],
             [
              0.2222222222222222,
              "#7201a8"
             ],
             [
              0.3333333333333333,
              "#9c179e"
             ],
             [
              0.4444444444444444,
              "#bd3786"
             ],
             [
              0.5555555555555556,
              "#d8576b"
             ],
             [
              0.6666666666666666,
              "#ed7953"
             ],
             [
              0.7777777777777778,
              "#fb9f3a"
             ],
             [
              0.8888888888888888,
              "#fdca26"
             ],
             [
              1,
              "#f0f921"
             ]
            ],
            "type": "histogram2d"
           }
          ],
          "histogram2dcontour": [
           {
            "colorbar": {
             "outlinewidth": 0,
             "ticks": ""
            },
            "colorscale": [
             [
              0,
              "#0d0887"
             ],
             [
              0.1111111111111111,
              "#46039f"
             ],
             [
              0.2222222222222222,
              "#7201a8"
             ],
             [
              0.3333333333333333,
              "#9c179e"
             ],
             [
              0.4444444444444444,
              "#bd3786"
             ],
             [
              0.5555555555555556,
              "#d8576b"
             ],
             [
              0.6666666666666666,
              "#ed7953"
             ],
             [
              0.7777777777777778,
              "#fb9f3a"
             ],
             [
              0.8888888888888888,
              "#fdca26"
             ],
             [
              1,
              "#f0f921"
             ]
            ],
            "type": "histogram2dcontour"
           }
          ],
          "mesh3d": [
           {
            "colorbar": {
             "outlinewidth": 0,
             "ticks": ""
            },
            "type": "mesh3d"
           }
          ],
          "parcoords": [
           {
            "line": {
             "colorbar": {
              "outlinewidth": 0,
              "ticks": ""
             }
            },
            "type": "parcoords"
           }
          ],
          "pie": [
           {
            "automargin": true,
            "type": "pie"
           }
          ],
          "scatter": [
           {
            "fillpattern": {
             "fillmode": "overlay",
             "size": 10,
             "solidity": 0.2
            },
            "type": "scatter"
           }
          ],
          "scatter3d": [
           {
            "line": {
             "colorbar": {
              "outlinewidth": 0,
              "ticks": ""
             }
            },
            "marker": {
             "colorbar": {
              "outlinewidth": 0,
              "ticks": ""
             }
            },
            "type": "scatter3d"
           }
          ],
          "scattercarpet": [
           {
            "marker": {
             "colorbar": {
              "outlinewidth": 0,
              "ticks": ""
             }
            },
            "type": "scattercarpet"
           }
          ],
          "scattergeo": [
           {
            "marker": {
             "colorbar": {
              "outlinewidth": 0,
              "ticks": ""
             }
            },
            "type": "scattergeo"
           }
          ],
          "scattergl": [
           {
            "marker": {
             "colorbar": {
              "outlinewidth": 0,
              "ticks": ""
             }
            },
            "type": "scattergl"
           }
          ],
          "scattermap": [
           {
            "marker": {
             "colorbar": {
              "outlinewidth": 0,
              "ticks": ""
             }
            },
            "type": "scattermap"
           }
          ],
          "scattermapbox": [
           {
            "marker": {
             "colorbar": {
              "outlinewidth": 0,
              "ticks": ""
             }
            },
            "type": "scattermapbox"
           }
          ],
          "scatterpolar": [
           {
            "marker": {
             "colorbar": {
              "outlinewidth": 0,
              "ticks": ""
             }
            },
            "type": "scatterpolar"
           }
          ],
          "scatterpolargl": [
           {
            "marker": {
             "colorbar": {
              "outlinewidth": 0,
              "ticks": ""
             }
            },
            "type": "scatterpolargl"
           }
          ],
          "scatterternary": [
           {
            "marker": {
             "colorbar": {
              "outlinewidth": 0,
              "ticks": ""
             }
            },
            "type": "scatterternary"
           }
          ],
          "surface": [
           {
            "colorbar": {
             "outlinewidth": 0,
             "ticks": ""
            },
            "colorscale": [
             [
              0,
              "#0d0887"
             ],
             [
              0.1111111111111111,
              "#46039f"
             ],
             [
              0.2222222222222222,
              "#7201a8"
             ],
             [
              0.3333333333333333,
              "#9c179e"
             ],
             [
              0.4444444444444444,
              "#bd3786"
             ],
             [
              0.5555555555555556,
              "#d8576b"
             ],
             [
              0.6666666666666666,
              "#ed7953"
             ],
             [
              0.7777777777777778,
              "#fb9f3a"
             ],
             [
              0.8888888888888888,
              "#fdca26"
             ],
             [
              1,
              "#f0f921"
             ]
            ],
            "type": "surface"
           }
          ],
          "table": [
           {
            "cells": {
             "fill": {
              "color": "#EBF0F8"
             },
             "line": {
              "color": "white"
             }
            },
            "header": {
             "fill": {
              "color": "#C8D4E3"
             },
             "line": {
              "color": "white"
             }
            },
            "type": "table"
           }
          ]
         },
         "layout": {
          "annotationdefaults": {
           "arrowcolor": "#2a3f5f",
           "arrowhead": 0,
           "arrowwidth": 1
          },
          "autotypenumbers": "strict",
          "coloraxis": {
           "colorbar": {
            "outlinewidth": 0,
            "ticks": ""
           }
          },
          "colorscale": {
           "diverging": [
            [
             0,
             "#8e0152"
            ],
            [
             0.1,
             "#c51b7d"
            ],
            [
             0.2,
             "#de77ae"
            ],
            [
             0.3,
             "#f1b6da"
            ],
            [
             0.4,
             "#fde0ef"
            ],
            [
             0.5,
             "#f7f7f7"
            ],
            [
             0.6,
             "#e6f5d0"
            ],
            [
             0.7,
             "#b8e186"
            ],
            [
             0.8,
             "#7fbc41"
            ],
            [
             0.9,
             "#4d9221"
            ],
            [
             1,
             "#276419"
            ]
           ],
           "sequential": [
            [
             0,
             "#0d0887"
            ],
            [
             0.1111111111111111,
             "#46039f"
            ],
            [
             0.2222222222222222,
             "#7201a8"
            ],
            [
             0.3333333333333333,
             "#9c179e"
            ],
            [
             0.4444444444444444,
             "#bd3786"
            ],
            [
             0.5555555555555556,
             "#d8576b"
            ],
            [
             0.6666666666666666,
             "#ed7953"
            ],
            [
             0.7777777777777778,
             "#fb9f3a"
            ],
            [
             0.8888888888888888,
             "#fdca26"
            ],
            [
             1,
             "#f0f921"
            ]
           ],
           "sequentialminus": [
            [
             0,
             "#0d0887"
            ],
            [
             0.1111111111111111,
             "#46039f"
            ],
            [
             0.2222222222222222,
             "#7201a8"
            ],
            [
             0.3333333333333333,
             "#9c179e"
            ],
            [
             0.4444444444444444,
             "#bd3786"
            ],
            [
             0.5555555555555556,
             "#d8576b"
            ],
            [
             0.6666666666666666,
             "#ed7953"
            ],
            [
             0.7777777777777778,
             "#fb9f3a"
            ],
            [
             0.8888888888888888,
             "#fdca26"
            ],
            [
             1,
             "#f0f921"
            ]
           ]
          },
          "colorway": [
           "#636efa",
           "#EF553B",
           "#00cc96",
           "#ab63fa",
           "#FFA15A",
           "#19d3f3",
           "#FF6692",
           "#B6E880",
           "#FF97FF",
           "#FECB52"
          ],
          "font": {
           "color": "#2a3f5f"
          },
          "geo": {
           "bgcolor": "white",
           "lakecolor": "white",
           "landcolor": "#E5ECF6",
           "showlakes": true,
           "showland": true,
           "subunitcolor": "white"
          },
          "hoverlabel": {
           "align": "left"
          },
          "hovermode": "closest",
          "mapbox": {
           "style": "light"
          },
          "paper_bgcolor": "white",
          "plot_bgcolor": "#E5ECF6",
          "polar": {
           "angularaxis": {
            "gridcolor": "white",
            "linecolor": "white",
            "ticks": ""
           },
           "bgcolor": "#E5ECF6",
           "radialaxis": {
            "gridcolor": "white",
            "linecolor": "white",
            "ticks": ""
           }
          },
          "scene": {
           "xaxis": {
            "backgroundcolor": "#E5ECF6",
            "gridcolor": "white",
            "gridwidth": 2,
            "linecolor": "white",
            "showbackground": true,
            "ticks": "",
            "zerolinecolor": "white"
           },
           "yaxis": {
            "backgroundcolor": "#E5ECF6",
            "gridcolor": "white",
            "gridwidth": 2,
            "linecolor": "white",
            "showbackground": true,
            "ticks": "",
            "zerolinecolor": "white"
           },
           "zaxis": {
            "backgroundcolor": "#E5ECF6",
            "gridcolor": "white",
            "gridwidth": 2,
            "linecolor": "white",
            "showbackground": true,
            "ticks": "",
            "zerolinecolor": "white"
           }
          },
          "shapedefaults": {
           "line": {
            "color": "#2a3f5f"
           }
          },
          "ternary": {
           "aaxis": {
            "gridcolor": "white",
            "linecolor": "white",
            "ticks": ""
           },
           "baxis": {
            "gridcolor": "white",
            "linecolor": "white",
            "ticks": ""
           },
           "bgcolor": "#E5ECF6",
           "caxis": {
            "gridcolor": "white",
            "linecolor": "white",
            "ticks": ""
           }
          },
          "title": {
           "x": 0.05
          },
          "xaxis": {
           "automargin": true,
           "gridcolor": "white",
           "linecolor": "white",
           "ticks": "",
           "title": {
            "standoff": 15
           },
           "zerolinecolor": "white",
           "zerolinewidth": 2
          },
          "yaxis": {
           "automargin": true,
           "gridcolor": "white",
           "linecolor": "white",
           "ticks": "",
           "title": {
            "standoff": 15
           },
           "zerolinecolor": "white",
           "zerolinewidth": 2
          }
         }
        },
        "title": {
         "text": "Collection_Method Distribution"
        },
        "width": 600,
        "xaxis": {
         "anchor": "y",
         "categoryarray": [
          "Calls",
          "Legal Notice",
          "Debt Collectors",
          "Settlement Offer"
         ],
         "categoryorder": "array",
         "domain": [
          0,
          1
         ],
         "title": {
          "text": "Collection_Method"
         }
        },
        "yaxis": {
         "anchor": "x",
         "domain": [
          0,
          1
         ],
         "title": {
          "text": "Count"
         }
        }
       }
      }
     },
     "metadata": {},
     "output_type": "display_data"
    }
   ],
   "source": [
    "# Add categorical distribution analysis using Plotly\n",
    "\n",
    "categorical_vars = ['Gender', 'Employment_Type', 'Loan_Type', 'Payment_History', 'Recovery_Status', 'Collection_Method']\n",
    "\n",
    "for var in categorical_vars:\n",
    "    # Get value counts and create proper dataframe\n",
    "    value_counts = df[var].value_counts().reset_index()\n",
    "    value_counts.columns = [var, 'Count']\n",
    "    \n",
    "    fig = px.bar(\n",
    "        value_counts,\n",
    "        x=var,\n",
    "        y='Count',\n",
    "        title=f'{var} Distribution',\n",
    "        color=var,\n",
    "        color_discrete_sequence=px.colors.qualitative.Set3\n",
    "    )\n",
    "    \n",
    "    # Update layout for better readability\n",
    "    fig.update_traces(\n",
    "        textposition='outside',\n",
    "        texttemplate='%{y}',\n",
    "        hovertemplate=f'{var}: %{{x}}<br>Count: %{{y}}<extra></extra>'\n",
    "    )\n",
    "    \n",
    "    fig.update_layout(\n",
    "        showlegend=False,\n",
    "        xaxis_title=var,\n",
    "        yaxis_title='Count',\n",
    "        width=600,\n",
    "        height=400\n",
    "    )\n",
    "    \n",
    "    fig.show()"
   ]
  },
  {
   "cell_type": "code",
   "execution_count": null,
   "id": "bce711e6",
   "metadata": {},
   "outputs": [
    {
     "data": {
      "application/vnd.plotly.v1+json": {
       "config": {
        "plotlyServerURL": "https://plot.ly"
       },
       "data": [
        {
         "bingroup": "x",
         "hovertemplate": "Loan Amount (in $)=%{x}<br>count=%{y}<extra></extra>",
         "legendgroup": "",
         "marker": {
          "color": "royalblue",
          "opacity": 0.7,
          "pattern": {
           "shape": ""
          }
         },
         "name": "",
         "nbinsx": 30,
         "orientation": "v",
         "showlegend": false,
         "type": "histogram",
         "x": {
          "bdata": "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",
          "dtype": "i4"
         },
         "xaxis": "x",
         "yaxis": "y"
        },
        {
         "hovertemplate": "Loan Amount (in $)=%{x}<extra></extra>",
         "legendgroup": "",
         "marker": {
          "color": "royalblue"
         },
         "name": "",
         "scalegroup": "x",
         "showlegend": false,
         "type": "violin",
         "x": {
          "bdata": "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",
          "dtype": "i4"
         },
         "xaxis": "x2",
         "yaxis": "y2"
        },
        {
         "line": {
          "color": "red",
          "width": 2
         },
         "mode": "lines",
         "name": "Density Curve",
         "type": "scatter",
         "x": [
          54138,
          55039,
          62360,
          63261,
          69477,
          75675,
          77798,
          88578,
          92291,
          93764,
          94816,
          95475,
          101707,
          103053,
          104330,
          109778,
          110128,
          111842,
          112021,
          119087,
          120305,
          126361,
          128077,
          132289,
          132409,
          134381,
          135774,
          136346,
          139116,
          142036,
          145556,
          151948,
          161435,
          162935,
          166214,
          172332,
          173030,
          175355,
          179887,
          180356,
          181184,
          183498,
          188286,
          192180,
          197595,
          200653,
          202353,
          204692,
          205489,
          228267,
          231517,
          236633,
          237256,
          242029,
          243984,
          250339,
          258859,
          267400,
          267583,
          269128,
          271552,
          277189,
          279577,
          285419,
          287501,
          292188,
          295300,
          301514,
          301671,
          303091,
          309480,
          311445,
          312318,
          313031,
          313625,
          314064,
          314237,
          322158,
          323586,
          325049,
          325796,
          330833,
          331696,
          339134,
          343851,
          343946,
          345064,
          346063,
          347675,
          347986,
          353664,
          358362,
          362863,
          365018,
          366462,
          375203,
          379231,
          383713,
          384971,
          387369,
          394126,
          394866,
          396184,
          406007,
          407246,
          412441,
          413898,
          418760,
          421513,
          422397,
          423216,
          426047,
          429270,
          438518,
          439959,
          444754,
          445204,
          446210,
          446981,
          450826,
          451062,
          453777,
          455105,
          455841,
          462672,
          463089,
          467567,
          473159,
          476674,
          478276,
          478733,
          478745,
          480179,
          485928,
          486542,
          510115,
          520435,
          522963,
          525430,
          526128,
          528108,
          533455,
          533779,
          535001,
          538019,
          538765,
          547952,
          548682,
          564265,
          572154,
          584391,
          587977,
          595932,
          597219,
          603172,
          606376,
          608685,
          608963,
          620508,
          634010,
          640504,
          644821,
          651160,
          651891,
          664741,
          665937,
          669055,
          672006,
          676256,
          678380,
          679698,
          681525,
          687431,
          687787,
          690794,
          692927,
          696047,
          700443,
          702755,
          718516,
          721553,
          723647,
          723812,
          740796,
          742485,
          742924,
          748787,
          748876,
          752495,
          758175,
          758672,
          760672,
          771755,
          773858,
          787090,
          788096,
          790389,
          793088,
          793859,
          818917,
          820692,
          824504,
          827567,
          828799,
          834192,
          837738,
          838245,
          840449,
          840605,
          846710,
          846883,
          854807,
          855351,
          856457,
          858301,
          859057,
          862832,
          863560,
          865359,
          873759,
          875626,
          882595,
          884874,
          885825,
          891708,
          892840,
          894081,
          896574,
          902050,
          903329,
          903392,
          903605,
          903823,
          904568,
          912147,
          929459,
          933520,
          937553,
          939493,
          939855,
          940023,
          963081,
          964565,
          968638,
          970114,
          978660,
          983703,
          984339,
          986800,
          990568,
          1003680,
          1034558,
          1037410,
          1040029,
          1044620,
          1046358,
          1053346,
          1055782,
          1058109,
          1061930,
          1073920,
          1074374,
          1083668,
          1097380,
          1102425,
          1104244,
          1106600,
          1121824,
          1124567,
          1129525,
          1132448,
          1138963,
          1144409,
          1149577,
          1158848,
          1162186,
          1164518,
          1173853,
          1175285,
          1183754,
          1185627,
          1187411,
          1188585,
          1189752,
          1190844,
          1192102,
          1204697,
          1210117,
          1225055,
          1233765,
          1234789,
          1236944,
          1238360,
          1240456,
          1242503,
          1250114,
          1252060,
          1255046,
          1255565,
          1256212,
          1257610,
          1273451,
          1280137,
          1283770,
          1294951,
          1297098,
          1300130,
          1304352,
          1315636,
          1316389,
          1318933,
          1321118,
          1331506,
          1332116,
          1332807,
          1333440,
          1352600,
          1363428,
          1365823,
          1371448,
          1375644,
          1385055,
          1386220,
          1388306,
          1388950,
          1390829,
          1391701,
          1392501,
          1395718,
          1408126,
          1411236,
          1418335,
          1418722,
          1419391,
          1421430,
          1422840,
          1425607,
          1429932,
          1433875,
          1436665,
          1438509,
          1439678,
          1445796,
          1445811,
          1447330,
          1448949,
          1452549,
          1460023,
          1460295,
          1463562,
          1464657,
          1464718,
          1469920,
          1470623,
          1470858,
          1479210,
          1482769,
          1483466,
          1486564,
          1491149,
          1492181,
          1495065,
          1496250,
          1497075,
          1499466,
          1506048,
          1509058,
          1510049,
          1511666,
          1514110,
          1518919,
          1522966,
          1530298,
          1537606,
          1556242,
          1563083,
          1565331,
          1571624,
          1572494,
          1574314,
          1575753,
          1580952,
          1581064,
          1585601,
          1586643,
          1587111,
          1588814,
          1593586,
          1594492,
          1605537,
          1606407,
          1608141,
          1609757,
          1615116,
          1615188,
          1618146,
          1619192,
          1620234,
          1621128,
          1625506,
          1627850,
          1633306,
          1637952,
          1648575,
          1651948,
          1652357,
          1652970,
          1656140,
          1674777,
          1691232,
          1693707,
          1701377,
          1704802,
          1707390,
          1707888,
          1711655,
          1713129,
          1717640,
          1717740,
          1718531,
          1718849,
          1720357,
          1723200,
          1728997,
          1729328,
          1744814,
          1753163,
          1753834,
          1753924,
          1764514,
          1769374,
          1769890,
          1772560,
          1778106,
          1780085,
          1788446,
          1795030,
          1795987,
          1798982,
          1799736,
          1803767,
          1804867,
          1808781,
          1811663,
          1814622,
          1816892,
          1818361,
          1818555,
          1822750,
          1832988,
          1833586,
          1835818,
          1837040,
          1838380,
          1839096,
          1851498,
          1859977,
          1863205,
          1868673,
          1871573,
          1872744,
          1874964,
          1884907,
          1885877,
          1886022,
          1892360,
          1895759,
          1897305,
          1898058,
          1905591,
          1909626,
          1911057,
          1917306,
          1923410,
          1926251,
          1926336,
          1927145,
          1929822,
          1931297,
          1938755,
          1940641,
          1947268,
          1947883,
          1947951,
          1950466,
          1955829,
          1958241,
          1958796,
          1958911,
          1959824,
          1966140,
          1966494,
          1970955,
          1971672,
          1976126,
          1977716,
          1980750,
          1989253,
          1995049,
          1995325
         ]
        },
        {
         "hovertemplate": "<b>%{hovertext}</b><br><br>Loan_Amount=%{marker.color}<br>Monthly_Income=%{y}<extra></extra>",
         "hovertext": {
          "bdata": "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",
          "dtype": "f8"
         },
         "legendgroup": "",
         "marker": {
          "color": {
           "bdata": "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",
           "dtype": "i4"
          },
          "coloraxis": "coloraxis",
          "size": {
           "bdata": "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",
           "dtype": "i4"
          },
          "sizemode": "area",
          "sizeref": 4988.3125,
          "symbol": "circle"
         },
         "mode": "markers",
         "name": "",
         "orientation": "v",
         "showlegend": false,
         "type": "scatter",
         "x": {
          "bdata": "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",
          "dtype": "i4"
         },
         "xaxis": "x",
         "y": {
          "bdata": "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",
          "dtype": "i4"
         },
         "yaxis": "y"
        }
       ],
       "layout": {
        "annotations": [
         {
          "arrowhead": 2,
          "font": {
           "color": "red",
           "size": 12
          },
          "showarrow": true,
          "text": "Higher Loan Amounts are linked to Higher Income Levels",
          "x": 1596260,
          "y": 249746
         }
        ],
        "barmode": "relative",
        "legend": {
         "tracegroupgap": 0
        },
        "showlegend": true,
        "template": {
         "data": {
          "bar": [
           {
            "error_x": {
             "color": "#2a3f5f"
            },
            "error_y": {
             "color": "#2a3f5f"
            },
            "marker": {
             "line": {
              "color": "white",
              "width": 0.5
             },
             "pattern": {
              "fillmode": "overlay",
              "size": 10,
              "solidity": 0.2
             }
            },
            "type": "bar"
           }
          ],
          "barpolar": [
           {
            "marker": {
             "line": {
              "color": "white",
              "width": 0.5
             },
             "pattern": {
              "fillmode": "overlay",
              "size": 10,
              "solidity": 0.2
             }
            },
            "type": "barpolar"
           }
          ],
          "carpet": [
           {
            "aaxis": {
             "endlinecolor": "#2a3f5f",
             "gridcolor": "#C8D4E3",
             "linecolor": "#C8D4E3",
             "minorgridcolor": "#C8D4E3",
             "startlinecolor": "#2a3f5f"
            },
            "baxis": {
             "endlinecolor": "#2a3f5f",
             "gridcolor": "#C8D4E3",
             "linecolor": "#C8D4E3",
             "minorgridcolor": "#C8D4E3",
             "startlinecolor": "#2a3f5f"
            },
            "type": "carpet"
           }
          ],
          "choropleth": [
           {
            "colorbar": {
             "outlinewidth": 0,
             "ticks": ""
            },
            "type": "choropleth"
           }
          ],
          "contour": [
           {
            "colorbar": {
             "outlinewidth": 0,
             "ticks": ""
            },
            "colorscale": [
             [
              0,
              "#0d0887"
             ],
             [
              0.1111111111111111,
              "#46039f"
             ],
             [
              0.2222222222222222,
              "#7201a8"
             ],
             [
              0.3333333333333333,
              "#9c179e"
             ],
             [
              0.4444444444444444,
              "#bd3786"
             ],
             [
              0.5555555555555556,
              "#d8576b"
             ],
             [
              0.6666666666666666,
              "#ed7953"
             ],
             [
              0.7777777777777778,
              "#fb9f3a"
             ],
             [
              0.8888888888888888,
              "#fdca26"
             ],
             [
              1,
              "#f0f921"
             ]
            ],
            "type": "contour"
           }
          ],
          "contourcarpet": [
           {
            "colorbar": {
             "outlinewidth": 0,
             "ticks": ""
            },
            "type": "contourcarpet"
           }
          ],
          "heatmap": [
           {
            "colorbar": {
             "outlinewidth": 0,
             "ticks": ""
            },
            "colorscale": [
             [
              0,
              "#0d0887"
             ],
             [
              0.1111111111111111,
              "#46039f"
             ],
             [
              0.2222222222222222,
              "#7201a8"
             ],
             [
              0.3333333333333333,
              "#9c179e"
             ],
             [
              0.4444444444444444,
              "#bd3786"
             ],
             [
              0.5555555555555556,
              "#d8576b"
             ],
             [
              0.6666666666666666,
              "#ed7953"
             ],
             [
              0.7777777777777778,
              "#fb9f3a"
             ],
             [
              0.8888888888888888,
              "#fdca26"
             ],
             [
              1,
              "#f0f921"
             ]
            ],
            "type": "heatmap"
           }
          ],
          "histogram": [
           {
            "marker": {
             "pattern": {
              "fillmode": "overlay",
              "size": 10,
              "solidity": 0.2
             }
            },
            "type": "histogram"
           }
          ],
          "histogram2d": [
           {
            "colorbar": {
             "outlinewidth": 0,
             "ticks": ""
            },
            "colorscale": [
             [
              0,
              "#0d0887"
             ],
             [
              0.1111111111111111,
              "#46039f"
             ],
             [
              0.2222222222222222,
              "#7201a8"
             ],
             [
              0.3333333333333333,
              "#9c179e"
             ],
             [
              0.4444444444444444,
              "#bd3786"
             ],
             [
              0.5555555555555556,
              "#d8576b"
             ],
             [
              0.6666666666666666,
              "#ed7953"
             ],
             [
              0.7777777777777778,
              "#fb9f3a"
             ],
             [
              0.8888888888888888,
              "#fdca26"
             ],
             [
              1,
              "#f0f921"
             ]
            ],
            "type": "histogram2d"
           }
          ],
          "histogram2dcontour": [
           {
            "colorbar": {
             "outlinewidth": 0,
             "ticks": ""
            },
            "colorscale": [
             [
              0,
              "#0d0887"
             ],
             [
              0.1111111111111111,
              "#46039f"
             ],
             [
              0.2222222222222222,
              "#7201a8"
             ],
             [
              0.3333333333333333,
              "#9c179e"
             ],
             [
              0.4444444444444444,
              "#bd3786"
             ],
             [
              0.5555555555555556,
              "#d8576b"
             ],
             [
              0.6666666666666666,
              "#ed7953"
             ],
             [
              0.7777777777777778,
              "#fb9f3a"
             ],
             [
              0.8888888888888888,
              "#fdca26"
             ],
             [
              1,
              "#f0f921"
             ]
            ],
            "type": "histogram2dcontour"
           }
          ],
          "mesh3d": [
           {
            "colorbar": {
             "outlinewidth": 0,
             "ticks": ""
            },
            "type": "mesh3d"
           }
          ],
          "parcoords": [
           {
            "line": {
             "colorbar": {
              "outlinewidth": 0,
              "ticks": ""
             }
            },
            "type": "parcoords"
           }
          ],
          "pie": [
           {
            "automargin": true,
            "type": "pie"
           }
          ],
          "scatter": [
           {
            "fillpattern": {
             "fillmode": "overlay",
             "size": 10,
             "solidity": 0.2
            },
            "type": "scatter"
           }
          ],
          "scatter3d": [
           {
            "line": {
             "colorbar": {
              "outlinewidth": 0,
              "ticks": ""
             }
            },
            "marker": {
             "colorbar": {
              "outlinewidth": 0,
              "ticks": ""
             }
            },
            "type": "scatter3d"
           }
          ],
          "scattercarpet": [
           {
            "marker": {
             "colorbar": {
              "outlinewidth": 0,
              "ticks": ""
             }
            },
            "type": "scattercarpet"
           }
          ],
          "scattergeo": [
           {
            "marker": {
             "colorbar": {
              "outlinewidth": 0,
              "ticks": ""
             }
            },
            "type": "scattergeo"
           }
          ],
          "scattergl": [
           {
            "marker": {
             "colorbar": {
              "outlinewidth": 0,
              "ticks": ""
             }
            },
            "type": "scattergl"
           }
          ],
          "scattermap": [
           {
            "marker": {
             "colorbar": {
              "outlinewidth": 0,
              "ticks": ""
             }
            },
            "type": "scattermap"
           }
          ],
          "scattermapbox": [
           {
            "marker": {
             "colorbar": {
              "outlinewidth": 0,
              "ticks": ""
             }
            },
            "type": "scattermapbox"
           }
          ],
          "scatterpolar": [
           {
            "marker": {
             "colorbar": {
              "outlinewidth": 0,
              "ticks": ""
             }
            },
            "type": "scatterpolar"
           }
          ],
          "scatterpolargl": [
           {
            "marker": {
             "colorbar": {
              "outlinewidth": 0,
              "ticks": ""
             }
            },
            "type": "scatterpolargl"
           }
          ],
          "scatterternary": [
           {
            "marker": {
             "colorbar": {
              "outlinewidth": 0,
              "ticks": ""
             }
            },
            "type": "scatterternary"
           }
          ],
          "surface": [
           {
            "colorbar": {
             "outlinewidth": 0,
             "ticks": ""
            },
            "colorscale": [
             [
              0,
              "#0d0887"
             ],
             [
              0.1111111111111111,
              "#46039f"
             ],
             [
              0.2222222222222222,
              "#7201a8"
             ],
             [
              0.3333333333333333,
              "#9c179e"
             ],
             [
              0.4444444444444444,
              "#bd3786"
             ],
             [
              0.5555555555555556,
              "#d8576b"
             ],
             [
              0.6666666666666666,
              "#ed7953"
             ],
             [
              0.7777777777777778,
              "#fb9f3a"
             ],
             [
              0.8888888888888888,
              "#fdca26"
             ],
             [
              1,
              "#f0f921"
             ]
            ],
            "type": "surface"
           }
          ],
          "table": [
           {
            "cells": {
             "fill": {
              "color": "#EBF0F8"
             },
             "line": {
              "color": "white"
             }
            },
            "header": {
             "fill": {
              "color": "#C8D4E3"
             },
             "line": {
              "color": "white"
             }
            },
            "type": "table"
           }
          ]
         },
         "layout": {
          "annotationdefaults": {
           "arrowcolor": "#2a3f5f",
           "arrowhead": 0,
           "arrowwidth": 1
          },
          "autotypenumbers": "strict",
          "coloraxis": {
           "colorbar": {
            "outlinewidth": 0,
            "ticks": ""
           }
          },
          "colorscale": {
           "diverging": [
            [
             0,
             "#8e0152"
            ],
            [
             0.1,
             "#c51b7d"
            ],
            [
             0.2,
             "#de77ae"
            ],
            [
             0.3,
             "#f1b6da"
            ],
            [
             0.4,
             "#fde0ef"
            ],
            [
             0.5,
             "#f7f7f7"
            ],
            [
             0.6,
             "#e6f5d0"
            ],
            [
             0.7,
             "#b8e186"
            ],
            [
             0.8,
             "#7fbc41"
            ],
            [
             0.9,
             "#4d9221"
            ],
            [
             1,
             "#276419"
            ]
           ],
           "sequential": [
            [
             0,
             "#0d0887"
            ],
            [
             0.1111111111111111,
             "#46039f"
            ],
            [
             0.2222222222222222,
             "#7201a8"
            ],
            [
             0.3333333333333333,
             "#9c179e"
            ],
            [
             0.4444444444444444,
             "#bd3786"
            ],
            [
             0.5555555555555556,
             "#d8576b"
            ],
            [
             0.6666666666666666,
             "#ed7953"
            ],
            [
             0.7777777777777778,
             "#fb9f3a"
            ],
            [
             0.8888888888888888,
             "#fdca26"
            ],
            [
             1,
             "#f0f921"
            ]
           ],
           "sequentialminus": [
            [
             0,
             "#0d0887"
            ],
            [
             0.1111111111111111,
             "#46039f"
            ],
            [
             0.2222222222222222,
             "#7201a8"
            ],
            [
             0.3333333333333333,
             "#9c179e"
            ],
            [
             0.4444444444444444,
             "#bd3786"
            ],
            [
             0.5555555555555556,
             "#d8576b"
            ],
            [
             0.6666666666666666,
             "#ed7953"
            ],
            [
             0.7777777777777778,
             "#fb9f3a"
            ],
            [
             0.8888888888888888,
             "#fdca26"
            ],
            [
             1,
             "#f0f921"
            ]
           ]
          },
          "colorway": [
           "#636efa",
           "#EF553B",
           "#00cc96",
           "#ab63fa",
           "#FFA15A",
           "#19d3f3",
           "#FF6692",
           "#B6E880",
           "#FF97FF",
           "#FECB52"
          ],
          "font": {
           "color": "#2a3f5f"
          },
          "geo": {
           "bgcolor": "white",
           "lakecolor": "white",
           "landcolor": "white",
           "showlakes": true,
           "showland": true,
           "subunitcolor": "#C8D4E3"
          },
          "hoverlabel": {
           "align": "left"
          },
          "hovermode": "closest",
          "mapbox": {
           "style": "light"
          },
          "paper_bgcolor": "white",
          "plot_bgcolor": "white",
          "polar": {
           "angularaxis": {
            "gridcolor": "#EBF0F8",
            "linecolor": "#EBF0F8",
            "ticks": ""
           },
           "bgcolor": "white",
           "radialaxis": {
            "gridcolor": "#EBF0F8",
            "linecolor": "#EBF0F8",
            "ticks": ""
           }
          },
          "scene": {
           "xaxis": {
            "backgroundcolor": "white",
            "gridcolor": "#DFE8F3",
            "gridwidth": 2,
            "linecolor": "#EBF0F8",
            "showbackground": true,
            "ticks": "",
            "zerolinecolor": "#EBF0F8"
           },
           "yaxis": {
            "backgroundcolor": "white",
            "gridcolor": "#DFE8F3",
            "gridwidth": 2,
            "linecolor": "#EBF0F8",
            "showbackground": true,
            "ticks": "",
            "zerolinecolor": "#EBF0F8"
           },
           "zaxis": {
            "backgroundcolor": "white",
            "gridcolor": "#DFE8F3",
            "gridwidth": 2,
            "linecolor": "#EBF0F8",
            "showbackground": true,
            "ticks": "",
            "zerolinecolor": "#EBF0F8"
           }
          },
          "shapedefaults": {
           "line": {
            "color": "#2a3f5f"
           }
          },
          "ternary": {
           "aaxis": {
            "gridcolor": "#DFE8F3",
            "linecolor": "#A2B1C6",
            "ticks": ""
           },
           "baxis": {
            "gridcolor": "#DFE8F3",
            "linecolor": "#A2B1C6",
            "ticks": ""
           },
           "bgcolor": "white",
           "caxis": {
            "gridcolor": "#DFE8F3",
            "linecolor": "#A2B1C6",
            "ticks": ""
           }
          },
          "title": {
           "x": 0.05
          },
          "xaxis": {
           "automargin": true,
           "gridcolor": "#EBF0F8",
           "linecolor": "#EBF0F8",
           "ticks": "",
           "title": {
            "standoff": 15
           },
           "zerolinecolor": "#EBF0F8",
           "zerolinewidth": 2
          },
          "yaxis": {
           "automargin": true,
           "gridcolor": "#EBF0F8",
           "linecolor": "#EBF0F8",
           "ticks": "",
           "title": {
            "standoff": 15
           },
           "zerolinecolor": "#EBF0F8",
           "zerolinewidth": 2
          }
         }
        },
        "title": {
         "text": "Loan Amount Distribution & Relationship with Monthly Income"
        },
        "xaxis": {
         "anchor": "y",
         "domain": [
          0,
          1
         ],
         "title": {
          "text": "Loan Amount (in $)"
         }
        },
        "xaxis2": {
         "anchor": "y2",
         "domain": [
          0,
          1
         ],
         "matches": "x",
         "showgrid": true,
         "showticklabels": false
        },
        "yaxis": {
         "anchor": "x",
         "domain": [
          0,
          0.8316
         ],
         "title": {
          "text": "Monthly Income (in $)"
         }
        },
        "yaxis2": {
         "anchor": "x2",
         "domain": [
          0.8416,
          1
         ],
         "matches": "y2",
         "showgrid": false,
         "showline": false,
         "showticklabels": false,
         "ticks": ""
        }
       }
      }
     },
     "metadata": {},
     "output_type": "display_data"
    }
   ],
   "source": [
    "\n",
    "fig = px.histogram(df, x='Loan_Amount', nbins=30, marginal=\"violin\", opacity=0.7,\n",
    "                   title=\"Loan Amount Distribution & Relationship with Monthly Income\",\n",
    "                   labels={'Loan_Amount': \"Loan Amount (in $)\", 'Monthly_Income': \"Monthly Income\"},\n",
    "                   color_discrete_sequence=[\"royalblue\"])\n",
    "\n",
    "fig.add_trace(go.Scatter(\n",
    "    x=sorted(df['Loan_Amount']),\n",
    "    y=px.histogram(df, x='Loan_Amount', nbins=30, histnorm='probability density').data[0]['y'],\n",
    "    mode='lines',\n",
    "    name='Density Curve',\n",
    "    line=dict(color='red', width=2)\n",
    "))\n",
    "\n",
    "scatter = px.scatter(df, x='Loan_Amount', y='Monthly_Income',\n",
    "                     color='Loan_Amount', color_continuous_scale='Viridis',\n",
    "                     size=df['Loan_Amount'], hover_name=df.index)\n",
    "\n",
    "for trace in scatter.data:\n",
    "    fig.add_trace(trace)\n",
    "\n",
    "fig.update_layout(\n",
    "    annotations=[\n",
    "        dict(\n",
    "            x=max(df['Loan_Amount']) * 0.8, y=max(df['Monthly_Income']),\n",
    "            text=\"Higher Loan Amounts are linked to Higher Income Levels\",\n",
    "            showarrow=True,\n",
    "            arrowhead=2,\n",
    "            font=dict(size=12, color=\"red\")\n",
    "        )\n",
    "    ],\n",
    "    xaxis_title=\"Loan Amount (in $)\",\n",
    "    yaxis_title=\"Monthly Income (in $)\",\n",
    "    template=\"plotly_white\",\n",
    "    showlegend=True\n",
    ")\n",
    "\n",
    "fig.show()"
   ]
  },
  {
   "cell_type": "markdown",
   "id": "f16ea089",
   "metadata": {},
   "source": [
    "The graph demonstrates a positive relationship between loan amounts and monthly income, indicating that individuals with higher income levels tend to secure larger loans. The density curve at the top shows the distribution of loan amounts, emphasizing that higher loan amounts are more frequent among higher income brackets.\n",
    "\n",
    "It highlights the proportionality between income and loan size, which shows an income-based approach in loan approvals or customer profiling"
   ]
  },
  {
   "cell_type": "markdown",
   "id": "01b8011c",
   "metadata": {},
   "source": []
  },
  {
   "cell_type": "code",
   "execution_count": 33,
   "id": "151a0cc3",
   "metadata": {},
   "outputs": [
    {
     "data": {
      "application/vnd.plotly.v1+json": {
       "config": {
        "plotlyServerURL": "https://plot.ly"
       },
       "data": [
        {
         "alignmentgroup": "True",
         "bingroup": "x",
         "hovertemplate": "Recovery_Status=Partially Recovered<br>Payment History=%{x}<br>count=%{y}<extra></extra>",
         "legendgroup": "Partially Recovered",
         "marker": {
          "color": "#00cc96",
          "pattern": {
           "shape": ""
          }
         },
         "name": "Partially Recovered",
         "offsetgroup": "Partially Recovered",
         "orientation": "v",
         "showlegend": true,
         "type": "histogram",
         "x": [
          "On-Time",
          "On-Time",
          "On-Time",
          "Delayed",
          "On-Time",
          "On-Time",
          "On-Time",
          "On-Time",
          "Delayed",
          "Delayed",
          "On-Time",
          "On-Time",
          "On-Time",
          "Delayed",
          "On-Time",
          "Delayed",
          "On-Time",
          "Delayed",
          "On-Time",
          "On-Time",
          "On-Time",
          "Missed",
          "On-Time",
          "On-Time",
          "On-Time",
          "On-Time",
          "On-Time",
          "Delayed",
          "Missed",
          "On-Time",
          "On-Time",
          "On-Time",
          "On-Time",
          "On-Time",
          "On-Time",
          "Missed",
          "On-Time",
          "Delayed",
          "Delayed",
          "On-Time",
          "Delayed",
          "Delayed",
          "Delayed",
          "On-Time",
          "Delayed",
          "Delayed",
          "Delayed",
          "Delayed",
          "On-Time",
          "Missed",
          "On-Time",
          "On-Time",
          "On-Time",
          "Missed",
          "Delayed",
          "Delayed",
          "Delayed",
          "Delayed",
          "On-Time",
          "Delayed",
          "On-Time",
          "Delayed",
          "On-Time",
          "On-Time",
          "On-Time",
          "On-Time",
          "Missed",
          "On-Time",
          "On-Time",
          "On-Time",
          "Delayed",
          "On-Time",
          "On-Time",
          "On-Time",
          "On-Time",
          "On-Time",
          "On-Time",
          "Delayed",
          "On-Time",
          "On-Time",
          "On-Time",
          "On-Time",
          "On-Time",
          "On-Time",
          "Delayed",
          "On-Time",
          "On-Time",
          "On-Time",
          "Delayed",
          "Missed",
          "On-Time",
          "On-Time",
          "Delayed",
          "Missed",
          "On-Time",
          "On-Time",
          "Delayed",
          "On-Time",
          "Delayed",
          "Missed",
          "On-Time",
          "On-Time",
          "On-Time",
          "Delayed",
          "On-Time",
          "On-Time",
          "Delayed",
          "Missed",
          "Delayed",
          "On-Time",
          "Delayed",
          "On-Time",
          "On-Time",
          "On-Time",
          "Delayed",
          "On-Time",
          "Delayed",
          "Delayed",
          "On-Time",
          "On-Time",
          "On-Time",
          "On-Time",
          "Delayed",
          "Missed",
          "Delayed",
          "On-Time",
          "On-Time",
          "Missed",
          "On-Time",
          "Delayed",
          "Delayed",
          "Delayed",
          "Delayed",
          "Missed",
          "On-Time",
          "On-Time",
          "Delayed",
          "On-Time",
          "Delayed",
          "On-Time",
          "On-Time",
          "On-Time",
          "On-Time",
          "On-Time",
          "Missed",
          "Delayed",
          "On-Time",
          "On-Time",
          "On-Time",
          "On-Time",
          "On-Time",
          "On-Time",
          "Delayed",
          "On-Time"
         ],
         "xaxis": "x",
         "yaxis": "y"
        },
        {
         "alignmentgroup": "True",
         "bingroup": "x",
         "hovertemplate": "Recovery_Status=Fully Recovered<br>Payment History=%{x}<br>count=%{y}<extra></extra>",
         "legendgroup": "Fully Recovered",
         "marker": {
          "color": "#ab63fa",
          "pattern": {
           "shape": ""
          }
         },
         "name": "Fully Recovered",
         "offsetgroup": "Fully Recovered",
         "orientation": "v",
         "showlegend": true,
         "type": "histogram",
         "x": [
          "On-Time",
          "Delayed",
          "On-Time",
          "On-Time",
          "Delayed",
          "On-Time",
          "On-Time",
          "On-Time",
          "Missed",
          "On-Time",
          "On-Time",
          "Delayed",
          "On-Time",
          "Delayed",
          "Missed",
          "Missed",
          "Delayed",
          "On-Time",
          "On-Time",
          "On-Time",
          "On-Time",
          "On-Time",
          "On-Time",
          "On-Time",
          "On-Time",
          "On-Time",
          "Missed",
          "On-Time",
          "On-Time",
          "On-Time",
          "On-Time",
          "On-Time",
          "Delayed",
          "On-Time",
          "On-Time",
          "Delayed",
          "Delayed",
          "On-Time",
          "Delayed",
          "On-Time",
          "On-Time",
          "On-Time",
          "On-Time",
          "Delayed",
          "On-Time",
          "Missed",
          "On-Time",
          "On-Time",
          "Delayed",
          "Delayed",
          "Delayed",
          "On-Time",
          "On-Time",
          "Delayed",
          "On-Time",
          "On-Time",
          "Delayed",
          "Missed",
          "On-Time",
          "Missed",
          "Delayed",
          "On-Time",
          "On-Time",
          "On-Time",
          "On-Time",
          "On-Time",
          "Delayed",
          "Delayed",
          "On-Time",
          "Delayed",
          "Delayed",
          "On-Time",
          "On-Time",
          "On-Time",
          "On-Time",
          "Delayed",
          "Delayed",
          "Delayed",
          "On-Time",
          "On-Time",
          "Missed",
          "Delayed",
          "Delayed",
          "On-Time",
          "On-Time",
          "Delayed",
          "On-Time",
          "On-Time",
          "On-Time",
          "Delayed",
          "Missed",
          "Missed",
          "On-Time",
          "Delayed",
          "On-Time",
          "On-Time",
          "Missed",
          "On-Time",
          "On-Time",
          "On-Time",
          "On-Time",
          "Delayed",
          "On-Time",
          "On-Time",
          "On-Time",
          "Delayed",
          "Delayed",
          "On-Time",
          "On-Time",
          "On-Time",
          "On-Time",
          "On-Time",
          "Missed",
          "On-Time",
          "On-Time",
          "Delayed",
          "Delayed",
          "On-Time",
          "On-Time",
          "On-Time",
          "On-Time",
          "Delayed",
          "On-Time",
          "Delayed",
          "Delayed",
          "On-Time",
          "Missed",
          "On-Time",
          "On-Time",
          "On-Time",
          "Missed",
          "Delayed",
          "Delayed",
          "Delayed",
          "On-Time",
          "On-Time",
          "On-Time",
          "Missed",
          "Missed",
          "On-Time",
          "On-Time",
          "Delayed",
          "On-Time",
          "Delayed",
          "On-Time",
          "Delayed",
          "Missed",
          "On-Time",
          "Missed",
          "Delayed",
          "On-Time",
          "On-Time",
          "Missed",
          "Delayed",
          "On-Time",
          "On-Time",
          "On-Time",
          "Delayed",
          "On-Time",
          "On-Time",
          "On-Time",
          "On-Time",
          "On-Time",
          "Delayed",
          "On-Time",
          "On-Time",
          "On-Time",
          "On-Time",
          "On-Time",
          "On-Time",
          "On-Time",
          "On-Time",
          "On-Time",
          "On-Time",
          "On-Time",
          "On-Time",
          "On-Time",
          "On-Time",
          "On-Time",
          "On-Time",
          "On-Time",
          "Delayed",
          "On-Time",
          "On-Time",
          "On-Time",
          "On-Time",
          "Delayed",
          "Delayed",
          "On-Time",
          "On-Time",
          "On-Time",
          "Missed",
          "Missed",
          "Delayed",
          "Delayed",
          "On-Time",
          "Missed",
          "Delayed",
          "On-Time",
          "On-Time",
          "On-Time",
          "Missed",
          "On-Time",
          "On-Time",
          "Delayed",
          "On-Time",
          "Delayed",
          "On-Time",
          "Delayed",
          "On-Time",
          "On-Time",
          "On-Time",
          "On-Time",
          "On-Time",
          "On-Time",
          "On-Time",
          "On-Time",
          "On-Time",
          "Delayed",
          "Delayed",
          "Delayed",
          "On-Time",
          "On-Time",
          "Delayed",
          "Missed",
          "On-Time",
          "On-Time",
          "On-Time",
          "Delayed",
          "Delayed",
          "On-Time",
          "On-Time",
          "Delayed",
          "Delayed",
          "On-Time",
          "On-Time",
          "Delayed",
          "Missed",
          "On-Time",
          "Delayed",
          "On-Time",
          "On-Time",
          "Delayed",
          "On-Time",
          "Delayed",
          "On-Time",
          "Missed",
          "On-Time",
          "On-Time",
          "On-Time",
          "On-Time",
          "On-Time",
          "Delayed",
          "On-Time",
          "On-Time",
          "Delayed",
          "On-Time",
          "On-Time",
          "On-Time",
          "On-Time",
          "On-Time",
          "Missed",
          "Delayed",
          "On-Time",
          "On-Time",
          "On-Time",
          "On-Time",
          "On-Time",
          "Delayed",
          "Missed",
          "Missed",
          "On-Time",
          "On-Time",
          "Delayed",
          "On-Time",
          "Missed",
          "Missed",
          "On-Time",
          "Missed",
          "On-Time",
          "On-Time",
          "On-Time",
          "On-Time",
          "On-Time",
          "Delayed",
          "Missed",
          "On-Time",
          "Delayed",
          "Missed",
          "Delayed",
          "Missed",
          "Delayed",
          "Delayed",
          "On-Time",
          "Delayed",
          "Delayed"
         ],
         "xaxis": "x",
         "yaxis": "y"
        },
        {
         "alignmentgroup": "True",
         "bingroup": "x",
         "hovertemplate": "Recovery_Status=Written Off<br>Payment History=%{x}<br>count=%{y}<extra></extra>",
         "legendgroup": "Written Off",
         "marker": {
          "color": "#FFA15A",
          "pattern": {
           "shape": ""
          }
         },
         "name": "Written Off",
         "offsetgroup": "Written Off",
         "orientation": "v",
         "showlegend": true,
         "type": "histogram",
         "x": [
          "Delayed",
          "Delayed",
          "On-Time",
          "Delayed",
          "On-Time",
          "On-Time",
          "On-Time",
          "On-Time",
          "Delayed",
          "On-Time",
          "On-Time",
          "On-Time",
          "Delayed",
          "Delayed",
          "On-Time",
          "Missed",
          "Missed",
          "On-Time",
          "Missed",
          "Delayed",
          "Delayed",
          "On-Time",
          "On-Time",
          "Missed",
          "On-Time",
          "Delayed",
          "On-Time",
          "Delayed",
          "On-Time",
          "On-Time",
          "On-Time",
          "On-Time",
          "On-Time",
          "Delayed",
          "Delayed",
          "On-Time",
          "On-Time",
          "On-Time",
          "Delayed",
          "Delayed",
          "Missed",
          "On-Time",
          "On-Time",
          "On-Time",
          "On-Time",
          "On-Time",
          "On-Time",
          "Delayed",
          "On-Time",
          "On-Time"
         ],
         "xaxis": "x",
         "yaxis": "y"
        }
       ],
       "layout": {
        "barmode": "group",
        "legend": {
         "title": {
          "text": "Recovery Status"
         },
         "tracegroupgap": 0
        },
        "template": {
         "data": {
          "bar": [
           {
            "error_x": {
             "color": "#2a3f5f"
            },
            "error_y": {
             "color": "#2a3f5f"
            },
            "marker": {
             "line": {
              "color": "white",
              "width": 0.5
             },
             "pattern": {
              "fillmode": "overlay",
              "size": 10,
              "solidity": 0.2
             }
            },
            "type": "bar"
           }
          ],
          "barpolar": [
           {
            "marker": {
             "line": {
              "color": "white",
              "width": 0.5
             },
             "pattern": {
              "fillmode": "overlay",
              "size": 10,
              "solidity": 0.2
             }
            },
            "type": "barpolar"
           }
          ],
          "carpet": [
           {
            "aaxis": {
             "endlinecolor": "#2a3f5f",
             "gridcolor": "#C8D4E3",
             "linecolor": "#C8D4E3",
             "minorgridcolor": "#C8D4E3",
             "startlinecolor": "#2a3f5f"
            },
            "baxis": {
             "endlinecolor": "#2a3f5f",
             "gridcolor": "#C8D4E3",
             "linecolor": "#C8D4E3",
             "minorgridcolor": "#C8D4E3",
             "startlinecolor": "#2a3f5f"
            },
            "type": "carpet"
           }
          ],
          "choropleth": [
           {
            "colorbar": {
             "outlinewidth": 0,
             "ticks": ""
            },
            "type": "choropleth"
           }
          ],
          "contour": [
           {
            "colorbar": {
             "outlinewidth": 0,
             "ticks": ""
            },
            "colorscale": [
             [
              0,
              "#0d0887"
             ],
             [
              0.1111111111111111,
              "#46039f"
             ],
             [
              0.2222222222222222,
              "#7201a8"
             ],
             [
              0.3333333333333333,
              "#9c179e"
             ],
             [
              0.4444444444444444,
              "#bd3786"
             ],
             [
              0.5555555555555556,
              "#d8576b"
             ],
             [
              0.6666666666666666,
              "#ed7953"
             ],
             [
              0.7777777777777778,
              "#fb9f3a"
             ],
             [
              0.8888888888888888,
              "#fdca26"
             ],
             [
              1,
              "#f0f921"
             ]
            ],
            "type": "contour"
           }
          ],
          "contourcarpet": [
           {
            "colorbar": {
             "outlinewidth": 0,
             "ticks": ""
            },
            "type": "contourcarpet"
           }
          ],
          "heatmap": [
           {
            "colorbar": {
             "outlinewidth": 0,
             "ticks": ""
            },
            "colorscale": [
             [
              0,
              "#0d0887"
             ],
             [
              0.1111111111111111,
              "#46039f"
             ],
             [
              0.2222222222222222,
              "#7201a8"
             ],
             [
              0.3333333333333333,
              "#9c179e"
             ],
             [
              0.4444444444444444,
              "#bd3786"
             ],
             [
              0.5555555555555556,
              "#d8576b"
             ],
             [
              0.6666666666666666,
              "#ed7953"
             ],
             [
              0.7777777777777778,
              "#fb9f3a"
             ],
             [
              0.8888888888888888,
              "#fdca26"
             ],
             [
              1,
              "#f0f921"
             ]
            ],
            "type": "heatmap"
           }
          ],
          "histogram": [
           {
            "marker": {
             "pattern": {
              "fillmode": "overlay",
              "size": 10,
              "solidity": 0.2
             }
            },
            "type": "histogram"
           }
          ],
          "histogram2d": [
           {
            "colorbar": {
             "outlinewidth": 0,
             "ticks": ""
            },
            "colorscale": [
             [
              0,
              "#0d0887"
             ],
             [
              0.1111111111111111,
              "#46039f"
             ],
             [
              0.2222222222222222,
              "#7201a8"
             ],
             [
              0.3333333333333333,
              "#9c179e"
             ],
             [
              0.4444444444444444,
              "#bd3786"
             ],
             [
              0.5555555555555556,
              "#d8576b"
             ],
             [
              0.6666666666666666,
              "#ed7953"
             ],
             [
              0.7777777777777778,
              "#fb9f3a"
             ],
             [
              0.8888888888888888,
              "#fdca26"
             ],
             [
              1,
              "#f0f921"
             ]
            ],
            "type": "histogram2d"
           }
          ],
          "histogram2dcontour": [
           {
            "colorbar": {
             "outlinewidth": 0,
             "ticks": ""
            },
            "colorscale": [
             [
              0,
              "#0d0887"
             ],
             [
              0.1111111111111111,
              "#46039f"
             ],
             [
              0.2222222222222222,
              "#7201a8"
             ],
             [
              0.3333333333333333,
              "#9c179e"
             ],
             [
              0.4444444444444444,
              "#bd3786"
             ],
             [
              0.5555555555555556,
              "#d8576b"
             ],
             [
              0.6666666666666666,
              "#ed7953"
             ],
             [
              0.7777777777777778,
              "#fb9f3a"
             ],
             [
              0.8888888888888888,
              "#fdca26"
             ],
             [
              1,
              "#f0f921"
             ]
            ],
            "type": "histogram2dcontour"
           }
          ],
          "mesh3d": [
           {
            "colorbar": {
             "outlinewidth": 0,
             "ticks": ""
            },
            "type": "mesh3d"
           }
          ],
          "parcoords": [
           {
            "line": {
             "colorbar": {
              "outlinewidth": 0,
              "ticks": ""
             }
            },
            "type": "parcoords"
           }
          ],
          "pie": [
           {
            "automargin": true,
            "type": "pie"
           }
          ],
          "scatter": [
           {
            "fillpattern": {
             "fillmode": "overlay",
             "size": 10,
             "solidity": 0.2
            },
            "type": "scatter"
           }
          ],
          "scatter3d": [
           {
            "line": {
             "colorbar": {
              "outlinewidth": 0,
              "ticks": ""
             }
            },
            "marker": {
             "colorbar": {
              "outlinewidth": 0,
              "ticks": ""
             }
            },
            "type": "scatter3d"
           }
          ],
          "scattercarpet": [
           {
            "marker": {
             "colorbar": {
              "outlinewidth": 0,
              "ticks": ""
             }
            },
            "type": "scattercarpet"
           }
          ],
          "scattergeo": [
           {
            "marker": {
             "colorbar": {
              "outlinewidth": 0,
              "ticks": ""
             }
            },
            "type": "scattergeo"
           }
          ],
          "scattergl": [
           {
            "marker": {
             "colorbar": {
              "outlinewidth": 0,
              "ticks": ""
             }
            },
            "type": "scattergl"
           }
          ],
          "scattermap": [
           {
            "marker": {
             "colorbar": {
              "outlinewidth": 0,
              "ticks": ""
             }
            },
            "type": "scattermap"
           }
          ],
          "scattermapbox": [
           {
            "marker": {
             "colorbar": {
              "outlinewidth": 0,
              "ticks": ""
             }
            },
            "type": "scattermapbox"
           }
          ],
          "scatterpolar": [
           {
            "marker": {
             "colorbar": {
              "outlinewidth": 0,
              "ticks": ""
             }
            },
            "type": "scatterpolar"
           }
          ],
          "scatterpolargl": [
           {
            "marker": {
             "colorbar": {
              "outlinewidth": 0,
              "ticks": ""
             }
            },
            "type": "scatterpolargl"
           }
          ],
          "scatterternary": [
           {
            "marker": {
             "colorbar": {
              "outlinewidth": 0,
              "ticks": ""
             }
            },
            "type": "scatterternary"
           }
          ],
          "surface": [
           {
            "colorbar": {
             "outlinewidth": 0,
             "ticks": ""
            },
            "colorscale": [
             [
              0,
              "#0d0887"
             ],
             [
              0.1111111111111111,
              "#46039f"
             ],
             [
              0.2222222222222222,
              "#7201a8"
             ],
             [
              0.3333333333333333,
              "#9c179e"
             ],
             [
              0.4444444444444444,
              "#bd3786"
             ],
             [
              0.5555555555555556,
              "#d8576b"
             ],
             [
              0.6666666666666666,
              "#ed7953"
             ],
             [
              0.7777777777777778,
              "#fb9f3a"
             ],
             [
              0.8888888888888888,
              "#fdca26"
             ],
             [
              1,
              "#f0f921"
             ]
            ],
            "type": "surface"
           }
          ],
          "table": [
           {
            "cells": {
             "fill": {
              "color": "#EBF0F8"
             },
             "line": {
              "color": "white"
             }
            },
            "header": {
             "fill": {
              "color": "#C8D4E3"
             },
             "line": {
              "color": "white"
             }
            },
            "type": "table"
           }
          ]
         },
         "layout": {
          "annotationdefaults": {
           "arrowcolor": "#2a3f5f",
           "arrowhead": 0,
           "arrowwidth": 1
          },
          "autotypenumbers": "strict",
          "coloraxis": {
           "colorbar": {
            "outlinewidth": 0,
            "ticks": ""
           }
          },
          "colorscale": {
           "diverging": [
            [
             0,
             "#8e0152"
            ],
            [
             0.1,
             "#c51b7d"
            ],
            [
             0.2,
             "#de77ae"
            ],
            [
             0.3,
             "#f1b6da"
            ],
            [
             0.4,
             "#fde0ef"
            ],
            [
             0.5,
             "#f7f7f7"
            ],
            [
             0.6,
             "#e6f5d0"
            ],
            [
             0.7,
             "#b8e186"
            ],
            [
             0.8,
             "#7fbc41"
            ],
            [
             0.9,
             "#4d9221"
            ],
            [
             1,
             "#276419"
            ]
           ],
           "sequential": [
            [
             0,
             "#0d0887"
            ],
            [
             0.1111111111111111,
             "#46039f"
            ],
            [
             0.2222222222222222,
             "#7201a8"
            ],
            [
             0.3333333333333333,
             "#9c179e"
            ],
            [
             0.4444444444444444,
             "#bd3786"
            ],
            [
             0.5555555555555556,
             "#d8576b"
            ],
            [
             0.6666666666666666,
             "#ed7953"
            ],
            [
             0.7777777777777778,
             "#fb9f3a"
            ],
            [
             0.8888888888888888,
             "#fdca26"
            ],
            [
             1,
             "#f0f921"
            ]
           ],
           "sequentialminus": [
            [
             0,
             "#0d0887"
            ],
            [
             0.1111111111111111,
             "#46039f"
            ],
            [
             0.2222222222222222,
             "#7201a8"
            ],
            [
             0.3333333333333333,
             "#9c179e"
            ],
            [
             0.4444444444444444,
             "#bd3786"
            ],
            [
             0.5555555555555556,
             "#d8576b"
            ],
            [
             0.6666666666666666,
             "#ed7953"
            ],
            [
             0.7777777777777778,
             "#fb9f3a"
            ],
            [
             0.8888888888888888,
             "#fdca26"
            ],
            [
             1,
             "#f0f921"
            ]
           ]
          },
          "colorway": [
           "#636efa",
           "#EF553B",
           "#00cc96",
           "#ab63fa",
           "#FFA15A",
           "#19d3f3",
           "#FF6692",
           "#B6E880",
           "#FF97FF",
           "#FECB52"
          ],
          "font": {
           "color": "#2a3f5f"
          },
          "geo": {
           "bgcolor": "white",
           "lakecolor": "white",
           "landcolor": "white",
           "showlakes": true,
           "showland": true,
           "subunitcolor": "#C8D4E3"
          },
          "hoverlabel": {
           "align": "left"
          },
          "hovermode": "closest",
          "mapbox": {
           "style": "light"
          },
          "paper_bgcolor": "white",
          "plot_bgcolor": "white",
          "polar": {
           "angularaxis": {
            "gridcolor": "#EBF0F8",
            "linecolor": "#EBF0F8",
            "ticks": ""
           },
           "bgcolor": "white",
           "radialaxis": {
            "gridcolor": "#EBF0F8",
            "linecolor": "#EBF0F8",
            "ticks": ""
           }
          },
          "scene": {
           "xaxis": {
            "backgroundcolor": "white",
            "gridcolor": "#DFE8F3",
            "gridwidth": 2,
            "linecolor": "#EBF0F8",
            "showbackground": true,
            "ticks": "",
            "zerolinecolor": "#EBF0F8"
           },
           "yaxis": {
            "backgroundcolor": "white",
            "gridcolor": "#DFE8F3",
            "gridwidth": 2,
            "linecolor": "#EBF0F8",
            "showbackground": true,
            "ticks": "",
            "zerolinecolor": "#EBF0F8"
           },
           "zaxis": {
            "backgroundcolor": "white",
            "gridcolor": "#DFE8F3",
            "gridwidth": 2,
            "linecolor": "#EBF0F8",
            "showbackground": true,
            "ticks": "",
            "zerolinecolor": "#EBF0F8"
           }
          },
          "shapedefaults": {
           "line": {
            "color": "#2a3f5f"
           }
          },
          "ternary": {
           "aaxis": {
            "gridcolor": "#DFE8F3",
            "linecolor": "#A2B1C6",
            "ticks": ""
           },
           "baxis": {
            "gridcolor": "#DFE8F3",
            "linecolor": "#A2B1C6",
            "ticks": ""
           },
           "bgcolor": "white",
           "caxis": {
            "gridcolor": "#DFE8F3",
            "linecolor": "#A2B1C6",
            "ticks": ""
           }
          },
          "title": {
           "x": 0.05
          },
          "xaxis": {
           "automargin": true,
           "gridcolor": "#EBF0F8",
           "linecolor": "#EBF0F8",
           "ticks": "",
           "title": {
            "standoff": 15
           },
           "zerolinecolor": "#EBF0F8",
           "zerolinewidth": 2
          },
          "yaxis": {
           "automargin": true,
           "gridcolor": "#EBF0F8",
           "linecolor": "#EBF0F8",
           "ticks": "",
           "title": {
            "standoff": 15
           },
           "zerolinecolor": "#EBF0F8",
           "zerolinewidth": 2
          }
         }
        },
        "title": {
         "text": "How Payment History Affects Loan Recovery Status"
        },
        "xaxis": {
         "anchor": "y",
         "domain": [
          0,
          1
         ],
         "title": {
          "text": "Payment History"
         }
        },
        "yaxis": {
         "anchor": "x",
         "domain": [
          0,
          1
         ],
         "title": {
          "text": "Number of Loans"
         }
        }
       }
      }
     },
     "metadata": {},
     "output_type": "display_data"
    }
   ],
   "source": [
    "fig = px.histogram(df, x=\"Payment_History\", color=\"Recovery_Status\", barmode=\"group\",\n",
    "                   title=\"How Payment History Affects Loan Recovery Status\",\n",
    "                   labels={\"Payment_History\": \"Payment History\", \"count\": \"Number of Loans\"},\n",
    "                   color_discrete_map={\"Recovered\": \"green\", \"Not Recovered\": \"red\"})\n",
    "\n",
    "fig.update_layout(\n",
    "    xaxis_title=\"Payment History\",\n",
    "    yaxis_title=\"Number of Loans\",\n",
    "    legend_title=\"Recovery Status\",\n",
    "    template=\"plotly_white\",\n",
    "        )\n",
    "\n",
    "fig.show()"
   ]
  },
  {
   "cell_type": "markdown",
   "id": "c874736c",
   "metadata": {},
   "source": [
    "Loans with on-time payments are mostly fully recovered. Delayed payments result in a mix of partial and full recoveries, with some written off. Missed payments have a significantly lower recovery rate, with most loans ending up either partially recovered or written off."
   ]
  },
  {
   "cell_type": "code",
   "execution_count": 34,
   "id": "633fe3c4",
   "metadata": {},
   "outputs": [
    {
     "data": {
      "application/vnd.plotly.v1+json": {
       "config": {
        "plotlyServerURL": "https://plot.ly"
       },
       "data": [
        {
         "alignmentgroup": "True",
         "boxpoints": "all",
         "hovertemplate": "Recovery Status=%{x}<br>Number of Missed Payments=%{y}<extra></extra>",
         "legendgroup": "Partially Recovered",
         "marker": {
          "color": "#00cc96"
         },
         "name": "Partially Recovered",
         "notched": false,
         "offsetgroup": "Partially Recovered",
         "orientation": "v",
         "showlegend": true,
         "type": "box",
         "x": [
          "Partially Recovered",
          "Partially Recovered",
          "Partially Recovered",
          "Partially Recovered",
          "Partially Recovered",
          "Partially Recovered",
          "Partially Recovered",
          "Partially Recovered",
          "Partially Recovered",
          "Partially Recovered",
          "Partially Recovered",
          "Partially Recovered",
          "Partially Recovered",
          "Partially Recovered",
          "Partially Recovered",
          "Partially Recovered",
          "Partially Recovered",
          "Partially Recovered",
          "Partially Recovered",
          "Partially Recovered",
          "Partially Recovered",
          "Partially Recovered",
          "Partially Recovered",
          "Partially Recovered",
          "Partially Recovered",
          "Partially Recovered",
          "Partially Recovered",
          "Partially Recovered",
          "Partially Recovered",
          "Partially Recovered",
          "Partially Recovered",
          "Partially Recovered",
          "Partially Recovered",
          "Partially Recovered",
          "Partially Recovered",
          "Partially Recovered",
          "Partially Recovered",
          "Partially Recovered",
          "Partially Recovered",
          "Partially Recovered",
          "Partially Recovered",
          "Partially Recovered",
          "Partially Recovered",
          "Partially Recovered",
          "Partially Recovered",
          "Partially Recovered",
          "Partially Recovered",
          "Partially Recovered",
          "Partially Recovered",
          "Partially Recovered",
          "Partially Recovered",
          "Partially Recovered",
          "Partially Recovered",
          "Partially Recovered",
          "Partially Recovered",
          "Partially Recovered",
          "Partially Recovered",
          "Partially Recovered",
          "Partially Recovered",
          "Partially Recovered",
          "Partially Recovered",
          "Partially Recovered",
          "Partially Recovered",
          "Partially Recovered",
          "Partially Recovered",
          "Partially Recovered",
          "Partially Recovered",
          "Partially Recovered",
          "Partially Recovered",
          "Partially Recovered",
          "Partially Recovered",
          "Partially Recovered",
          "Partially Recovered",
          "Partially Recovered",
          "Partially Recovered",
          "Partially Recovered",
          "Partially Recovered",
          "Partially Recovered",
          "Partially Recovered",
          "Partially Recovered",
          "Partially Recovered",
          "Partially Recovered",
          "Partially Recovered",
          "Partially Recovered",
          "Partially Recovered",
          "Partially Recovered",
          "Partially Recovered",
          "Partially Recovered",
          "Partially Recovered",
          "Partially Recovered",
          "Partially Recovered",
          "Partially Recovered",
          "Partially Recovered",
          "Partially Recovered",
          "Partially Recovered",
          "Partially Recovered",
          "Partially Recovered",
          "Partially Recovered",
          "Partially Recovered",
          "Partially Recovered",
          "Partially Recovered",
          "Partially Recovered",
          "Partially Recovered",
          "Partially Recovered",
          "Partially Recovered",
          "Partially Recovered",
          "Partially Recovered",
          "Partially Recovered",
          "Partially Recovered",
          "Partially Recovered",
          "Partially Recovered",
          "Partially Recovered",
          "Partially Recovered",
          "Partially Recovered",
          "Partially Recovered",
          "Partially Recovered",
          "Partially Recovered",
          "Partially Recovered",
          "Partially Recovered",
          "Partially Recovered",
          "Partially Recovered",
          "Partially Recovered",
          "Partially Recovered",
          "Partially Recovered",
          "Partially Recovered",
          "Partially Recovered",
          "Partially Recovered",
          "Partially Recovered",
          "Partially Recovered",
          "Partially Recovered",
          "Partially Recovered",
          "Partially Recovered",
          "Partially Recovered",
          "Partially Recovered",
          "Partially Recovered",
          "Partially Recovered",
          "Partially Recovered",
          "Partially Recovered",
          "Partially Recovered",
          "Partially Recovered",
          "Partially Recovered",
          "Partially Recovered",
          "Partially Recovered",
          "Partially Recovered",
          "Partially Recovered",
          "Partially Recovered",
          "Partially Recovered",
          "Partially Recovered",
          "Partially Recovered",
          "Partially Recovered",
          "Partially Recovered",
          "Partially Recovered",
          "Partially Recovered",
          "Partially Recovered"
         ],
         "x0": " ",
         "xaxis": "x",
         "y": {
          "bdata": "AAEAAAIAAgIAAwIBAAAAAwICAgECAAABAgMAAwgCAAMAAgIAAgADAQIAAAAAAQIBAQgBAQAKAAACAQEBAgABAwMAAAMAAAEDAAIDAgIBAwABAQMAAAACAQMAAQEDAgICAAMCBAECAgICAAILAAECAwACAgEAAgEDAQMAAwEBAAkDAwEBAwwDAwMBAwIBAwEAAgMBAQMDAwACAw==",
          "dtype": "i1"
         },
         "y0": " ",
         "yaxis": "y"
        },
        {
         "alignmentgroup": "True",
         "boxpoints": "all",
         "hovertemplate": "Recovery Status=%{x}<br>Number of Missed Payments=%{y}<extra></extra>",
         "legendgroup": "Fully Recovered",
         "marker": {
          "color": "#ab63fa"
         },
         "name": "Fully Recovered",
         "notched": false,
         "offsetgroup": "Fully Recovered",
         "orientation": "v",
         "showlegend": true,
         "type": "box",
         "x": [
          "Fully Recovered",
          "Fully Recovered",
          "Fully Recovered",
          "Fully Recovered",
          "Fully Recovered",
          "Fully Recovered",
          "Fully Recovered",
          "Fully Recovered",
          "Fully Recovered",
          "Fully Recovered",
          "Fully Recovered",
          "Fully Recovered",
          "Fully Recovered",
          "Fully Recovered",
          "Fully Recovered",
          "Fully Recovered",
          "Fully Recovered",
          "Fully Recovered",
          "Fully Recovered",
          "Fully Recovered",
          "Fully Recovered",
          "Fully Recovered",
          "Fully Recovered",
          "Fully Recovered",
          "Fully Recovered",
          "Fully Recovered",
          "Fully Recovered",
          "Fully Recovered",
          "Fully Recovered",
          "Fully Recovered",
          "Fully Recovered",
          "Fully Recovered",
          "Fully Recovered",
          "Fully Recovered",
          "Fully Recovered",
          "Fully Recovered",
          "Fully Recovered",
          "Fully Recovered",
          "Fully Recovered",
          "Fully Recovered",
          "Fully Recovered",
          "Fully Recovered",
          "Fully Recovered",
          "Fully Recovered",
          "Fully Recovered",
          "Fully Recovered",
          "Fully Recovered",
          "Fully Recovered",
          "Fully Recovered",
          "Fully Recovered",
          "Fully Recovered",
          "Fully Recovered",
          "Fully Recovered",
          "Fully Recovered",
          "Fully Recovered",
          "Fully Recovered",
          "Fully Recovered",
          "Fully Recovered",
          "Fully Recovered",
          "Fully Recovered",
          "Fully Recovered",
          "Fully Recovered",
          "Fully Recovered",
          "Fully Recovered",
          "Fully Recovered",
          "Fully Recovered",
          "Fully Recovered",
          "Fully Recovered",
          "Fully Recovered",
          "Fully Recovered",
          "Fully Recovered",
          "Fully Recovered",
          "Fully Recovered",
          "Fully Recovered",
          "Fully Recovered",
          "Fully Recovered",
          "Fully Recovered",
          "Fully Recovered",
          "Fully Recovered",
          "Fully Recovered",
          "Fully Recovered",
          "Fully Recovered",
          "Fully Recovered",
          "Fully Recovered",
          "Fully Recovered",
          "Fully Recovered",
          "Fully Recovered",
          "Fully Recovered",
          "Fully Recovered",
          "Fully Recovered",
          "Fully Recovered",
          "Fully Recovered",
          "Fully Recovered",
          "Fully Recovered",
          "Fully Recovered",
          "Fully Recovered",
          "Fully Recovered",
          "Fully Recovered",
          "Fully Recovered",
          "Fully Recovered",
          "Fully Recovered",
          "Fully Recovered",
          "Fully Recovered",
          "Fully Recovered",
          "Fully Recovered",
          "Fully Recovered",
          "Fully Recovered",
          "Fully Recovered",
          "Fully Recovered",
          "Fully Recovered",
          "Fully Recovered",
          "Fully Recovered",
          "Fully Recovered",
          "Fully Recovered",
          "Fully Recovered",
          "Fully Recovered",
          "Fully Recovered",
          "Fully Recovered",
          "Fully Recovered",
          "Fully Recovered",
          "Fully Recovered",
          "Fully Recovered",
          "Fully Recovered",
          "Fully Recovered",
          "Fully Recovered",
          "Fully Recovered",
          "Fully Recovered",
          "Fully Recovered",
          "Fully Recovered",
          "Fully Recovered",
          "Fully Recovered",
          "Fully Recovered",
          "Fully Recovered",
          "Fully Recovered",
          "Fully Recovered",
          "Fully Recovered",
          "Fully Recovered",
          "Fully Recovered",
          "Fully Recovered",
          "Fully Recovered",
          "Fully Recovered",
          "Fully Recovered",
          "Fully Recovered",
          "Fully Recovered",
          "Fully Recovered",
          "Fully Recovered",
          "Fully Recovered",
          "Fully Recovered",
          "Fully Recovered",
          "Fully Recovered",
          "Fully Recovered",
          "Fully Recovered",
          "Fully Recovered",
          "Fully Recovered",
          "Fully Recovered",
          "Fully Recovered",
          "Fully Recovered",
          "Fully Recovered",
          "Fully Recovered",
          "Fully Recovered",
          "Fully Recovered",
          "Fully Recovered",
          "Fully Recovered",
          "Fully Recovered",
          "Fully Recovered",
          "Fully Recovered",
          "Fully Recovered",
          "Fully Recovered",
          "Fully Recovered",
          "Fully Recovered",
          "Fully Recovered",
          "Fully Recovered",
          "Fully Recovered",
          "Fully Recovered",
          "Fully Recovered",
          "Fully Recovered",
          "Fully Recovered",
          "Fully Recovered",
          "Fully Recovered",
          "Fully Recovered",
          "Fully Recovered",
          "Fully Recovered",
          "Fully Recovered",
          "Fully Recovered",
          "Fully Recovered",
          "Fully Recovered",
          "Fully Recovered",
          "Fully Recovered",
          "Fully Recovered",
          "Fully Recovered",
          "Fully Recovered",
          "Fully Recovered",
          "Fully Recovered",
          "Fully Recovered",
          "Fully Recovered",
          "Fully Recovered",
          "Fully Recovered",
          "Fully Recovered",
          "Fully Recovered",
          "Fully Recovered",
          "Fully Recovered",
          "Fully Recovered",
          "Fully Recovered",
          "Fully Recovered",
          "Fully Recovered",
          "Fully Recovered",
          "Fully Recovered",
          "Fully Recovered",
          "Fully Recovered",
          "Fully Recovered",
          "Fully Recovered",
          "Fully Recovered",
          "Fully Recovered",
          "Fully Recovered",
          "Fully Recovered",
          "Fully Recovered",
          "Fully Recovered",
          "Fully Recovered",
          "Fully Recovered",
          "Fully Recovered",
          "Fully Recovered",
          "Fully Recovered",
          "Fully Recovered",
          "Fully Recovered",
          "Fully Recovered",
          "Fully Recovered",
          "Fully Recovered",
          "Fully Recovered",
          "Fully Recovered",
          "Fully Recovered",
          "Fully Recovered",
          "Fully Recovered",
          "Fully Recovered",
          "Fully Recovered",
          "Fully Recovered",
          "Fully Recovered",
          "Fully Recovered",
          "Fully Recovered",
          "Fully Recovered",
          "Fully Recovered",
          "Fully Recovered",
          "Fully Recovered",
          "Fully Recovered",
          "Fully Recovered",
          "Fully Recovered",
          "Fully Recovered",
          "Fully Recovered",
          "Fully Recovered",
          "Fully Recovered",
          "Fully Recovered",
          "Fully Recovered",
          "Fully Recovered",
          "Fully Recovered",
          "Fully Recovered",
          "Fully Recovered",
          "Fully Recovered",
          "Fully Recovered",
          "Fully Recovered",
          "Fully Recovered",
          "Fully Recovered",
          "Fully Recovered",
          "Fully Recovered",
          "Fully Recovered",
          "Fully Recovered",
          "Fully Recovered",
          "Fully Recovered",
          "Fully Recovered",
          "Fully Recovered",
          "Fully Recovered",
          "Fully Recovered",
          "Fully Recovered",
          "Fully Recovered",
          "Fully Recovered",
          "Fully Recovered",
          "Fully Recovered",
          "Fully Recovered",
          "Fully Recovered",
          "Fully Recovered",
          "Fully Recovered",
          "Fully Recovered",
          "Fully Recovered",
          "Fully Recovered",
          "Fully Recovered",
          "Fully Recovered",
          "Fully Recovered",
          "Fully Recovered",
          "Fully Recovered",
          "Fully Recovered",
          "Fully Recovered",
          "Fully Recovered",
          "Fully Recovered",
          "Fully Recovered",
          "Fully Recovered",
          "Fully Recovered",
          "Fully Recovered",
          "Fully Recovered"
         ],
         "x0": " ",
         "xaxis": "x",
         "y": {
          "bdata": "AAIBAQADAAADAQMBAgALBgIBAQIAAgMAAAILAQIAAQIBAQIAAwMCAQIDAgIBCgMDAwEBAQIDAwIBAgABAQEDAgACAgMBAgEAAQECAQADAAIMAQAAAQMBAgMBCAwBAwIDAQEBAgABAQAAAAIDAwMDAAYCAwMAAwADAwMBAAMACgAAAQYDAQABAwAGBAMCAwMBAQEJAAABAAAJAQADAgIBAQIBAgMAAAMAAAECAgABAgEDAAIAAQIAAAICAQIBAAMEAAICAAICAgACAwEAAgMAAwEBAwADAQEBAAEDAgIAAwIAAAEAAgIDAAMBAwIACAIDAwIDAwMCBgIDAQIAAQIAAwADAwMBDAABAwABAAEMBwIDAwEKBAMEAAICAgIBAQMCAAEGAAMDAgM=",
          "dtype": "i1"
         },
         "y0": " ",
         "yaxis": "y"
        },
        {
         "alignmentgroup": "True",
         "boxpoints": "all",
         "hovertemplate": "Recovery Status=%{x}<br>Number of Missed Payments=%{y}<extra></extra>",
         "legendgroup": "Written Off",
         "marker": {
          "color": "#FFA15A"
         },
         "name": "Written Off",
         "notched": false,
         "offsetgroup": "Written Off",
         "orientation": "v",
         "showlegend": true,
         "type": "box",
         "x": [
          "Written Off",
          "Written Off",
          "Written Off",
          "Written Off",
          "Written Off",
          "Written Off",
          "Written Off",
          "Written Off",
          "Written Off",
          "Written Off",
          "Written Off",
          "Written Off",
          "Written Off",
          "Written Off",
          "Written Off",
          "Written Off",
          "Written Off",
          "Written Off",
          "Written Off",
          "Written Off",
          "Written Off",
          "Written Off",
          "Written Off",
          "Written Off",
          "Written Off",
          "Written Off",
          "Written Off",
          "Written Off",
          "Written Off",
          "Written Off",
          "Written Off",
          "Written Off",
          "Written Off",
          "Written Off",
          "Written Off",
          "Written Off",
          "Written Off",
          "Written Off",
          "Written Off",
          "Written Off",
          "Written Off",
          "Written Off",
          "Written Off",
          "Written Off",
          "Written Off",
          "Written Off",
          "Written Off",
          "Written Off",
          "Written Off",
          "Written Off"
         ],
         "x0": " ",
         "xaxis": "x",
         "y": {
          "bdata": "AQADAQADAwEBAAEAAwMAAwADAwMBAQILAgEAAgECAgADAQEBAwACAQMCAwIBAAEBAwE=",
          "dtype": "i1"
         },
         "y0": " ",
         "yaxis": "y"
        }
       ],
       "layout": {
        "boxmode": "overlay",
        "legend": {
         "title": {
          "text": "Recovery Status"
         },
         "tracegroupgap": 0
        },
        "template": {
         "data": {
          "bar": [
           {
            "error_x": {
             "color": "#2a3f5f"
            },
            "error_y": {
             "color": "#2a3f5f"
            },
            "marker": {
             "line": {
              "color": "white",
              "width": 0.5
             },
             "pattern": {
              "fillmode": "overlay",
              "size": 10,
              "solidity": 0.2
             }
            },
            "type": "bar"
           }
          ],
          "barpolar": [
           {
            "marker": {
             "line": {
              "color": "white",
              "width": 0.5
             },
             "pattern": {
              "fillmode": "overlay",
              "size": 10,
              "solidity": 0.2
             }
            },
            "type": "barpolar"
           }
          ],
          "carpet": [
           {
            "aaxis": {
             "endlinecolor": "#2a3f5f",
             "gridcolor": "#C8D4E3",
             "linecolor": "#C8D4E3",
             "minorgridcolor": "#C8D4E3",
             "startlinecolor": "#2a3f5f"
            },
            "baxis": {
             "endlinecolor": "#2a3f5f",
             "gridcolor": "#C8D4E3",
             "linecolor": "#C8D4E3",
             "minorgridcolor": "#C8D4E3",
             "startlinecolor": "#2a3f5f"
            },
            "type": "carpet"
           }
          ],
          "choropleth": [
           {
            "colorbar": {
             "outlinewidth": 0,
             "ticks": ""
            },
            "type": "choropleth"
           }
          ],
          "contour": [
           {
            "colorbar": {
             "outlinewidth": 0,
             "ticks": ""
            },
            "colorscale": [
             [
              0,
              "#0d0887"
             ],
             [
              0.1111111111111111,
              "#46039f"
             ],
             [
              0.2222222222222222,
              "#7201a8"
             ],
             [
              0.3333333333333333,
              "#9c179e"
             ],
             [
              0.4444444444444444,
              "#bd3786"
             ],
             [
              0.5555555555555556,
              "#d8576b"
             ],
             [
              0.6666666666666666,
              "#ed7953"
             ],
             [
              0.7777777777777778,
              "#fb9f3a"
             ],
             [
              0.8888888888888888,
              "#fdca26"
             ],
             [
              1,
              "#f0f921"
             ]
            ],
            "type": "contour"
           }
          ],
          "contourcarpet": [
           {
            "colorbar": {
             "outlinewidth": 0,
             "ticks": ""
            },
            "type": "contourcarpet"
           }
          ],
          "heatmap": [
           {
            "colorbar": {
             "outlinewidth": 0,
             "ticks": ""
            },
            "colorscale": [
             [
              0,
              "#0d0887"
             ],
             [
              0.1111111111111111,
              "#46039f"
             ],
             [
              0.2222222222222222,
              "#7201a8"
             ],
             [
              0.3333333333333333,
              "#9c179e"
             ],
             [
              0.4444444444444444,
              "#bd3786"
             ],
             [
              0.5555555555555556,
              "#d8576b"
             ],
             [
              0.6666666666666666,
              "#ed7953"
             ],
             [
              0.7777777777777778,
              "#fb9f3a"
             ],
             [
              0.8888888888888888,
              "#fdca26"
             ],
             [
              1,
              "#f0f921"
             ]
            ],
            "type": "heatmap"
           }
          ],
          "histogram": [
           {
            "marker": {
             "pattern": {
              "fillmode": "overlay",
              "size": 10,
              "solidity": 0.2
             }
            },
            "type": "histogram"
           }
          ],
          "histogram2d": [
           {
            "colorbar": {
             "outlinewidth": 0,
             "ticks": ""
            },
            "colorscale": [
             [
              0,
              "#0d0887"
             ],
             [
              0.1111111111111111,
              "#46039f"
             ],
             [
              0.2222222222222222,
              "#7201a8"
             ],
             [
              0.3333333333333333,
              "#9c179e"
             ],
             [
              0.4444444444444444,
              "#bd3786"
             ],
             [
              0.5555555555555556,
              "#d8576b"
             ],
             [
              0.6666666666666666,
              "#ed7953"
             ],
             [
              0.7777777777777778,
              "#fb9f3a"
             ],
             [
              0.8888888888888888,
              "#fdca26"
             ],
             [
              1,
              "#f0f921"
             ]
            ],
            "type": "histogram2d"
           }
          ],
          "histogram2dcontour": [
           {
            "colorbar": {
             "outlinewidth": 0,
             "ticks": ""
            },
            "colorscale": [
             [
              0,
              "#0d0887"
             ],
             [
              0.1111111111111111,
              "#46039f"
             ],
             [
              0.2222222222222222,
              "#7201a8"
             ],
             [
              0.3333333333333333,
              "#9c179e"
             ],
             [
              0.4444444444444444,
              "#bd3786"
             ],
             [
              0.5555555555555556,
              "#d8576b"
             ],
             [
              0.6666666666666666,
              "#ed7953"
             ],
             [
              0.7777777777777778,
              "#fb9f3a"
             ],
             [
              0.8888888888888888,
              "#fdca26"
             ],
             [
              1,
              "#f0f921"
             ]
            ],
            "type": "histogram2dcontour"
           }
          ],
          "mesh3d": [
           {
            "colorbar": {
             "outlinewidth": 0,
             "ticks": ""
            },
            "type": "mesh3d"
           }
          ],
          "parcoords": [
           {
            "line": {
             "colorbar": {
              "outlinewidth": 0,
              "ticks": ""
             }
            },
            "type": "parcoords"
           }
          ],
          "pie": [
           {
            "automargin": true,
            "type": "pie"
           }
          ],
          "scatter": [
           {
            "fillpattern": {
             "fillmode": "overlay",
             "size": 10,
             "solidity": 0.2
            },
            "type": "scatter"
           }
          ],
          "scatter3d": [
           {
            "line": {
             "colorbar": {
              "outlinewidth": 0,
              "ticks": ""
             }
            },
            "marker": {
             "colorbar": {
              "outlinewidth": 0,
              "ticks": ""
             }
            },
            "type": "scatter3d"
           }
          ],
          "scattercarpet": [
           {
            "marker": {
             "colorbar": {
              "outlinewidth": 0,
              "ticks": ""
             }
            },
            "type": "scattercarpet"
           }
          ],
          "scattergeo": [
           {
            "marker": {
             "colorbar": {
              "outlinewidth": 0,
              "ticks": ""
             }
            },
            "type": "scattergeo"
           }
          ],
          "scattergl": [
           {
            "marker": {
             "colorbar": {
              "outlinewidth": 0,
              "ticks": ""
             }
            },
            "type": "scattergl"
           }
          ],
          "scattermap": [
           {
            "marker": {
             "colorbar": {
              "outlinewidth": 0,
              "ticks": ""
             }
            },
            "type": "scattermap"
           }
          ],
          "scattermapbox": [
           {
            "marker": {
             "colorbar": {
              "outlinewidth": 0,
              "ticks": ""
             }
            },
            "type": "scattermapbox"
           }
          ],
          "scatterpolar": [
           {
            "marker": {
             "colorbar": {
              "outlinewidth": 0,
              "ticks": ""
             }
            },
            "type": "scatterpolar"
           }
          ],
          "scatterpolargl": [
           {
            "marker": {
             "colorbar": {
              "outlinewidth": 0,
              "ticks": ""
             }
            },
            "type": "scatterpolargl"
           }
          ],
          "scatterternary": [
           {
            "marker": {
             "colorbar": {
              "outlinewidth": 0,
              "ticks": ""
             }
            },
            "type": "scatterternary"
           }
          ],
          "surface": [
           {
            "colorbar": {
             "outlinewidth": 0,
             "ticks": ""
            },
            "colorscale": [
             [
              0,
              "#0d0887"
             ],
             [
              0.1111111111111111,
              "#46039f"
             ],
             [
              0.2222222222222222,
              "#7201a8"
             ],
             [
              0.3333333333333333,
              "#9c179e"
             ],
             [
              0.4444444444444444,
              "#bd3786"
             ],
             [
              0.5555555555555556,
              "#d8576b"
             ],
             [
              0.6666666666666666,
              "#ed7953"
             ],
             [
              0.7777777777777778,
              "#fb9f3a"
             ],
             [
              0.8888888888888888,
              "#fdca26"
             ],
             [
              1,
              "#f0f921"
             ]
            ],
            "type": "surface"
           }
          ],
          "table": [
           {
            "cells": {
             "fill": {
              "color": "#EBF0F8"
             },
             "line": {
              "color": "white"
             }
            },
            "header": {
             "fill": {
              "color": "#C8D4E3"
             },
             "line": {
              "color": "white"
             }
            },
            "type": "table"
           }
          ]
         },
         "layout": {
          "annotationdefaults": {
           "arrowcolor": "#2a3f5f",
           "arrowhead": 0,
           "arrowwidth": 1
          },
          "autotypenumbers": "strict",
          "coloraxis": {
           "colorbar": {
            "outlinewidth": 0,
            "ticks": ""
           }
          },
          "colorscale": {
           "diverging": [
            [
             0,
             "#8e0152"
            ],
            [
             0.1,
             "#c51b7d"
            ],
            [
             0.2,
             "#de77ae"
            ],
            [
             0.3,
             "#f1b6da"
            ],
            [
             0.4,
             "#fde0ef"
            ],
            [
             0.5,
             "#f7f7f7"
            ],
            [
             0.6,
             "#e6f5d0"
            ],
            [
             0.7,
             "#b8e186"
            ],
            [
             0.8,
             "#7fbc41"
            ],
            [
             0.9,
             "#4d9221"
            ],
            [
             1,
             "#276419"
            ]
           ],
           "sequential": [
            [
             0,
             "#0d0887"
            ],
            [
             0.1111111111111111,
             "#46039f"
            ],
            [
             0.2222222222222222,
             "#7201a8"
            ],
            [
             0.3333333333333333,
             "#9c179e"
            ],
            [
             0.4444444444444444,
             "#bd3786"
            ],
            [
             0.5555555555555556,
             "#d8576b"
            ],
            [
             0.6666666666666666,
             "#ed7953"
            ],
            [
             0.7777777777777778,
             "#fb9f3a"
            ],
            [
             0.8888888888888888,
             "#fdca26"
            ],
            [
             1,
             "#f0f921"
            ]
           ],
           "sequentialminus": [
            [
             0,
             "#0d0887"
            ],
            [
             0.1111111111111111,
             "#46039f"
            ],
            [
             0.2222222222222222,
             "#7201a8"
            ],
            [
             0.3333333333333333,
             "#9c179e"
            ],
            [
             0.4444444444444444,
             "#bd3786"
            ],
            [
             0.5555555555555556,
             "#d8576b"
            ],
            [
             0.6666666666666666,
             "#ed7953"
            ],
            [
             0.7777777777777778,
             "#fb9f3a"
            ],
            [
             0.8888888888888888,
             "#fdca26"
            ],
            [
             1,
             "#f0f921"
            ]
           ]
          },
          "colorway": [
           "#636efa",
           "#EF553B",
           "#00cc96",
           "#ab63fa",
           "#FFA15A",
           "#19d3f3",
           "#FF6692",
           "#B6E880",
           "#FF97FF",
           "#FECB52"
          ],
          "font": {
           "color": "#2a3f5f"
          },
          "geo": {
           "bgcolor": "white",
           "lakecolor": "white",
           "landcolor": "white",
           "showlakes": true,
           "showland": true,
           "subunitcolor": "#C8D4E3"
          },
          "hoverlabel": {
           "align": "left"
          },
          "hovermode": "closest",
          "mapbox": {
           "style": "light"
          },
          "paper_bgcolor": "white",
          "plot_bgcolor": "white",
          "polar": {
           "angularaxis": {
            "gridcolor": "#EBF0F8",
            "linecolor": "#EBF0F8",
            "ticks": ""
           },
           "bgcolor": "white",
           "radialaxis": {
            "gridcolor": "#EBF0F8",
            "linecolor": "#EBF0F8",
            "ticks": ""
           }
          },
          "scene": {
           "xaxis": {
            "backgroundcolor": "white",
            "gridcolor": "#DFE8F3",
            "gridwidth": 2,
            "linecolor": "#EBF0F8",
            "showbackground": true,
            "ticks": "",
            "zerolinecolor": "#EBF0F8"
           },
           "yaxis": {
            "backgroundcolor": "white",
            "gridcolor": "#DFE8F3",
            "gridwidth": 2,
            "linecolor": "#EBF0F8",
            "showbackground": true,
            "ticks": "",
            "zerolinecolor": "#EBF0F8"
           },
           "zaxis": {
            "backgroundcolor": "white",
            "gridcolor": "#DFE8F3",
            "gridwidth": 2,
            "linecolor": "#EBF0F8",
            "showbackground": true,
            "ticks": "",
            "zerolinecolor": "#EBF0F8"
           }
          },
          "shapedefaults": {
           "line": {
            "color": "#2a3f5f"
           }
          },
          "ternary": {
           "aaxis": {
            "gridcolor": "#DFE8F3",
            "linecolor": "#A2B1C6",
            "ticks": ""
           },
           "baxis": {
            "gridcolor": "#DFE8F3",
            "linecolor": "#A2B1C6",
            "ticks": ""
           },
           "bgcolor": "white",
           "caxis": {
            "gridcolor": "#DFE8F3",
            "linecolor": "#A2B1C6",
            "ticks": ""
           }
          },
          "title": {
           "x": 0.05
          },
          "xaxis": {
           "automargin": true,
           "gridcolor": "#EBF0F8",
           "linecolor": "#EBF0F8",
           "ticks": "",
           "title": {
            "standoff": 15
           },
           "zerolinecolor": "#EBF0F8",
           "zerolinewidth": 2
          },
          "yaxis": {
           "automargin": true,
           "gridcolor": "#EBF0F8",
           "linecolor": "#EBF0F8",
           "ticks": "",
           "title": {
            "standoff": 15
           },
           "zerolinecolor": "#EBF0F8",
           "zerolinewidth": 2
          }
         }
        },
        "title": {
         "text": "How Missed Payments Affect Loan Recovery Status"
        },
        "xaxis": {
         "anchor": "y",
         "categoryarray": [
          "Partially Recovered",
          "Fully Recovered",
          "Written Off"
         ],
         "categoryorder": "array",
         "domain": [
          0,
          1
         ],
         "title": {
          "text": "Recovery Status"
         }
        },
        "yaxis": {
         "anchor": "x",
         "domain": [
          0,
          1
         ],
         "title": {
          "text": "Number of Missed Payments"
         }
        }
       }
      }
     },
     "metadata": {},
     "output_type": "display_data"
    }
   ],
   "source": [
    "fig = px.box(df, x=\"Recovery_Status\", y=\"Num_Missed_Payments\",\n",
    "             title=\"How Missed Payments Affect Loan Recovery Status\",\n",
    "             labels={\"Recovery_Status\": \"Recovery Status\", \"Num_Missed_Payments\": \"Number of Missed Payments\"},\n",
    "             color=\"Recovery_Status\",\n",
    "             color_discrete_map={\"Recovered\": \"green\", \"Not Recovered\": \"red\"},\n",
    "             points=\"all\")\n",
    "\n",
    "fig.update_layout(\n",
    "    xaxis_title=\"Recovery Status\",\n",
    "    yaxis_title=\"Number of Missed Payments\",\n",
    "    template=\"plotly_white\"\n",
    ")\n",
    "\n",
    "fig.show()"
   ]
  },
  {
   "cell_type": "markdown",
   "id": "d4b161cb",
   "metadata": {},
   "source": [
    "Loans with partial recovery typically have up to 4 missed payments. Fully recovered loans tend to have fewer missed payments, mostly between 0 and 2. Written-off loans show a higher range of missed payments, with several exceeding 6. A higher number of missed payments significantly reduces the likelihood of full recovery and increases the chances of loans being written off."
   ]
  },
  {
   "cell_type": "markdown",
   "id": "40448d15",
   "metadata": {},
   "source": []
  },
  {
   "cell_type": "code",
   "execution_count": 35,
   "id": "95a033ae",
   "metadata": {},
   "outputs": [
    {
     "data": {
      "application/vnd.plotly.v1+json": {
       "config": {
        "plotlyServerURL": "https://plot.ly"
       },
       "data": [
        {
         "customdata": [
          [
           "Partially Recovered"
          ],
          [
           "Partially Recovered"
          ],
          [
           "Partially Recovered"
          ],
          [
           "Partially Recovered"
          ],
          [
           "Partially Recovered"
          ],
          [
           "Partially Recovered"
          ],
          [
           "Partially Recovered"
          ],
          [
           "Partially Recovered"
          ],
          [
           "Partially Recovered"
          ],
          [
           "Partially Recovered"
          ],
          [
           "Partially Recovered"
          ],
          [
           "Partially Recovered"
          ],
          [
           "Partially Recovered"
          ],
          [
           "Partially Recovered"
          ],
          [
           "Partially Recovered"
          ],
          [
           "Partially Recovered"
          ],
          [
           "Partially Recovered"
          ],
          [
           "Partially Recovered"
          ],
          [
           "Partially Recovered"
          ],
          [
           "Partially Recovered"
          ],
          [
           "Partially Recovered"
          ],
          [
           "Partially Recovered"
          ],
          [
           "Partially Recovered"
          ],
          [
           "Partially Recovered"
          ],
          [
           "Partially Recovered"
          ],
          [
           "Partially Recovered"
          ],
          [
           "Partially Recovered"
          ],
          [
           "Partially Recovered"
          ],
          [
           "Partially Recovered"
          ],
          [
           "Partially Recovered"
          ],
          [
           "Partially Recovered"
          ],
          [
           "Partially Recovered"
          ],
          [
           "Partially Recovered"
          ],
          [
           "Partially Recovered"
          ],
          [
           "Partially Recovered"
          ],
          [
           "Partially Recovered"
          ],
          [
           "Partially Recovered"
          ],
          [
           "Partially Recovered"
          ],
          [
           "Partially Recovered"
          ],
          [
           "Partially Recovered"
          ],
          [
           "Partially Recovered"
          ],
          [
           "Partially Recovered"
          ],
          [
           "Partially Recovered"
          ],
          [
           "Partially Recovered"
          ],
          [
           "Partially Recovered"
          ],
          [
           "Partially Recovered"
          ],
          [
           "Partially Recovered"
          ],
          [
           "Partially Recovered"
          ],
          [
           "Partially Recovered"
          ],
          [
           "Partially Recovered"
          ],
          [
           "Partially Recovered"
          ],
          [
           "Partially Recovered"
          ],
          [
           "Partially Recovered"
          ],
          [
           "Partially Recovered"
          ],
          [
           "Partially Recovered"
          ],
          [
           "Partially Recovered"
          ],
          [
           "Partially Recovered"
          ],
          [
           "Partially Recovered"
          ],
          [
           "Partially Recovered"
          ],
          [
           "Partially Recovered"
          ],
          [
           "Partially Recovered"
          ],
          [
           "Partially Recovered"
          ],
          [
           "Partially Recovered"
          ],
          [
           "Partially Recovered"
          ],
          [
           "Partially Recovered"
          ],
          [
           "Partially Recovered"
          ],
          [
           "Partially Recovered"
          ],
          [
           "Partially Recovered"
          ],
          [
           "Partially Recovered"
          ],
          [
           "Partially Recovered"
          ],
          [
           "Partially Recovered"
          ],
          [
           "Partially Recovered"
          ],
          [
           "Partially Recovered"
          ],
          [
           "Partially Recovered"
          ],
          [
           "Partially Recovered"
          ],
          [
           "Partially Recovered"
          ],
          [
           "Partially Recovered"
          ],
          [
           "Partially Recovered"
          ],
          [
           "Partially Recovered"
          ],
          [
           "Partially Recovered"
          ],
          [
           "Partially Recovered"
          ],
          [
           "Partially Recovered"
          ],
          [
           "Partially Recovered"
          ],
          [
           "Partially Recovered"
          ],
          [
           "Partially Recovered"
          ],
          [
           "Partially Recovered"
          ],
          [
           "Partially Recovered"
          ],
          [
           "Partially Recovered"
          ],
          [
           "Partially Recovered"
          ],
          [
           "Partially Recovered"
          ],
          [
           "Partially Recovered"
          ],
          [
           "Partially Recovered"
          ],
          [
           "Partially Recovered"
          ],
          [
           "Partially Recovered"
          ],
          [
           "Partially Recovered"
          ],
          [
           "Partially Recovered"
          ],
          [
           "Partially Recovered"
          ],
          [
           "Partially Recovered"
          ],
          [
           "Partially Recovered"
          ],
          [
           "Partially Recovered"
          ],
          [
           "Partially Recovered"
          ],
          [
           "Partially Recovered"
          ],
          [
           "Partially Recovered"
          ],
          [
           "Partially Recovered"
          ],
          [
           "Partially Recovered"
          ],
          [
           "Partially Recovered"
          ],
          [
           "Partially Recovered"
          ],
          [
           "Partially Recovered"
          ],
          [
           "Partially Recovered"
          ],
          [
           "Partially Recovered"
          ],
          [
           "Partially Recovered"
          ],
          [
           "Partially Recovered"
          ],
          [
           "Partially Recovered"
          ],
          [
           "Partially Recovered"
          ],
          [
           "Partially Recovered"
          ],
          [
           "Partially Recovered"
          ],
          [
           "Partially Recovered"
          ],
          [
           "Partially Recovered"
          ],
          [
           "Partially Recovered"
          ],
          [
           "Partially Recovered"
          ],
          [
           "Partially Recovered"
          ],
          [
           "Partially Recovered"
          ],
          [
           "Partially Recovered"
          ],
          [
           "Partially Recovered"
          ],
          [
           "Partially Recovered"
          ],
          [
           "Partially Recovered"
          ],
          [
           "Partially Recovered"
          ],
          [
           "Partially Recovered"
          ],
          [
           "Partially Recovered"
          ],
          [
           "Partially Recovered"
          ],
          [
           "Partially Recovered"
          ],
          [
           "Partially Recovered"
          ],
          [
           "Partially Recovered"
          ],
          [
           "Partially Recovered"
          ],
          [
           "Partially Recovered"
          ],
          [
           "Partially Recovered"
          ],
          [
           "Partially Recovered"
          ],
          [
           "Partially Recovered"
          ],
          [
           "Partially Recovered"
          ],
          [
           "Partially Recovered"
          ],
          [
           "Partially Recovered"
          ],
          [
           "Partially Recovered"
          ],
          [
           "Partially Recovered"
          ],
          [
           "Partially Recovered"
          ],
          [
           "Partially Recovered"
          ],
          [
           "Partially Recovered"
          ],
          [
           "Partially Recovered"
          ],
          [
           "Partially Recovered"
          ],
          [
           "Partially Recovered"
          ],
          [
           "Partially Recovered"
          ],
          [
           "Partially Recovered"
          ],
          [
           "Partially Recovered"
          ],
          [
           "Partially Recovered"
          ],
          [
           "Partially Recovered"
          ]
         ],
         "hovertemplate": "Recovery_Status=%{customdata[0]}<br>Monthly Income ($)=%{x}<br>Loan Amount ($)=%{marker.size}<extra></extra>",
         "legendgroup": "Partially Recovered",
         "marker": {
          "color": "#00cc96",
          "size": {
           "bdata": "pA8WAKUkCgB+GhcAm3YCAL8nGQB+3wIAxToEAF+xEgBl1xIAFwsNAF+kFQBGcxsA+b4bABnQFgBY5RIAL9EBAFnzHABILQ0AYM4ZALTuAgCgRxEApzcYAPawBgDKyhMAiLwYAFVUCwCDaAEAvwoLAAZMFQBech0Ab4kFAOHaBQDAZB0A8lAYAPHVAQBGdhcA7A4IAABjEAD3Vw4ARMMaAA1jBADj0QMAUSkKAMfAFQBlDwEAwgYXAJe2BgAHgxgAXyIVAKIVFgAC8AQAQ5UdADBjGgBbFxIA2wMDANWOHABUpRgA61oEAJQfAwCNOAgAgYMcAMqiFgBwXAgAo3cNAJ4BHgCINRoAGUQEAJHsBgDruB0AoX8YAClxHgAjuQoA+LQYAFl2EQBy+hsABXcSAKM1CADVtw4AfzUKADh2GwATYREAos0YACj7FwBZnAMAnv8aAOVVDgACzwYAf6UMAOSuFgBlygwAVvcPAPOfBADQygQA8/AHAJjvCQC59QQAbyIHAGqKCgAB9hkA8hAXAErhFgDKzAIAmKMUAKvGCwB60wAAeCcSAOajAgAvuR0AfpcFAE9XDgCOWRYAMK4BAEgbBACUUxQAEi8VAK1JCQDZKQgAdSkbAGLUDwCc/RQA/XEGABlLBgCQPg4APSUQADkFAgAgHhEAmB8YAHYECAALEx4Aa24TALAODwChChcADKUYAMq7EQDzbAsAq3sDAGHhHQCxIgMAjgMGAE/tHABTHhIATzQNALqWEwAe0BsA0N8SAB33AAD17hEAQToaALXJDQDsJhUAGU4HABK/FwB+fBUAogEbAA==",
           "dtype": "i4"
          },
          "sizemode": "area",
          "sizeref": 4988.3125,
          "symbol": "circle"
         },
         "mode": "markers",
         "name": "Partially Recovered",
         "orientation": "v",
         "showlegend": true,
         "type": "scatter",
         "x": {
          "bdata": "fkkDAJCiAwDZQgEAP5ACAPXtAQDQ4wEA13wDAGtSAQAQhwMARgUDAGN3AADIowMAD2EAAMOgAAAdggIAVP4CACvCAAAZeQEAYD4DAJh2AwCMqQIAiF4CAIEMAgCr2wIAtCkBAOtpAAAXlAAAgeUAAJ8WAgD31wEAnMwCAM7zAgAOzwMACRMDAH+1AwDjrAMAxQ0BAGfyAADMhgAA3G4DAEBZAwBi1gIAG0EBAP2gAwCqSgAAXTgDACS0AQDqnQIAGEkAAO8/AgBe/AEAbAUBAJEqAgAmwwEAOIADAIioAQBDkgIAcTIBAF9mAwCgaQEAmt4BADOiAwAcjwAAxwsBAMNnAgAMpwMAYl0CAKbpAQCqzQIAW/4CAIdWAAAMHAEAy6gBAAH7AQAp4QEAiPcAAMFTAgBDjwIALToDAKy/AgBvLgIAFGEBAC9TAwBnDQIA8i0CAMnqAQAv1QEAqhQDAPvIAgA+twIAyKAAADitAwAsdQEALd0CAEdoAQA6pAEAXtgAAFAcAwCVVwAAMI4DANd/AAAUlQMAPrcAAK/nAQDFAwMAqigDALtqAAB88QEAO1kDABpyAgDgegAAH7UAAPgPAQDdzgMA0zUBACxzAgBfwQIAFMQDANHqAACZhQIAaB8DAG5gAACftwEAdPgAALZjAADGRwEAkJ4AADWVAQDOIgIAo0YBACitAgCaZAIA88sBAA2tAAAQuQMAaRYBAH6hAQC3TQAAOA8CAKdlAQAlCQIAeAwCANkgAgCQ9QIAYDYCANotAgBLzwAAVeECAFvHAAA6gAEAJmMAAIEsAQCGtwMAwWoCAA==",
          "dtype": "i4"
         },
         "xaxis": "x",
         "y": {
          "bdata": "pA8WAKUkCgB+GhcAm3YCAL8nGQB+3wIAxToEAF+xEgBl1xIAFwsNAF+kFQBGcxsA+b4bABnQFgBY5RIAL9EBAFnzHABILQ0AYM4ZALTuAgCgRxEApzcYAPawBgDKyhMAiLwYAFVUCwCDaAEAvwoLAAZMFQBech0Ab4kFAOHaBQDAZB0A8lAYAPHVAQBGdhcA7A4IAABjEAD3Vw4ARMMaAA1jBADj0QMAUSkKAMfAFQBlDwEAwgYXAJe2BgAHgxgAXyIVAKIVFgAC8AQAQ5UdADBjGgBbFxIA2wMDANWOHABUpRgA61oEAJQfAwCNOAgAgYMcAMqiFgBwXAgAo3cNAJ4BHgCINRoAGUQEAJHsBgDruB0AoX8YAClxHgAjuQoA+LQYAFl2EQBy+hsABXcSAKM1CADVtw4AfzUKADh2GwATYREAos0YACj7FwBZnAMAnv8aAOVVDgACzwYAf6UMAOSuFgBlygwAVvcPAPOfBADQygQA8/AHAJjvCQC59QQAbyIHAGqKCgAB9hkA8hAXAErhFgDKzAIAmKMUAKvGCwB60wAAeCcSAOajAgAvuR0AfpcFAE9XDgCOWRYAMK4BAEgbBACUUxQAEi8VAK1JCQDZKQgAdSkbAGLUDwCc/RQA/XEGABlLBgCQPg4APSUQADkFAgAgHhEAmB8YAHYECAALEx4Aa24TALAODwChChcADKUYAMq7EQDzbAsAq3sDAGHhHQCxIgMAjgMGAE/tHABTHhIATzQNALqWEwAe0BsA0N8SAB33AAD17hEAQToaALXJDQDsJhUAGU4HABK/FwB+fBUAogEbAA==",
          "dtype": "i4"
         },
         "yaxis": "y"
        },
        {
         "customdata": [
          [
           "Fully Recovered"
          ],
          [
           "Fully Recovered"
          ],
          [
           "Fully Recovered"
          ],
          [
           "Fully Recovered"
          ],
          [
           "Fully Recovered"
          ],
          [
           "Fully Recovered"
          ],
          [
           "Fully Recovered"
          ],
          [
           "Fully Recovered"
          ],
          [
           "Fully Recovered"
          ],
          [
           "Fully Recovered"
          ],
          [
           "Fully Recovered"
          ],
          [
           "Fully Recovered"
          ],
          [
           "Fully Recovered"
          ],
          [
           "Fully Recovered"
          ],
          [
           "Fully Recovered"
          ],
          [
           "Fully Recovered"
          ],
          [
           "Fully Recovered"
          ],
          [
           "Fully Recovered"
          ],
          [
           "Fully Recovered"
          ],
          [
           "Fully Recovered"
          ],
          [
           "Fully Recovered"
          ],
          [
           "Fully Recovered"
          ],
          [
           "Fully Recovered"
          ],
          [
           "Fully Recovered"
          ],
          [
           "Fully Recovered"
          ],
          [
           "Fully Recovered"
          ],
          [
           "Fully Recovered"
          ],
          [
           "Fully Recovered"
          ],
          [
           "Fully Recovered"
          ],
          [
           "Fully Recovered"
          ],
          [
           "Fully Recovered"
          ],
          [
           "Fully Recovered"
          ],
          [
           "Fully Recovered"
          ],
          [
           "Fully Recovered"
          ],
          [
           "Fully Recovered"
          ],
          [
           "Fully Recovered"
          ],
          [
           "Fully Recovered"
          ],
          [
           "Fully Recovered"
          ],
          [
           "Fully Recovered"
          ],
          [
           "Fully Recovered"
          ],
          [
           "Fully Recovered"
          ],
          [
           "Fully Recovered"
          ],
          [
           "Fully Recovered"
          ],
          [
           "Fully Recovered"
          ],
          [
           "Fully Recovered"
          ],
          [
           "Fully Recovered"
          ],
          [
           "Fully Recovered"
          ],
          [
           "Fully Recovered"
          ],
          [
           "Fully Recovered"
          ],
          [
           "Fully Recovered"
          ],
          [
           "Fully Recovered"
          ],
          [
           "Fully Recovered"
          ],
          [
           "Fully Recovered"
          ],
          [
           "Fully Recovered"
          ],
          [
           "Fully Recovered"
          ],
          [
           "Fully Recovered"
          ],
          [
           "Fully Recovered"
          ],
          [
           "Fully Recovered"
          ],
          [
           "Fully Recovered"
          ],
          [
           "Fully Recovered"
          ],
          [
           "Fully Recovered"
          ],
          [
           "Fully Recovered"
          ],
          [
           "Fully Recovered"
          ],
          [
           "Fully Recovered"
          ],
          [
           "Fully Recovered"
          ],
          [
           "Fully Recovered"
          ],
          [
           "Fully Recovered"
          ],
          [
           "Fully Recovered"
          ],
          [
           "Fully Recovered"
          ],
          [
           "Fully Recovered"
          ],
          [
           "Fully Recovered"
          ],
          [
           "Fully Recovered"
          ],
          [
           "Fully Recovered"
          ],
          [
           "Fully Recovered"
          ],
          [
           "Fully Recovered"
          ],
          [
           "Fully Recovered"
          ],
          [
           "Fully Recovered"
          ],
          [
           "Fully Recovered"
          ],
          [
           "Fully Recovered"
          ],
          [
           "Fully Recovered"
          ],
          [
           "Fully Recovered"
          ],
          [
           "Fully Recovered"
          ],
          [
           "Fully Recovered"
          ],
          [
           "Fully Recovered"
          ],
          [
           "Fully Recovered"
          ],
          [
           "Fully Recovered"
          ],
          [
           "Fully Recovered"
          ],
          [
           "Fully Recovered"
          ],
          [
           "Fully Recovered"
          ],
          [
           "Fully Recovered"
          ],
          [
           "Fully Recovered"
          ],
          [
           "Fully Recovered"
          ],
          [
           "Fully Recovered"
          ],
          [
           "Fully Recovered"
          ],
          [
           "Fully Recovered"
          ],
          [
           "Fully Recovered"
          ],
          [
           "Fully Recovered"
          ],
          [
           "Fully Recovered"
          ],
          [
           "Fully Recovered"
          ],
          [
           "Fully Recovered"
          ],
          [
           "Fully Recovered"
          ],
          [
           "Fully Recovered"
          ],
          [
           "Fully Recovered"
          ],
          [
           "Fully Recovered"
          ],
          [
           "Fully Recovered"
          ],
          [
           "Fully Recovered"
          ],
          [
           "Fully Recovered"
          ],
          [
           "Fully Recovered"
          ],
          [
           "Fully Recovered"
          ],
          [
           "Fully Recovered"
          ],
          [
           "Fully Recovered"
          ],
          [
           "Fully Recovered"
          ],
          [
           "Fully Recovered"
          ],
          [
           "Fully Recovered"
          ],
          [
           "Fully Recovered"
          ],
          [
           "Fully Recovered"
          ],
          [
           "Fully Recovered"
          ],
          [
           "Fully Recovered"
          ],
          [
           "Fully Recovered"
          ],
          [
           "Fully Recovered"
          ],
          [
           "Fully Recovered"
          ],
          [
           "Fully Recovered"
          ],
          [
           "Fully Recovered"
          ],
          [
           "Fully Recovered"
          ],
          [
           "Fully Recovered"
          ],
          [
           "Fully Recovered"
          ],
          [
           "Fully Recovered"
          ],
          [
           "Fully Recovered"
          ],
          [
           "Fully Recovered"
          ],
          [
           "Fully Recovered"
          ],
          [
           "Fully Recovered"
          ],
          [
           "Fully Recovered"
          ],
          [
           "Fully Recovered"
          ],
          [
           "Fully Recovered"
          ],
          [
           "Fully Recovered"
          ],
          [
           "Fully Recovered"
          ],
          [
           "Fully Recovered"
          ],
          [
           "Fully Recovered"
          ],
          [
           "Fully Recovered"
          ],
          [
           "Fully Recovered"
          ],
          [
           "Fully Recovered"
          ],
          [
           "Fully Recovered"
          ],
          [
           "Fully Recovered"
          ],
          [
           "Fully Recovered"
          ],
          [
           "Fully Recovered"
          ],
          [
           "Fully Recovered"
          ],
          [
           "Fully Recovered"
          ],
          [
           "Fully Recovered"
          ],
          [
           "Fully Recovered"
          ],
          [
           "Fully Recovered"
          ],
          [
           "Fully Recovered"
          ],
          [
           "Fully Recovered"
          ],
          [
           "Fully Recovered"
          ],
          [
           "Fully Recovered"
          ],
          [
           "Fully Recovered"
          ],
          [
           "Fully Recovered"
          ],
          [
           "Fully Recovered"
          ],
          [
           "Fully Recovered"
          ],
          [
           "Fully Recovered"
          ],
          [
           "Fully Recovered"
          ],
          [
           "Fully Recovered"
          ],
          [
           "Fully Recovered"
          ],
          [
           "Fully Recovered"
          ],
          [
           "Fully Recovered"
          ],
          [
           "Fully Recovered"
          ],
          [
           "Fully Recovered"
          ],
          [
           "Fully Recovered"
          ],
          [
           "Fully Recovered"
          ],
          [
           "Fully Recovered"
          ],
          [
           "Fully Recovered"
          ],
          [
           "Fully Recovered"
          ],
          [
           "Fully Recovered"
          ],
          [
           "Fully Recovered"
          ],
          [
           "Fully Recovered"
          ],
          [
           "Fully Recovered"
          ],
          [
           "Fully Recovered"
          ],
          [
           "Fully Recovered"
          ],
          [
           "Fully Recovered"
          ],
          [
           "Fully Recovered"
          ],
          [
           "Fully Recovered"
          ],
          [
           "Fully Recovered"
          ],
          [
           "Fully Recovered"
          ],
          [
           "Fully Recovered"
          ],
          [
           "Fully Recovered"
          ],
          [
           "Fully Recovered"
          ],
          [
           "Fully Recovered"
          ],
          [
           "Fully Recovered"
          ],
          [
           "Fully Recovered"
          ],
          [
           "Fully Recovered"
          ],
          [
           "Fully Recovered"
          ],
          [
           "Fully Recovered"
          ],
          [
           "Fully Recovered"
          ],
          [
           "Fully Recovered"
          ],
          [
           "Fully Recovered"
          ],
          [
           "Fully Recovered"
          ],
          [
           "Fully Recovered"
          ],
          [
           "Fully Recovered"
          ],
          [
           "Fully Recovered"
          ],
          [
           "Fully Recovered"
          ],
          [
           "Fully Recovered"
          ],
          [
           "Fully Recovered"
          ],
          [
           "Fully Recovered"
          ],
          [
           "Fully Recovered"
          ],
          [
           "Fully Recovered"
          ],
          [
           "Fully Recovered"
          ],
          [
           "Fully Recovered"
          ],
          [
           "Fully Recovered"
          ],
          [
           "Fully Recovered"
          ],
          [
           "Fully Recovered"
          ],
          [
           "Fully Recovered"
          ],
          [
           "Fully Recovered"
          ],
          [
           "Fully Recovered"
          ],
          [
           "Fully Recovered"
          ],
          [
           "Fully Recovered"
          ],
          [
           "Fully Recovered"
          ],
          [
           "Fully Recovered"
          ],
          [
           "Fully Recovered"
          ],
          [
           "Fully Recovered"
          ],
          [
           "Fully Recovered"
          ],
          [
           "Fully Recovered"
          ],
          [
           "Fully Recovered"
          ],
          [
           "Fully Recovered"
          ],
          [
           "Fully Recovered"
          ],
          [
           "Fully Recovered"
          ],
          [
           "Fully Recovered"
          ],
          [
           "Fully Recovered"
          ],
          [
           "Fully Recovered"
          ],
          [
           "Fully Recovered"
          ],
          [
           "Fully Recovered"
          ],
          [
           "Fully Recovered"
          ],
          [
           "Fully Recovered"
          ],
          [
           "Fully Recovered"
          ],
          [
           "Fully Recovered"
          ],
          [
           "Fully Recovered"
          ],
          [
           "Fully Recovered"
          ],
          [
           "Fully Recovered"
          ],
          [
           "Fully Recovered"
          ],
          [
           "Fully Recovered"
          ],
          [
           "Fully Recovered"
          ],
          [
           "Fully Recovered"
          ],
          [
           "Fully Recovered"
          ],
          [
           "Fully Recovered"
          ],
          [
           "Fully Recovered"
          ],
          [
           "Fully Recovered"
          ],
          [
           "Fully Recovered"
          ],
          [
           "Fully Recovered"
          ],
          [
           "Fully Recovered"
          ],
          [
           "Fully Recovered"
          ],
          [
           "Fully Recovered"
          ],
          [
           "Fully Recovered"
          ],
          [
           "Fully Recovered"
          ],
          [
           "Fully Recovered"
          ],
          [
           "Fully Recovered"
          ],
          [
           "Fully Recovered"
          ],
          [
           "Fully Recovered"
          ],
          [
           "Fully Recovered"
          ],
          [
           "Fully Recovered"
          ],
          [
           "Fully Recovered"
          ],
          [
           "Fully Recovered"
          ],
          [
           "Fully Recovered"
          ],
          [
           "Fully Recovered"
          ],
          [
           "Fully Recovered"
          ],
          [
           "Fully Recovered"
          ],
          [
           "Fully Recovered"
          ],
          [
           "Fully Recovered"
          ],
          [
           "Fully Recovered"
          ],
          [
           "Fully Recovered"
          ],
          [
           "Fully Recovered"
          ],
          [
           "Fully Recovered"
          ],
          [
           "Fully Recovered"
          ],
          [
           "Fully Recovered"
          ],
          [
           "Fully Recovered"
          ],
          [
           "Fully Recovered"
          ],
          [
           "Fully Recovered"
          ],
          [
           "Fully Recovered"
          ],
          [
           "Fully Recovered"
          ],
          [
           "Fully Recovered"
          ],
          [
           "Fully Recovered"
          ],
          [
           "Fully Recovered"
          ],
          [
           "Fully Recovered"
          ],
          [
           "Fully Recovered"
          ],
          [
           "Fully Recovered"
          ],
          [
           "Fully Recovered"
          ],
          [
           "Fully Recovered"
          ],
          [
           "Fully Recovered"
          ],
          [
           "Fully Recovered"
          ],
          [
           "Fully Recovered"
          ],
          [
           "Fully Recovered"
          ],
          [
           "Fully Recovered"
          ],
          [
           "Fully Recovered"
          ],
          [
           "Fully Recovered"
          ],
          [
           "Fully Recovered"
          ],
          [
           "Fully Recovered"
          ],
          [
           "Fully Recovered"
          ],
          [
           "Fully Recovered"
          ],
          [
           "Fully Recovered"
          ]
         ],
         "hovertemplate": "Recovery_Status=%{customdata[0]}<br>Monthly Income ($)=%{x}<br>Loan Amount ($)=%{marker.size}<extra></extra>",
         "legendgroup": "Fully Recovered",
         "marker": {
          "color": "#ab63fa",
          "size": {
           "bdata": "jPAPAFJZHQDPpBsAAloBABPrDQAr8wMAdQ8MAEITEwDzdAEA+A8cABQrEwDcGhMAiYoRAIGkDQANTgcAtPYKAGgdDwDqOBkAAsMdAAggGADNwBYARy0XACQ0CQDkzRQAQP4YAIpxFgBu6gQAb3sLAApVFgBOPhgATfQBANqRBQAlbhwAAx0MAL73FQDoQwUAkLoMAChqBwCCzQ4Ac/IJABGgFgC3Ex0AXhICABUgFABQDwcAPiceAObEEQDJ+AgATEUZAM2JGACgUQoA8RAHAEr2HAD4xQkALA0cAJgLBgDcFwkAlbUBAKPIBwBETAcAUskGAKBQDwCAZQUAkJMLABJfCgCzDxYAr74CAM9HBQAT4RUAotYTAHojHQDDSgkANw0NAJ3TDACJbgYAcCoNAF2IAwAMVgsA0/oHACceGgCKMBMAyJ4DADAHCACi7BoAEAwbABSJEABqXA0An3AWANXEFgA3RxYAXHUEAD+ABgCPyg0A4qUVABtOBQCfkQsAekEdABnJBAConw0Arp8aABMFDwD7rAIA5i8BAIgUBAA0ExQAHZAYAMZkEADB8QYAIXgdAB9VDQCXAg8AwMMCAM0PAwCEgQQAmqwJAGpAHADgyA0AsA8FAIjtEgDHxgQAcA8aAL+SCgBiAxoAJRYUABScHAARKR0ALfMVAH4NGgD24QYAEyUIANx3CQAF0gYA1owGAF3pEQAmHBAA4rAYAM8jCACFWh4ALKECAEdWFADjHAkAbB8CAGeaBAChnB0Ajv4XALiUDADXKBEAjZkbAGCbCwCJYRwAlDgCAPi1FQAUywYAAPsWAAAaDAAbsAoAljEVAEpfCADSrAEAsRsNAKhACQBRWRYAy9kXAGfCEwD1GxYAZdMSAOkjGgD6uggABkEKAHawFQAqNBAAPskPADU8EQAqAxwAeM0NALu/GwDitAEAMlEUAL4sBQCRAgsA7TgVAITAAgDlfgwAkgIMAB5KGwBqyAwAWdIQAJjzAAAwdQYACrkYALNTBwCKlwEAS40BAOw0GQCQ5x0AhLYdAEdIFgCzLg4A7QwCAGiTHAA8mw0Aa2QdABC5AwDArhEAfFQYAJNnGwDZYRIAPAAeAH3LBADvngoAVTwVAP/jHQD11x0A4G0WAMEEAgBDihsApIgVAOi4BADrwhwAXrAbANM1GACs0RUA6sIaAOkiEgDizgsARzgHAGByAQD56xUAI+wMADy5GwD3MQYAdusMAMAkBABEbgEAAzkaAL0YDQD/1gAAd3wCABrsGACM4x0AjZIBAImIEwBfyQUAofQGAEaJAgChyA0A89cWAArhBgBHfQoAtcYcAEbHHACqBRgAPXIeAAJGBwBMbQsAqOIQAMBYFAAFKhYAdC0eANgVHgCH9RIApL4QAFFODgCJEQ0AC9gZADVmCgBJCxgA94UbAMExGABLwBoAulkXAHTZEACeKBQA5WEaANp3BQAJsg4ACOAcABz4GwAlQBoA1mMbAIxRAgCFNhkAk+IXACs/BQCGJhMAyGMGAHU/FQCk+AQA1IUMAEBLGgCrfgoAZAsLAEGEDQAWPRcAvE0LAKO5BQA=",
           "dtype": "i4"
          },
          "sizemode": "area",
          "sizeref": 4988.3125,
          "symbol": "circle"
         },
         "mode": "markers",
         "name": "Fully Recovered",
         "orientation": "v",
         "showlegend": true,
         "type": "scatter",
         "x": {
          "bdata": "3e0AACjHAQASJgIA8CkBADo3AQBYcAIAY4wBAE8qAQDEawIAxscDACIIAgChBgMADb0AAKV7AQD0UAMAoRECAONlAQAAiAAAmN8CABxTAgBCcQEAs98BAALHAAA8EgEAfFIDADyjAQCIyAMAz3EBADMDAgAGgAEAZkEDAJJ/AwAJigIAlvQCALyfAwCrngEADtMCALo+AgBdiwMAfGQBAEo1AQBlvwAAo54CAInDAgBvPwIAks8DABU7AwB5KgIAcOsAAMmXAQC+dgIAdg8CAE8XAQCGVAIAQlQAAElHAQAuXgAAvW8BAC7TAAAV0QEAxLkAAMtrAwDnLwIAiWIAABgbAgD9bwAAhiACAO3qAQBY9wAAcXcCAEIkAgBhkgEAaaoAACh3AwCxmAAAH8kAAMY7AwAI6gEAcv4AAN/hAgDwywIAKrcCALZvAQDH3wIAAKQCAPHoAQBVWgAAc8cAAFlKAwCJzgEAV30CAOBQAAA4JwMA8I4DAEftAQCkVQMAjAkCADaHAwCAPAMA258CABT4AQD9xgMAhawAAHnIAADpWAEAgL4BAASAAADizwEA8KABACZJAADYlgEAXs0DACxeAgAqagMA08UAAHDQAQB3XQIAurMBAP1yAQDhJQMARcYDAOySAACxqQMA31MAAMfFAgAMtQAAdDcDADE/AAAwTQIAo7oAAHl6AQC8ZwIAZqYCAHvxAADCWgEAR54DAO6jAgDFeQMAiSQDAAOkAgASbgEAhB4DAKyaAAAuvAIAAjUBAMYhAQATjwEAsBUBAMrKAADb6wAArG0DAOXvAAAUUgIAhaQDADThAgCGVQMAM28CALqzAgAnFwIAOxADADU1AwCZagAASOoCAOTkAgDxwgMA9YsBAJ6/AwD29wEAA+cCAOH4AgC+rgIANjMBAN5IAABWlgMAz4MAAEGaAwBUXAMATw4CALuaAgDrDgIAW+ABAA1qAACewQEAzSEBAA9QAQBE4QAAAXACABJmAwAkkwEAbZUDAHNfAgAgqgMAsQYDAKF6AQARZAEAMccDANNWAgBhxwAA8JUBACk7AQAqzgMAO3kBAGE6AwB4RgMA3CwCAEY1AwBo+gAAvEUBACZ5AABzvgIAN5cAAKKgAQAhHQEAYF4DAOWkAgCZvQMAuvEBAJ5LAADsOAEA2qkBAMEgAgANuAIAQCoCAIi5AwBiFAEAfi4DAFOtAgDb0AAA/b4AAMFkAQC3swAAPp8DAATVAgCFDgEA+OsBABJiAgBARAEAW/0BAKQBAgDIVAEAGUkDAFNOAwCyyAAAN0sCAH0XAQDaWgEA7VsBAN25AwD9JAIACwsBAC09AgBRsAEAuygDAOThAADOqwAAAcUDABC9AwAn8AAAH4kCAGvWAgAnwQMAhLsBAK5XAQAKFQMAnKADAI8vAwAD3AIA2IMAALV7AwAsuwEA624CAF2KAwAtFAIAjP4BAGNkAAC9OAMAi2AAAHmFAAC7eQIALlEAAAmTAwAAhAMAmcUAAHKyAABYhAEAMYEAAGk4AwDOywMALZwBAEI6AQDtSwIA008DAPw2AwCLmwMAo8oDAMi8AQA=",
          "dtype": "i4"
         },
         "xaxis": "x",
         "y": {
          "bdata": "jPAPAFJZHQDPpBsAAloBABPrDQAr8wMAdQ8MAEITEwDzdAEA+A8cABQrEwDcGhMAiYoRAIGkDQANTgcAtPYKAGgdDwDqOBkAAsMdAAggGADNwBYARy0XACQ0CQDkzRQAQP4YAIpxFgBu6gQAb3sLAApVFgBOPhgATfQBANqRBQAlbhwAAx0MAL73FQDoQwUAkLoMAChqBwCCzQ4Ac/IJABGgFgC3Ex0AXhICABUgFABQDwcAPiceAObEEQDJ+AgATEUZAM2JGACgUQoA8RAHAEr2HAD4xQkALA0cAJgLBgDcFwkAlbUBAKPIBwBETAcAUskGAKBQDwCAZQUAkJMLABJfCgCzDxYAr74CAM9HBQAT4RUAotYTAHojHQDDSgkANw0NAJ3TDACJbgYAcCoNAF2IAwAMVgsA0/oHACceGgCKMBMAyJ4DADAHCACi7BoAEAwbABSJEABqXA0An3AWANXEFgA3RxYAXHUEAD+ABgCPyg0A4qUVABtOBQCfkQsAekEdABnJBAConw0Arp8aABMFDwD7rAIA5i8BAIgUBAA0ExQAHZAYAMZkEADB8QYAIXgdAB9VDQCXAg8AwMMCAM0PAwCEgQQAmqwJAGpAHADgyA0AsA8FAIjtEgDHxgQAcA8aAL+SCgBiAxoAJRYUABScHAARKR0ALfMVAH4NGgD24QYAEyUIANx3CQAF0gYA1owGAF3pEQAmHBAA4rAYAM8jCACFWh4ALKECAEdWFADjHAkAbB8CAGeaBAChnB0Ajv4XALiUDADXKBEAjZkbAGCbCwCJYRwAlDgCAPi1FQAUywYAAPsWAAAaDAAbsAoAljEVAEpfCADSrAEAsRsNAKhACQBRWRYAy9kXAGfCEwD1GxYAZdMSAOkjGgD6uggABkEKAHawFQAqNBAAPskPADU8EQAqAxwAeM0NALu/GwDitAEAMlEUAL4sBQCRAgsA7TgVAITAAgDlfgwAkgIMAB5KGwBqyAwAWdIQAJjzAAAwdQYACrkYALNTBwCKlwEAS40BAOw0GQCQ5x0AhLYdAEdIFgCzLg4A7QwCAGiTHAA8mw0Aa2QdABC5AwDArhEAfFQYAJNnGwDZYRIAPAAeAH3LBADvngoAVTwVAP/jHQD11x0A4G0WAMEEAgBDihsApIgVAOi4BADrwhwAXrAbANM1GACs0RUA6sIaAOkiEgDizgsARzgHAGByAQD56xUAI+wMADy5GwD3MQYAdusMAMAkBABEbgEAAzkaAL0YDQD/1gAAd3wCABrsGACM4x0AjZIBAImIEwBfyQUAofQGAEaJAgChyA0A89cWAArhBgBHfQoAtcYcAEbHHACqBRgAPXIeAAJGBwBMbQsAqOIQAMBYFAAFKhYAdC0eANgVHgCH9RIApL4QAFFODgCJEQ0AC9gZADVmCgBJCxgA94UbAMExGABLwBoAulkXAHTZEACeKBQA5WEaANp3BQAJsg4ACOAcABz4GwAlQBoA1mMbAIxRAgCFNhkAk+IXACs/BQCGJhMAyGMGAHU/FQCk+AQA1IUMAEBLGgCrfgoAZAsLAEGEDQAWPRcAvE0LAKO5BQA=",
          "dtype": "i4"
         },
         "yaxis": "y"
        },
        {
         "customdata": [
          [
           "Written Off"
          ],
          [
           "Written Off"
          ],
          [
           "Written Off"
          ],
          [
           "Written Off"
          ],
          [
           "Written Off"
          ],
          [
           "Written Off"
          ],
          [
           "Written Off"
          ],
          [
           "Written Off"
          ],
          [
           "Written Off"
          ],
          [
           "Written Off"
          ],
          [
           "Written Off"
          ],
          [
           "Written Off"
          ],
          [
           "Written Off"
          ],
          [
           "Written Off"
          ],
          [
           "Written Off"
          ],
          [
           "Written Off"
          ],
          [
           "Written Off"
          ],
          [
           "Written Off"
          ],
          [
           "Written Off"
          ],
          [
           "Written Off"
          ],
          [
           "Written Off"
          ],
          [
           "Written Off"
          ],
          [
           "Written Off"
          ],
          [
           "Written Off"
          ],
          [
           "Written Off"
          ],
          [
           "Written Off"
          ],
          [
           "Written Off"
          ],
          [
           "Written Off"
          ],
          [
           "Written Off"
          ],
          [
           "Written Off"
          ],
          [
           "Written Off"
          ],
          [
           "Written Off"
          ],
          [
           "Written Off"
          ],
          [
           "Written Off"
          ],
          [
           "Written Off"
          ],
          [
           "Written Off"
          ],
          [
           "Written Off"
          ],
          [
           "Written Off"
          ],
          [
           "Written Off"
          ],
          [
           "Written Off"
          ],
          [
           "Written Off"
          ],
          [
           "Written Off"
          ],
          [
           "Written Off"
          ],
          [
           "Written Off"
          ],
          [
           "Written Off"
          ],
          [
           "Written Off"
          ],
          [
           "Written Off"
          ],
          [
           "Written Off"
          ],
          [
           "Written Off"
          ],
          [
           "Written Off"
          ]
         ],
         "hovertemplate": "Recovery_Status=%{customdata[0]}<br>Monthly Income ($)=%{x}<br>Loan Amount ($)=%{marker.size}<extra></extra>",
         "legendgroup": "Written Off",
         "marker": {
          "color": "#FFA15A",
          "size": {
           "bdata": "TjkeAD6uDQCmMBIAbbEDAD8VBADKUAYAIOcTAMqZBADk7g4AOO0UAM42BgCbJwEA/sMEALwrEgAp6QUAohIQANXWCQDK1hgAy98FANQqAgCd3g8Aij8FABmOGQApnAgA7FkKAI0oEwAqkhYAme0BAOw1GgCvoAwAlcAEAFEMBQDpZx0AioANAIAGDACiww0AAdMMAL7HDgBxFgMA8AccAJoUAgB/qBUAjmwHAMfqCAC6IRsAChASALrUFgBSTwUAP9cUAHIGBgA=",
           "dtype": "i4"
          },
          "sizemode": "area",
          "sizeref": 4988.3125,
          "symbol": "circle"
         },
         "mode": "markers",
         "name": "Written Off",
         "orientation": "v",
         "showlegend": true,
         "type": "scatter",
         "x": {
          "bdata": "O7kDAC4WAgBa6QAA52QBAGOWAgCYlAMAAz0CALE7AAC0pQIA0s4DADivAgBJQgAAE34DAA5MAgA0lQIAW7ICAJjGAQDgpAIA46YAAPS0AgCi5wEAWZ4AAOdLAwAm1AAAuzECALnxAgCyyAIAG5UCACRWAQAOdgMADZcCAKDMAABBtQAAvL8AAHl/AAAOfQAAcX8CAH/tAQB+JgIAnGQAAENEAwCfJQIAGU8CAMPpAgBnOwAAtXgBAP/2AADiEQMAnZsBAOmcAAA=",
          "dtype": "i4"
         },
         "xaxis": "x",
         "y": {
          "bdata": "TjkeAD6uDQCmMBIAbbEDAD8VBADKUAYAIOcTAMqZBADk7g4AOO0UAM42BgCbJwEA/sMEALwrEgAp6QUAohIQANXWCQDK1hgAy98FANQqAgCd3g8Aij8FABmOGQApnAgA7FkKAI0oEwAqkhYAme0BAOw1GgCvoAwAlcAEAFEMBQDpZx0AioANAIAGDACiww0AAdMMAL7HDgBxFgMA8AccAJoUAgB/qBUAjmwHAMfqCAC6IRsAChASALrUFgBSTwUAP9cUAHIGBgA=",
          "dtype": "i4"
         },
         "yaxis": "y"
        }
       ],
       "layout": {
        "annotations": [
         {
          "arrowhead": 2,
          "font": {
           "color": "red",
           "size": 12
          },
          "showarrow": true,
          "text": "Higher loans may still get recovered if income is high",
          "x": 249746,
          "y": 1995325
         }
        ],
        "legend": {
         "itemsizing": "constant",
         "title": {
          "text": "Recovery_Status"
         },
         "tracegroupgap": 0
        },
        "template": {
         "data": {
          "bar": [
           {
            "error_x": {
             "color": "#2a3f5f"
            },
            "error_y": {
             "color": "#2a3f5f"
            },
            "marker": {
             "line": {
              "color": "white",
              "width": 0.5
             },
             "pattern": {
              "fillmode": "overlay",
              "size": 10,
              "solidity": 0.2
             }
            },
            "type": "bar"
           }
          ],
          "barpolar": [
           {
            "marker": {
             "line": {
              "color": "white",
              "width": 0.5
             },
             "pattern": {
              "fillmode": "overlay",
              "size": 10,
              "solidity": 0.2
             }
            },
            "type": "barpolar"
           }
          ],
          "carpet": [
           {
            "aaxis": {
             "endlinecolor": "#2a3f5f",
             "gridcolor": "#C8D4E3",
             "linecolor": "#C8D4E3",
             "minorgridcolor": "#C8D4E3",
             "startlinecolor": "#2a3f5f"
            },
            "baxis": {
             "endlinecolor": "#2a3f5f",
             "gridcolor": "#C8D4E3",
             "linecolor": "#C8D4E3",
             "minorgridcolor": "#C8D4E3",
             "startlinecolor": "#2a3f5f"
            },
            "type": "carpet"
           }
          ],
          "choropleth": [
           {
            "colorbar": {
             "outlinewidth": 0,
             "ticks": ""
            },
            "type": "choropleth"
           }
          ],
          "contour": [
           {
            "colorbar": {
             "outlinewidth": 0,
             "ticks": ""
            },
            "colorscale": [
             [
              0,
              "#0d0887"
             ],
             [
              0.1111111111111111,
              "#46039f"
             ],
             [
              0.2222222222222222,
              "#7201a8"
             ],
             [
              0.3333333333333333,
              "#9c179e"
             ],
             [
              0.4444444444444444,
              "#bd3786"
             ],
             [
              0.5555555555555556,
              "#d8576b"
             ],
             [
              0.6666666666666666,
              "#ed7953"
             ],
             [
              0.7777777777777778,
              "#fb9f3a"
             ],
             [
              0.8888888888888888,
              "#fdca26"
             ],
             [
              1,
              "#f0f921"
             ]
            ],
            "type": "contour"
           }
          ],
          "contourcarpet": [
           {
            "colorbar": {
             "outlinewidth": 0,
             "ticks": ""
            },
            "type": "contourcarpet"
           }
          ],
          "heatmap": [
           {
            "colorbar": {
             "outlinewidth": 0,
             "ticks": ""
            },
            "colorscale": [
             [
              0,
              "#0d0887"
             ],
             [
              0.1111111111111111,
              "#46039f"
             ],
             [
              0.2222222222222222,
              "#7201a8"
             ],
             [
              0.3333333333333333,
              "#9c179e"
             ],
             [
              0.4444444444444444,
              "#bd3786"
             ],
             [
              0.5555555555555556,
              "#d8576b"
             ],
             [
              0.6666666666666666,
              "#ed7953"
             ],
             [
              0.7777777777777778,
              "#fb9f3a"
             ],
             [
              0.8888888888888888,
              "#fdca26"
             ],
             [
              1,
              "#f0f921"
             ]
            ],
            "type": "heatmap"
           }
          ],
          "histogram": [
           {
            "marker": {
             "pattern": {
              "fillmode": "overlay",
              "size": 10,
              "solidity": 0.2
             }
            },
            "type": "histogram"
           }
          ],
          "histogram2d": [
           {
            "colorbar": {
             "outlinewidth": 0,
             "ticks": ""
            },
            "colorscale": [
             [
              0,
              "#0d0887"
             ],
             [
              0.1111111111111111,
              "#46039f"
             ],
             [
              0.2222222222222222,
              "#7201a8"
             ],
             [
              0.3333333333333333,
              "#9c179e"
             ],
             [
              0.4444444444444444,
              "#bd3786"
             ],
             [
              0.5555555555555556,
              "#d8576b"
             ],
             [
              0.6666666666666666,
              "#ed7953"
             ],
             [
              0.7777777777777778,
              "#fb9f3a"
             ],
             [
              0.8888888888888888,
              "#fdca26"
             ],
             [
              1,
              "#f0f921"
             ]
            ],
            "type": "histogram2d"
           }
          ],
          "histogram2dcontour": [
           {
            "colorbar": {
             "outlinewidth": 0,
             "ticks": ""
            },
            "colorscale": [
             [
              0,
              "#0d0887"
             ],
             [
              0.1111111111111111,
              "#46039f"
             ],
             [
              0.2222222222222222,
              "#7201a8"
             ],
             [
              0.3333333333333333,
              "#9c179e"
             ],
             [
              0.4444444444444444,
              "#bd3786"
             ],
             [
              0.5555555555555556,
              "#d8576b"
             ],
             [
              0.6666666666666666,
              "#ed7953"
             ],
             [
              0.7777777777777778,
              "#fb9f3a"
             ],
             [
              0.8888888888888888,
              "#fdca26"
             ],
             [
              1,
              "#f0f921"
             ]
            ],
            "type": "histogram2dcontour"
           }
          ],
          "mesh3d": [
           {
            "colorbar": {
             "outlinewidth": 0,
             "ticks": ""
            },
            "type": "mesh3d"
           }
          ],
          "parcoords": [
           {
            "line": {
             "colorbar": {
              "outlinewidth": 0,
              "ticks": ""
             }
            },
            "type": "parcoords"
           }
          ],
          "pie": [
           {
            "automargin": true,
            "type": "pie"
           }
          ],
          "scatter": [
           {
            "fillpattern": {
             "fillmode": "overlay",
             "size": 10,
             "solidity": 0.2
            },
            "type": "scatter"
           }
          ],
          "scatter3d": [
           {
            "line": {
             "colorbar": {
              "outlinewidth": 0,
              "ticks": ""
             }
            },
            "marker": {
             "colorbar": {
              "outlinewidth": 0,
              "ticks": ""
             }
            },
            "type": "scatter3d"
           }
          ],
          "scattercarpet": [
           {
            "marker": {
             "colorbar": {
              "outlinewidth": 0,
              "ticks": ""
             }
            },
            "type": "scattercarpet"
           }
          ],
          "scattergeo": [
           {
            "marker": {
             "colorbar": {
              "outlinewidth": 0,
              "ticks": ""
             }
            },
            "type": "scattergeo"
           }
          ],
          "scattergl": [
           {
            "marker": {
             "colorbar": {
              "outlinewidth": 0,
              "ticks": ""
             }
            },
            "type": "scattergl"
           }
          ],
          "scattermap": [
           {
            "marker": {
             "colorbar": {
              "outlinewidth": 0,
              "ticks": ""
             }
            },
            "type": "scattermap"
           }
          ],
          "scattermapbox": [
           {
            "marker": {
             "colorbar": {
              "outlinewidth": 0,
              "ticks": ""
             }
            },
            "type": "scattermapbox"
           }
          ],
          "scatterpolar": [
           {
            "marker": {
             "colorbar": {
              "outlinewidth": 0,
              "ticks": ""
             }
            },
            "type": "scatterpolar"
           }
          ],
          "scatterpolargl": [
           {
            "marker": {
             "colorbar": {
              "outlinewidth": 0,
              "ticks": ""
             }
            },
            "type": "scatterpolargl"
           }
          ],
          "scatterternary": [
           {
            "marker": {
             "colorbar": {
              "outlinewidth": 0,
              "ticks": ""
             }
            },
            "type": "scatterternary"
           }
          ],
          "surface": [
           {
            "colorbar": {
             "outlinewidth": 0,
             "ticks": ""
            },
            "colorscale": [
             [
              0,
              "#0d0887"
             ],
             [
              0.1111111111111111,
              "#46039f"
             ],
             [
              0.2222222222222222,
              "#7201a8"
             ],
             [
              0.3333333333333333,
              "#9c179e"
             ],
             [
              0.4444444444444444,
              "#bd3786"
             ],
             [
              0.5555555555555556,
              "#d8576b"
             ],
             [
              0.6666666666666666,
              "#ed7953"
             ],
             [
              0.7777777777777778,
              "#fb9f3a"
             ],
             [
              0.8888888888888888,
              "#fdca26"
             ],
             [
              1,
              "#f0f921"
             ]
            ],
            "type": "surface"
           }
          ],
          "table": [
           {
            "cells": {
             "fill": {
              "color": "#EBF0F8"
             },
             "line": {
              "color": "white"
             }
            },
            "header": {
             "fill": {
              "color": "#C8D4E3"
             },
             "line": {
              "color": "white"
             }
            },
            "type": "table"
           }
          ]
         },
         "layout": {
          "annotationdefaults": {
           "arrowcolor": "#2a3f5f",
           "arrowhead": 0,
           "arrowwidth": 1
          },
          "autotypenumbers": "strict",
          "coloraxis": {
           "colorbar": {
            "outlinewidth": 0,
            "ticks": ""
           }
          },
          "colorscale": {
           "diverging": [
            [
             0,
             "#8e0152"
            ],
            [
             0.1,
             "#c51b7d"
            ],
            [
             0.2,
             "#de77ae"
            ],
            [
             0.3,
             "#f1b6da"
            ],
            [
             0.4,
             "#fde0ef"
            ],
            [
             0.5,
             "#f7f7f7"
            ],
            [
             0.6,
             "#e6f5d0"
            ],
            [
             0.7,
             "#b8e186"
            ],
            [
             0.8,
             "#7fbc41"
            ],
            [
             0.9,
             "#4d9221"
            ],
            [
             1,
             "#276419"
            ]
           ],
           "sequential": [
            [
             0,
             "#0d0887"
            ],
            [
             0.1111111111111111,
             "#46039f"
            ],
            [
             0.2222222222222222,
             "#7201a8"
            ],
            [
             0.3333333333333333,
             "#9c179e"
            ],
            [
             0.4444444444444444,
             "#bd3786"
            ],
            [
             0.5555555555555556,
             "#d8576b"
            ],
            [
             0.6666666666666666,
             "#ed7953"
            ],
            [
             0.7777777777777778,
             "#fb9f3a"
            ],
            [
             0.8888888888888888,
             "#fdca26"
            ],
            [
             1,
             "#f0f921"
            ]
           ],
           "sequentialminus": [
            [
             0,
             "#0d0887"
            ],
            [
             0.1111111111111111,
             "#46039f"
            ],
            [
             0.2222222222222222,
             "#7201a8"
            ],
            [
             0.3333333333333333,
             "#9c179e"
            ],
            [
             0.4444444444444444,
             "#bd3786"
            ],
            [
             0.5555555555555556,
             "#d8576b"
            ],
            [
             0.6666666666666666,
             "#ed7953"
            ],
            [
             0.7777777777777778,
             "#fb9f3a"
            ],
            [
             0.8888888888888888,
             "#fdca26"
            ],
            [
             1,
             "#f0f921"
            ]
           ]
          },
          "colorway": [
           "#636efa",
           "#EF553B",
           "#00cc96",
           "#ab63fa",
           "#FFA15A",
           "#19d3f3",
           "#FF6692",
           "#B6E880",
           "#FF97FF",
           "#FECB52"
          ],
          "font": {
           "color": "#2a3f5f"
          },
          "geo": {
           "bgcolor": "white",
           "lakecolor": "white",
           "landcolor": "white",
           "showlakes": true,
           "showland": true,
           "subunitcolor": "#C8D4E3"
          },
          "hoverlabel": {
           "align": "left"
          },
          "hovermode": "closest",
          "mapbox": {
           "style": "light"
          },
          "paper_bgcolor": "white",
          "plot_bgcolor": "white",
          "polar": {
           "angularaxis": {
            "gridcolor": "#EBF0F8",
            "linecolor": "#EBF0F8",
            "ticks": ""
           },
           "bgcolor": "white",
           "radialaxis": {
            "gridcolor": "#EBF0F8",
            "linecolor": "#EBF0F8",
            "ticks": ""
           }
          },
          "scene": {
           "xaxis": {
            "backgroundcolor": "white",
            "gridcolor": "#DFE8F3",
            "gridwidth": 2,
            "linecolor": "#EBF0F8",
            "showbackground": true,
            "ticks": "",
            "zerolinecolor": "#EBF0F8"
           },
           "yaxis": {
            "backgroundcolor": "white",
            "gridcolor": "#DFE8F3",
            "gridwidth": 2,
            "linecolor": "#EBF0F8",
            "showbackground": true,
            "ticks": "",
            "zerolinecolor": "#EBF0F8"
           },
           "zaxis": {
            "backgroundcolor": "white",
            "gridcolor": "#DFE8F3",
            "gridwidth": 2,
            "linecolor": "#EBF0F8",
            "showbackground": true,
            "ticks": "",
            "zerolinecolor": "#EBF0F8"
           }
          },
          "shapedefaults": {
           "line": {
            "color": "#2a3f5f"
           }
          },
          "ternary": {
           "aaxis": {
            "gridcolor": "#DFE8F3",
            "linecolor": "#A2B1C6",
            "ticks": ""
           },
           "baxis": {
            "gridcolor": "#DFE8F3",
            "linecolor": "#A2B1C6",
            "ticks": ""
           },
           "bgcolor": "white",
           "caxis": {
            "gridcolor": "#DFE8F3",
            "linecolor": "#A2B1C6",
            "ticks": ""
           }
          },
          "title": {
           "x": 0.05
          },
          "xaxis": {
           "automargin": true,
           "gridcolor": "#EBF0F8",
           "linecolor": "#EBF0F8",
           "ticks": "",
           "title": {
            "standoff": 15
           },
           "zerolinecolor": "#EBF0F8",
           "zerolinewidth": 2
          },
          "yaxis": {
           "automargin": true,
           "gridcolor": "#EBF0F8",
           "linecolor": "#EBF0F8",
           "ticks": "",
           "title": {
            "standoff": 15
           },
           "zerolinecolor": "#EBF0F8",
           "zerolinewidth": 2
          }
         }
        },
        "title": {
         "text": "How Monthly Income and Loan Amount Affect Loan Recovery"
        },
        "xaxis": {
         "anchor": "y",
         "domain": [
          0,
          1
         ],
         "title": {
          "text": "Monthly Income ($)"
         }
        },
        "yaxis": {
         "anchor": "x",
         "domain": [
          0,
          1
         ],
         "title": {
          "text": "Loan Amount ($)"
         }
        }
       }
      }
     },
     "metadata": {},
     "output_type": "display_data"
    }
   ],
   "source": [
    "fig = px.scatter(df, x='Monthly_Income', y='Loan_Amount',\n",
    "                 color='Recovery_Status', size='Loan_Amount',\n",
    "                 hover_data={'Monthly_Income': True, 'Loan_Amount': True, 'Recovery_Status': True},\n",
    "                 title=\"How Monthly Income and Loan Amount Affect Loan Recovery\",\n",
    "                 labels={\"Monthly_Income\": \"Monthly Income ($)\", \"Loan_Amount\": \"Loan Amount ($)\"},\n",
    "                 color_discrete_map={\"Recovered\": \"green\", \"Not Recovered\": \"red\"})\n",
    "\n",
    "fig.add_annotation(\n",
    "    x=max(df['Monthly_Income']), y=max(df['Loan_Amount']),\n",
    "    text=\"Higher loans may still get recovered if income is high\",\n",
    "    showarrow=True,\n",
    "    arrowhead=2,\n",
    "    font=dict(size=12, color=\"red\")\n",
    ")\n",
    "\n",
    "fig.update_layout(\n",
    "    xaxis_title=\"Monthly Income ($)\",\n",
    "    yaxis_title=\"Loan Amount ($)\",\n",
    "    template=\"plotly_white\"\n",
    ")\n",
    "\n",
    "fig.show()"
   ]
  },
  {
   "cell_type": "markdown",
   "id": "87e16346",
   "metadata": {},
   "source": [
    "Higher-income individuals are more likely to fully recover their loans, even for larger amounts. Borrowers in lower income brackets face a higher likelihood of loan write-offs or partial recovery. This trend highlights the impact of income on loan recovery, as higher earnings lead to better repayment outcomes and fewer write-offs, even for substantial loans."
   ]
  },
  {
   "cell_type": "markdown",
   "id": "9ecb69aa",
   "metadata": {},
   "source": [
    "Now, using K-Means clustering, I’ll create borrower segments based on monthly income and loan amount:"
   ]
  },
  {
   "cell_type": "code",
   "execution_count": 36,
   "id": "77afef42",
   "metadata": {},
   "outputs": [],
   "source": [
    "from sklearn.cluster import KMeans\n",
    "from sklearn.preprocessing import StandardScaler\n",
    "\n",
    "features = ['Age', 'Monthly_Income', 'Loan_Amount', 'Loan_Tenure', 'Interest_Rate',\n",
    "            'Collateral_Value', 'Outstanding_Loan_Amount', 'Monthly_EMI', 'Num_Missed_Payments', 'Days_Past_Due']\n",
    "\n",
    "scaler = StandardScaler()\n",
    "df_scaled = scaler.fit_transform(df[features])"
   ]
  },
  {
   "cell_type": "code",
   "execution_count": 37,
   "id": "20e63bab",
   "metadata": {},
   "outputs": [
    {
     "data": {
      "application/vnd.plotly.v1+json": {
       "config": {
        "plotlyServerURL": "https://plot.ly"
       },
       "data": [
        {
         "customdata": {
          "bdata": "AwAAAAMAAAADAAAAAwAAAAMAAAADAAAAAwAAAAMAAAADAAAAAwAAAAMAAAADAAAAAwAAAAMAAAADAAAAAwAAAAMAAAADAAAAAwAAAAMAAAADAAAAAwAAAAMAAAADAAAAAwAAAAMAAAADAAAAAwAAAAMAAAADAAAAAwAAAAMAAAADAAAAAwAAAAMAAAADAAAAAwAAAAMAAAADAAAAAwAAAAMAAAADAAAAAwAAAAMAAAADAAAAAwAAAAMAAAADAAAAAwAAAAMAAAADAAAAAwAAAAMAAAADAAAAAwAAAAMAAAADAAAAAwAAAAMAAAADAAAAAwAAAAMAAAADAAAAAwAAAAMAAAADAAAAAwAAAAMAAAADAAAAAwAAAAMAAAADAAAAAwAAAAMAAAADAAAAAwAAAAMAAAADAAAAAwAAAAMAAAADAAAAAwAAAAMAAAADAAAAAwAAAAMAAAADAAAAAwAAAAMAAAADAAAAAwAAAAMAAAADAAAAAwAAAAMAAAADAAAAAwAAAAMAAAADAAAAAwAAAAMAAAADAAAAAwAAAAMAAAADAAAAAwAAAAMAAAADAAAAAwAAAAMAAAADAAAAAwAAAAMAAAADAAAAAwAAAAMAAAADAAAAAwAAAAMAAAADAAAAAwAAAAMAAAADAAAAAwAAAAMAAAADAAAAAwAAAAMAAAADAAAAAwAAAAMAAAADAAAAAwAAAAMAAAADAAAAAwAAAA==",
          "dtype": "i4",
          "shape": "136, 1"
         },
         "hovertemplate": "color=3<br>Monthly Income ($)=%{x}<br>Loan Amount ($)=%{marker.size}<br>Segment=%{customdata[0]}<extra></extra>",
         "legendgroup": "3",
         "marker": {
          "color": "rgb(229, 134, 6)",
          "size": {
           "bdata": "pA8WAFJZHQDPpBsAfhoXAEITEwBOOR4A+A8cABQrEwDqOBkAAsMdAEctFwBA/hgAX6QVAIpxFgBGcxsA+b4bAApVFgAg5xMAWfMcACVuHABgzhkAvvcVADjtFAAVIBQAPiceAObEEQBMRRkAzYkYAIi8GABK9hwALA0cAMBkHQCi1hMAeiMdAKISEAAQDBsAFIkQAJ9wFgDipRUArp8aAB2QGAAHgxgAxmQQAKIVFgAheB0AQ5UdADBjGgBqQBwAVKUYAIGDHABiAxoAyqIWABEpHQCeAR4AXekRAOKwGACFWh4AoZwdAI7+FwAZjhkAiDUaAI2ZGwCJYRwA67gdAPi0GAAA+xYAKpIWAJYxFQBZdhEAcvobAFFZFgDL2RcAZ8ITAPUbFgDpIxoAdrAVAOw1GgA+yQ8AKgMcALu/GwAyURQA7TgVAFnSEAA4dhsACrkYAJDnHQCe/xoA5K4WAGtkHQBW9w8APAAeAOvCHADTNRgA6sIaAOkiEgA8uRsAL7kdAI5ZFgCUUxQA8AccAHUpGwDz1xYAnP0UALXGHABGxxwAqgUYAD1yHgAgHhEAuiEbAGtuEwAFKhYAdC0eANgVHgChChcAh/USAAylGAC61BYAC9gZAEkLGADBMRgAnigUAGHhHQDlYRoACOAcABz4GwAlQBoA1mMbALqWEwCFNhkAHtAbAIYmEwBBOhoAP9cUAOwmFQBASxoAFj0XAA==",
           "dtype": "i4"
          },
          "sizemode": "area",
          "sizeref": 4988.3125,
          "symbol": "circle"
         },
         "mode": "markers",
         "name": "3",
         "orientation": "v",
         "showlegend": true,
         "type": "scatter",
         "x": {
          "bdata": "fkkDACjHAQASJgIA2UIBAE8qAQA7uQMAxscDACIIAgAAiAAAmN8CALPfAQB8UgMAY3cAADyjAQDIowMAD2EAADMDAgADPQIAK8IAAAmKAgBgPgMAvJ8DANLOAwCJwwIAks8DABU7AwBw6wAAyZcBALQpAQBPFwEAQlQAAA7PAwBxdwIAQiQCAFuyAgAApAIA8egBAHPHAADwjgMA258CAIC+AQDqnQIABIAAAO8/AgDwoAEAbAUBAJEqAgBw0AEAQ5ICAJreAQCxqQMAM6IDAAy1AADDZwIAe/EAAEeeAwDFeQMALrwCAAI1AQDnSwMADKcDALAVAQDb6wAAqs0CAMuoAQCFpAMAssgCADNvAgAB+wEAKeEBAJlqAABI6gIA5OQCAPHCAwCevwMA4fgCACRWAQA2MwEAVpYDAEGaAwBPDgIAW+ABAAFwAgCsvwIAbZUDABFkAQDyLQIA+8gCADt5AQDIoAAAvEUBAOw4AQDBIAIAQCoCAIi5AwDBZAEAfPEBAOB6AADdzgMAnGQAABTEAwDtWwEAmYUCAAsLAQAtPQIAUbABALsoAwDGRwEAZzsAAKNGAQAn8AAAH4kCAGvWAgCaZAIAJ8EDAPPLAQD/9gAAnKADAAPcAgC1ewMALRQCAH6hAQCM/gEAi2AAAHmFAAC7eQIALlEAANkgAgAAhAMAkPUCAFiEAQBV4QIAnZsBADqAAQBCOgEAi5sDAA==",
          "dtype": "i4"
         },
         "xaxis": "x",
         "y": {
          "bdata": "pA8WAFJZHQDPpBsAfhoXAEITEwBOOR4A+A8cABQrEwDqOBkAAsMdAEctFwBA/hgAX6QVAIpxFgBGcxsA+b4bAApVFgAg5xMAWfMcACVuHABgzhkAvvcVADjtFAAVIBQAPiceAObEEQBMRRkAzYkYAIi8GABK9hwALA0cAMBkHQCi1hMAeiMdAKISEAAQDBsAFIkQAJ9wFgDipRUArp8aAB2QGAAHgxgAxmQQAKIVFgAheB0AQ5UdADBjGgBqQBwAVKUYAIGDHABiAxoAyqIWABEpHQCeAR4AXekRAOKwGACFWh4AoZwdAI7+FwAZjhkAiDUaAI2ZGwCJYRwA67gdAPi0GAAA+xYAKpIWAJYxFQBZdhEAcvobAFFZFgDL2RcAZ8ITAPUbFgDpIxoAdrAVAOw1GgA+yQ8AKgMcALu/GwAyURQA7TgVAFnSEAA4dhsACrkYAJDnHQCe/xoA5K4WAGtkHQBW9w8APAAeAOvCHADTNRgA6sIaAOkiEgA8uRsAL7kdAI5ZFgCUUxQA8AccAHUpGwDz1xYAnP0UALXGHABGxxwAqgUYAD1yHgAgHhEAuiEbAGtuEwAFKhYAdC0eANgVHgChChcAh/USAAylGAC61BYAC9gZAEkLGADBMRgAnigUAGHhHQDlYRoACOAcABz4GwAlQBoA1mMbALqWEwCFNhkAHtAbAIYmEwBBOhoAP9cUAOwmFQBASxoAFj0XAA==",
          "dtype": "i4"
         },
         "yaxis": "y"
        },
        {
         "customdata": {
          "bdata": "AQAAAAEAAAABAAAAAQAAAAEAAAABAAAAAQAAAAEAAAABAAAAAQAAAAEAAAABAAAAAQAAAAEAAAABAAAAAQAAAAEAAAABAAAAAQAAAAEAAAABAAAAAQAAAAEAAAABAAAAAQAAAAEAAAABAAAAAQAAAAEAAAABAAAAAQAAAAEAAAABAAAAAQAAAAEAAAABAAAAAQAAAAEAAAABAAAAAQAAAAEAAAABAAAAAQAAAAEAAAABAAAAAQAAAAEAAAABAAAAAQAAAAEAAAABAAAA",
          "dtype": "i4",
          "shape": "51, 1"
         },
         "hovertemplate": "color=1<br>Monthly Income ($)=%{x}<br>Loan Amount ($)=%{marker.size}<br>Segment=%{customdata[0]}<extra></extra>",
         "legendgroup": "1",
         "marker": {
          "color": "rgb(93, 105, 177)",
          "size": {
           "bdata": "jPAPAL8nGQAIIBgAzcAWAE4+GACgRxEAtxMdALwrEgAGTBUAsw8WAPJQGACd0wwAJx4aAKLsGgBEwxoA1cQWAMrWGAB6QR0A1Y4cAHAPGgAUnBwALfMVAH4NGgBHVhQAjSgTAKF/GAApcR4ABXcSAB5KGwDsNBkAos0YAOlnHQCEth0AaJMcAJNnGwBVPBUA/+MdAPXXHQAB9hkA8hAXAEOKGwCkiBUAXrAbAJijFAADORoAGuwYAIzjHQALEx4ACbIOANDfEgCiARsA",
           "dtype": "i4"
          },
          "sizemode": "area",
          "sizeref": 4988.3125,
          "symbol": "circle"
         },
         "mode": "markers",
         "name": "1",
         "orientation": "v",
         "showlegend": true,
         "type": "scatter",
         "x": {
          "bdata": "3e0AAPXtAQAcUwIAQnEBAAaAAQCMqQIAZb8AAA5MAgCfFgIA/W8AAAkTAwAodwMA3+ECAMffAgDcbgMAWUoDAOCkAgCMCQIAiKgBAEXGAwDHxQIAdDcDADE/AAADpAIAufECAFv+AgCHVgAAiPcAAA9QAQChegEAFGEBAEG1AAAxxwMAKTsBAEY1AwA3lwAAoqABACEdAQCVVwAAMI4DAJm9AwC68QEA2qkBAD63AAD46wEApAECAMhUAQDOIgIAvTgDAGA2AgDBagIA",
          "dtype": "i4"
         },
         "xaxis": "x",
         "y": {
          "bdata": "jPAPAL8nGQAIIBgAzcAWAE4+GACgRxEAtxMdALwrEgAGTBUAsw8WAPJQGACd0wwAJx4aAKLsGgBEwxoA1cQWAMrWGAB6QR0A1Y4cAHAPGgAUnBwALfMVAH4NGgBHVhQAjSgTAKF/GAApcR4ABXcSAB5KGwDsNBkAos0YAOlnHQCEth0AaJMcAJNnGwBVPBUA/+MdAPXXHQAB9hkA8hAXAEOKGwCkiBUAXrAbAJijFAADORoAGuwYAIzjHQALEx4ACbIOANDfEgCiARsA",
          "dtype": "i4"
         },
         "yaxis": "y"
        },
        {
         "customdata": {
          "bdata": "AAAAAAAAAAAAAAAAAAAAAAAAAAAAAAAAAAAAAAAAAAAAAAAAAAAAAAAAAAAAAAAAAAAAAAAAAAAAAAAAAAAAAAAAAAAAAAAAAAAAAAAAAAAAAAAAAAAAAAAAAAAAAAAAAAAAAAAAAAAAAAAAAAAAAAAAAAAAAAAAAAAAAAAAAAAAAAAAAAAAAAAAAAAAAAAAAAAAAAAAAAAAAAAAAAAAAAAAAAAAAAAAAAAAAAAAAAAAAAAAAAAAAAAAAAAAAAAAAAAAAAAAAAAAAAAAAAAAAAAAAAAAAAAAAAAAAAAAAAAAAAAAAAAAAAAAAAAAAAAAAAAAAAAAAAAAAAAAAAAAAAAAAAAAAAAAAAAAAAAAAAAAAAAAAAAAAAAAAAAAAAAAAAAAAAAAAAAAAAAAAAAAAAAAAAAAAAAAAAAAAAAAAAAAAAAAAAAAAAAAAAAAAAAAAAAAAAAAAAAAAAAAAAAAAAAAAAAAAAAAAAAAAAAAAAAAAAAAAAAAAAAAAAAAAAAAAAAAAAAAAAAAAAAAAAAAAAAAAAAAAAAAAAAAAAAAAAAAAAAAAAAAAAAAAAAAAAAAAAAAAAAAAAAAAAAAAAAAAAAAAAAAAAAAAAAAAAAAAAAAAAAAAAAAAAAAAAAAAAAAAAAAAAAAAAAAAAAAAAAAAAAAAAAAAAAAAAAAAAAAAAAAAAAAAAAAAAAAAAAAAAAAAAAAAAAAAAAAAAAAAAAAAAAAAAAAAAAAAAAAAAAAAAAAAAAAAAAAAAAAAAAAAAAAAAAAAAAAAAAAAAAAAAAAAAAAAAAAAAAAAAAAAAAAAAAAAAAAAAAAAAAAAAAAAAAAAAAAAAAAAAAAAAAAAAAAAAAAAAAAAAAAAAAAAAAAAAAAAAAAAAAAAAAAAAAAAAAAAAAAAAAAAAAAAAAAAAAAAA==",
          "dtype": "i4",
          "shape": "172, 1"
         },
         "hovertemplate": "color=0<br>Monthly Income ($)=%{x}<br>Loan Amount ($)=%{marker.size}<br>Segment=%{customdata[0]}<extra></extra>",
         "legendgroup": "0",
         "marker": {
          "color": "rgb(82, 188, 163)",
          "size": {
           "bdata": "AloBABPrDQCbdgIAdQ8MAD6uDQCJihEAgaQNAD8VBAB+3wIAxToEAF+xEgBl1xIA5M0UABcLDQAZ0BYAb3sLAE30AQBY5RIAAx0MAOhDBQDKmQQAtO4CAHPyCQDONgYApzcYABGgFgD2sAYAysoTAFAPBwCgUQoAmAsGAFVUCwCjyAcAg2gBAERMBwBSyQYAoFAPAJsnAQC/CgsAkJMLABJfCgAp6QUAXnIdAG+JBQCvvgIAw0oJADcNDQBwKg0AXYgDAAxWCwBGdhcA0/oHANXWCQAwBwgAAGMQAPdXDgBqXA0AN0cWAJ+RCwDj0QMAEwUPAFEpCgDHwBUAZQ8BAIgUBAA0ExQAwfEGAF8iFQAC8AQAwMMCAISBBADbAwMA4MgNAIjtEgDrWgQAnd4PAI04CAC/kgoAJRYUAPbhBgATJQgAcFwIAAXSBgDPIwgAGUQEAGCbCwCUOAIA+LUVAAAaDABKXwgAsRsNAKhACQBl0xIA+roIAAZBCgAqNBAANTwRAKM1CACRAgsA5X4MAJICDADVtw4AasgMAJjzAAAwdQYAr6AMAH81CgBLjQEAUQwFAFmcAwCKgA0A5VUOAGXKDACzLg4A7QwCABC5AwDArhEAfFQYAIAGDADZYRIA8/AHAJjvCQDvngoAbyIHAMEEAgDouAQArNEVAOLOCwBHOAcAYHIBAHgnEgD56xUAAdMMACPsDAD3MQYAdusMAOajAgC+xw4AfpcFAE9XDgAwrgEASBsEAL0YDQD/1gAAiYgTAEaJAgDZKQgAYtQPAP1xBgCQPg4AAkYHAD0lEAA5BQIAmB8YAExtCwDAWBQAsA4PAAoQEgBRTg4ANWYKAPeFGwDzbAsAdNkQAKt7AwBP7RwAUx4SAJPiFwAd9wAAyGMGANSFDABkCwsAEr8XAA==",
           "dtype": "i4"
          },
          "sizemode": "area",
          "sizeref": 4988.3125,
          "symbol": "circle"
         },
         "mode": "markers",
         "name": "0",
         "orientation": "v",
         "showlegend": true,
         "type": "scatter",
         "x": {
          "bdata": "8CkBADo3AQA/kAIAY4wBAC4WAgANvQAApXsBAGOWAgDQ4wEA13wDAGtSAQAQhwMAPBIBAEYFAwDDoAAAz3EBAGZBAwAdggIAlvQCAKueAQCxOwAAmHYDAHxkAQA4rwIAiF4CAEo1AQCBDAIAq9sCAG8/AgC+dgIASUcBAOtpAAAu0wAAF5QAABXRAQDEuQAAy2sDAElCAACB5QAAiWIAABgbAgA0lQIA99cBAJzMAgCGIAIAYZIBAGmqAAAfyQAAxjsDAAjqAQDjrAMAcv4AAJjGAQC2bwEAZ/IAAMyGAABVWgAAic4BAKRVAwBi1gIAFPgBABtBAQD9oAMAqkoAAHnIAADpWAEA4s8BABhJAABe/AEAXs0DACpqAwA4gAMAd10CAP1yAQBxMgEAoucBAKBpAQDskgAA31MAADBNAgCjugAAHI8AALxnAgDuowIAYl0CAMrKAACsbQMA5e8AADThAgC6swIAOxADADU1AwD1iwEA9vcBAAPnAgC+rgIA3kgAAMFTAgDrDgIAnsEBAM0hAQBDjwIAROEAABJmAwAkkwEADnYDAC06AwCxBgMAoMwAAGcNAgC8vwAAyeoBAD63AgBhxwAA8JUBAGE6AwB4RgMA3CwCAHl/AABo+gAALd0CAEdoAQBzvgIAXtgAAOWkAgCeSwAADbgCAGIUAQB+LgMAU60CAKooAwDb0AAAcX8CAP2+AAC3swAAPp8DALtqAAB/7QEAO1kDABpyAgAftQAA+A8BABJiAgBARAEAU04DAH0XAQBfwQIA0eoAAGgfAwCftwEA5OEAAHT4AAC2YwAAkJ4AAM6rAAAQvQMAKK0CALV4AQCuVwEAjy8DANiDAAAQuQMAXYoDAGkWAQCnZQEAJQkCAJnFAADaLQIAMYEAAC2cAQDTTwMAgSwBAA==",
          "dtype": "i4"
         },
         "xaxis": "x",
         "y": {
          "bdata": "AloBABPrDQCbdgIAdQ8MAD6uDQCJihEAgaQNAD8VBAB+3wIAxToEAF+xEgBl1xIA5M0UABcLDQAZ0BYAb3sLAE30AQBY5RIAAx0MAOhDBQDKmQQAtO4CAHPyCQDONgYApzcYABGgFgD2sAYAysoTAFAPBwCgUQoAmAsGAFVUCwCjyAcAg2gBAERMBwBSyQYAoFAPAJsnAQC/CgsAkJMLABJfCgAp6QUAXnIdAG+JBQCvvgIAw0oJADcNDQBwKg0AXYgDAAxWCwBGdhcA0/oHANXWCQAwBwgAAGMQAPdXDgBqXA0AN0cWAJ+RCwDj0QMAEwUPAFEpCgDHwBUAZQ8BAIgUBAA0ExQAwfEGAF8iFQAC8AQAwMMCAISBBADbAwMA4MgNAIjtEgDrWgQAnd4PAI04CAC/kgoAJRYUAPbhBgATJQgAcFwIAAXSBgDPIwgAGUQEAGCbCwCUOAIA+LUVAAAaDABKXwgAsRsNAKhACQBl0xIA+roIAAZBCgAqNBAANTwRAKM1CACRAgsA5X4MAJICDADVtw4AasgMAJjzAAAwdQYAr6AMAH81CgBLjQEAUQwFAFmcAwCKgA0A5VUOAGXKDACzLg4A7QwCABC5AwDArhEAfFQYAIAGDADZYRIA8/AHAJjvCQDvngoAbyIHAMEEAgDouAQArNEVAOLOCwBHOAcAYHIBAHgnEgD56xUAAdMMACPsDAD3MQYAdusMAOajAgC+xw4AfpcFAE9XDgAwrgEASBsEAL0YDQD/1gAAiYgTAEaJAgDZKQgAYtQPAP1xBgCQPg4AAkYHAD0lEAA5BQIAmB8YAExtCwDAWBQAsA4PAAoQEgBRTg4ANWYKAPeFGwDzbAsAdNkQAKt7AwBP7RwAUx4SAJPiFwAd9wAAyGMGANSFDABkCwsAEr8XAA==",
          "dtype": "i4"
         },
         "yaxis": "y"
        },
        {
         "customdata": {
          "bdata": "AgAAAAIAAAACAAAAAgAAAAIAAAACAAAAAgAAAAIAAAACAAAAAgAAAAIAAAACAAAAAgAAAAIAAAACAAAAAgAAAAIAAAACAAAAAgAAAAIAAAACAAAAAgAAAAIAAAACAAAAAgAAAAIAAAACAAAAAgAAAAIAAAACAAAAAgAAAAIAAAACAAAAAgAAAAIAAAACAAAAAgAAAAIAAAACAAAAAgAAAAIAAAACAAAAAgAAAAIAAAACAAAAAgAAAAIAAAACAAAAAgAAAAIAAAACAAAAAgAAAAIAAAACAAAAAgAAAAIAAAACAAAAAgAAAAIAAAACAAAAAgAAAAIAAAACAAAAAgAAAAIAAAACAAAAAgAAAAIAAAACAAAAAgAAAAIAAAACAAAAAgAAAAIAAAACAAAAAgAAAAIAAAACAAAAAgAAAAIAAAACAAAAAgAAAAIAAAACAAAAAgAAAAIAAAACAAAAAgAAAAIAAAACAAAAAgAAAAIAAAACAAAAAgAAAAIAAAACAAAAAgAAAAIAAAACAAAAAgAAAAIAAAACAAAAAgAAAAIAAAACAAAAAgAAAAIAAAACAAAAAgAAAAIAAAACAAAAAgAAAAIAAAACAAAAAgAAAAIAAAACAAAAAgAAAAIAAAACAAAAAgAAAAIAAAACAAAAAgAAAAIAAAACAAAAAgAAAAIAAAACAAAAAgAAAAIAAAACAAAAAgAAAAIAAAACAAAAAgAAAAIAAAACAAAAAgAAAAIAAAACAAAA",
          "dtype": "i4",
          "shape": "141, 1"
         },
         "hovertemplate": "color=2<br>Monthly Income ($)=%{x}<br>Loan Amount ($)=%{marker.size}<br>Segment=%{customdata[0]}<extra></extra>",
         "legendgroup": "2",
         "marker": {
          "color": "rgb(153, 201, 69)",
          "size": {
           "bdata": "pSQKACvzAwDzdAEA3BoTAKYwEgBtsQMADU4HALT2CgBoHQ8AylAGACQ0CQBu6gQA2pEFAC/RAQBILQ0A5O4OAJC6DAAoagcAgs0OAF4SAgDJ+AgA8RAHAPjFCQDcFwkAlbUBAIBlBQD+wwQAz0cFABPhFQDh2gUAiW4GAPHVAQCKMBMA7A4IAMieAwBcdQQAP4AGAI/KDQANYwQAG04FABnJBAConw0A+6wCAOYvAQDCBhcAl7YGAB9VDQCXAg8Ay98FAFsXEgDNDwMAmqwJANQqAgCwDwUAlB8DAMfGBACKPwUA3HcJAKN3DQDWjAYAJhwQACyhAgDjHAkAbB8CAGeaBAC4lAwA1ygRACmcCADsWQoAkewGABTLBgAjuQoAG7AKANKsAQCZ7QEAeM0NAOK0AQC+LAUAhMACAJXABACzUwcAipcBABNhEQAo+xcAAs8GAH+lDABHSBYAPJsNAPOfBACiww0A0MoEAH3LBAC59QQA4G0WAGqKCgBK4RYAyswCAKvGCwB60wAAwCQEAERuAQBxFgMAd3wCABIvFQCNkgEAmhQCAF/JBQCh9AYArUkJAH+oFQChyA0ACuEGAI5sBwBHfQoAGUsGAMfqCACo4hAAdgQIAKS+EACJEQ0AyrsRAEvAGgC6WRcAsSIDAI4DBgDadwUATzQNAIxRAgArPwUAUk8FAPXuEQC1yQ0AdT8VAKT4BAAZTgcAq34KAEGEDQC8TQsAfnwVAKO5BQByBgYA",
           "dtype": "i4"
          },
          "sizemode": "area",
          "sizeref": 4988.3125,
          "symbol": "circle"
         },
         "mode": "markers",
         "name": "2",
         "orientation": "v",
         "showlegend": true,
         "type": "scatter",
         "x": {
          "bdata": "kKIDAFhwAgDEawIAoQYDAFrpAADnZAEA9FADAKERAgDjZQEAmJQDAALHAACIyAMAkn8DAFT+AgAZeQEAtKUCAA7TAgC6PgIAXYsDAKOeAgB5KgIAdg8CAIZUAgAuXgAAvW8BAOcvAgATfgMA7eoBAFj3AADO8wIAsZgAAH+1AwDwywIAxQ0BACq3AgBXfQIA4FAAADgnAwBAWQMAR+0BADaHAwCAPAMA/cYDAIWsAABdOAMAJLQBACZJAADYlgEA46YAACbDAQAsXgIA08UAAPS0AgC6swEAX2YDAOElAwBZngAAeXoBAMcLAQBmpgIAwloBAIkkAwASbgEAhB4DAKyaAADGIQEAE48BACbUAAC7MQIApukBABRSAgAMHAEAhlUDACcXAgAblQIAz4MAAFRcAwC7mgIADWoAAA2XAgBzXwIAIKoDAG8uAgAvUwMAL9UBAKoUAwDTVgIAKs4DADitAwAOfQAALHUBACZ5AAA6pAEAYF4DAFAcAwDXfwAAFJUDAK/nAQDFAwMABNUCAIUOAQB+JgIAW/0BANM1AQAZSQMAQ0QDALLIAAA3SwIALHMCAJ8lAgDaWgEA3bkDABlPAgD9JAIAbmAAAMPpAgABxQMANZUBAIS7AQAKFQMADa0AACy7AQDrbgIAt00AADgPAgBjZAAAeAwCAAmTAwBysgAA4hEDAEvPAABbxwAAaTgDAM7LAwAmYwAA7UsCAPw2AwCjygMAhrcDAMi8AQDpnAAA",
          "dtype": "i4"
         },
         "xaxis": "x",
         "y": {
          "bdata": "pSQKACvzAwDzdAEA3BoTAKYwEgBtsQMADU4HALT2CgBoHQ8AylAGACQ0CQBu6gQA2pEFAC/RAQBILQ0A5O4OAJC6DAAoagcAgs0OAF4SAgDJ+AgA8RAHAPjFCQDcFwkAlbUBAIBlBQD+wwQAz0cFABPhFQDh2gUAiW4GAPHVAQCKMBMA7A4IAMieAwBcdQQAP4AGAI/KDQANYwQAG04FABnJBAConw0A+6wCAOYvAQDCBhcAl7YGAB9VDQCXAg8Ay98FAFsXEgDNDwMAmqwJANQqAgCwDwUAlB8DAMfGBACKPwUA3HcJAKN3DQDWjAYAJhwQACyhAgDjHAkAbB8CAGeaBAC4lAwA1ygRACmcCADsWQoAkewGABTLBgAjuQoAG7AKANKsAQCZ7QEAeM0NAOK0AQC+LAUAhMACAJXABACzUwcAipcBABNhEQAo+xcAAs8GAH+lDABHSBYAPJsNAPOfBACiww0A0MoEAH3LBAC59QQA4G0WAGqKCgBK4RYAyswCAKvGCwB60wAAwCQEAERuAQBxFgMAd3wCABIvFQCNkgEAmhQCAF/JBQCh9AYArUkJAH+oFQChyA0ACuEGAI5sBwBHfQoAGUsGAMfqCACo4hAAdgQIAKS+EACJEQ0AyrsRAEvAGgC6WRcAsSIDAI4DBgDadwUATzQNAIxRAgArPwUAUk8FAPXuEQC1yQ0AdT8VAKT4BAAZTgcAq34KAEGEDQC8TQsAfnwVAKO5BQByBgYA",
          "dtype": "i4"
         },
         "yaxis": "y"
        }
       ],
       "layout": {
        "annotations": [
         {
          "arrowhead": 2,
          "font": {
           "color": "red",
           "size": 12
          },
          "showarrow": true,
          "text": "Higher loans are clustered in specific income groups",
          "x": 134829.92,
          "y": 1995325
         }
        ],
        "legend": {
         "itemsizing": "constant",
         "title": {
          "text": "Borrower Segment"
         },
         "tracegroupgap": 0
        },
        "template": {
         "data": {
          "bar": [
           {
            "error_x": {
             "color": "#2a3f5f"
            },
            "error_y": {
             "color": "#2a3f5f"
            },
            "marker": {
             "line": {
              "color": "white",
              "width": 0.5
             },
             "pattern": {
              "fillmode": "overlay",
              "size": 10,
              "solidity": 0.2
             }
            },
            "type": "bar"
           }
          ],
          "barpolar": [
           {
            "marker": {
             "line": {
              "color": "white",
              "width": 0.5
             },
             "pattern": {
              "fillmode": "overlay",
              "size": 10,
              "solidity": 0.2
             }
            },
            "type": "barpolar"
           }
          ],
          "carpet": [
           {
            "aaxis": {
             "endlinecolor": "#2a3f5f",
             "gridcolor": "#C8D4E3",
             "linecolor": "#C8D4E3",
             "minorgridcolor": "#C8D4E3",
             "startlinecolor": "#2a3f5f"
            },
            "baxis": {
             "endlinecolor": "#2a3f5f",
             "gridcolor": "#C8D4E3",
             "linecolor": "#C8D4E3",
             "minorgridcolor": "#C8D4E3",
             "startlinecolor": "#2a3f5f"
            },
            "type": "carpet"
           }
          ],
          "choropleth": [
           {
            "colorbar": {
             "outlinewidth": 0,
             "ticks": ""
            },
            "type": "choropleth"
           }
          ],
          "contour": [
           {
            "colorbar": {
             "outlinewidth": 0,
             "ticks": ""
            },
            "colorscale": [
             [
              0,
              "#0d0887"
             ],
             [
              0.1111111111111111,
              "#46039f"
             ],
             [
              0.2222222222222222,
              "#7201a8"
             ],
             [
              0.3333333333333333,
              "#9c179e"
             ],
             [
              0.4444444444444444,
              "#bd3786"
             ],
             [
              0.5555555555555556,
              "#d8576b"
             ],
             [
              0.6666666666666666,
              "#ed7953"
             ],
             [
              0.7777777777777778,
              "#fb9f3a"
             ],
             [
              0.8888888888888888,
              "#fdca26"
             ],
             [
              1,
              "#f0f921"
             ]
            ],
            "type": "contour"
           }
          ],
          "contourcarpet": [
           {
            "colorbar": {
             "outlinewidth": 0,
             "ticks": ""
            },
            "type": "contourcarpet"
           }
          ],
          "heatmap": [
           {
            "colorbar": {
             "outlinewidth": 0,
             "ticks": ""
            },
            "colorscale": [
             [
              0,
              "#0d0887"
             ],
             [
              0.1111111111111111,
              "#46039f"
             ],
             [
              0.2222222222222222,
              "#7201a8"
             ],
             [
              0.3333333333333333,
              "#9c179e"
             ],
             [
              0.4444444444444444,
              "#bd3786"
             ],
             [
              0.5555555555555556,
              "#d8576b"
             ],
             [
              0.6666666666666666,
              "#ed7953"
             ],
             [
              0.7777777777777778,
              "#fb9f3a"
             ],
             [
              0.8888888888888888,
              "#fdca26"
             ],
             [
              1,
              "#f0f921"
             ]
            ],
            "type": "heatmap"
           }
          ],
          "histogram": [
           {
            "marker": {
             "pattern": {
              "fillmode": "overlay",
              "size": 10,
              "solidity": 0.2
             }
            },
            "type": "histogram"
           }
          ],
          "histogram2d": [
           {
            "colorbar": {
             "outlinewidth": 0,
             "ticks": ""
            },
            "colorscale": [
             [
              0,
              "#0d0887"
             ],
             [
              0.1111111111111111,
              "#46039f"
             ],
             [
              0.2222222222222222,
              "#7201a8"
             ],
             [
              0.3333333333333333,
              "#9c179e"
             ],
             [
              0.4444444444444444,
              "#bd3786"
             ],
             [
              0.5555555555555556,
              "#d8576b"
             ],
             [
              0.6666666666666666,
              "#ed7953"
             ],
             [
              0.7777777777777778,
              "#fb9f3a"
             ],
             [
              0.8888888888888888,
              "#fdca26"
             ],
             [
              1,
              "#f0f921"
             ]
            ],
            "type": "histogram2d"
           }
          ],
          "histogram2dcontour": [
           {
            "colorbar": {
             "outlinewidth": 0,
             "ticks": ""
            },
            "colorscale": [
             [
              0,
              "#0d0887"
             ],
             [
              0.1111111111111111,
              "#46039f"
             ],
             [
              0.2222222222222222,
              "#7201a8"
             ],
             [
              0.3333333333333333,
              "#9c179e"
             ],
             [
              0.4444444444444444,
              "#bd3786"
             ],
             [
              0.5555555555555556,
              "#d8576b"
             ],
             [
              0.6666666666666666,
              "#ed7953"
             ],
             [
              0.7777777777777778,
              "#fb9f3a"
             ],
             [
              0.8888888888888888,
              "#fdca26"
             ],
             [
              1,
              "#f0f921"
             ]
            ],
            "type": "histogram2dcontour"
           }
          ],
          "mesh3d": [
           {
            "colorbar": {
             "outlinewidth": 0,
             "ticks": ""
            },
            "type": "mesh3d"
           }
          ],
          "parcoords": [
           {
            "line": {
             "colorbar": {
              "outlinewidth": 0,
              "ticks": ""
             }
            },
            "type": "parcoords"
           }
          ],
          "pie": [
           {
            "automargin": true,
            "type": "pie"
           }
          ],
          "scatter": [
           {
            "fillpattern": {
             "fillmode": "overlay",
             "size": 10,
             "solidity": 0.2
            },
            "type": "scatter"
           }
          ],
          "scatter3d": [
           {
            "line": {
             "colorbar": {
              "outlinewidth": 0,
              "ticks": ""
             }
            },
            "marker": {
             "colorbar": {
              "outlinewidth": 0,
              "ticks": ""
             }
            },
            "type": "scatter3d"
           }
          ],
          "scattercarpet": [
           {
            "marker": {
             "colorbar": {
              "outlinewidth": 0,
              "ticks": ""
             }
            },
            "type": "scattercarpet"
           }
          ],
          "scattergeo": [
           {
            "marker": {
             "colorbar": {
              "outlinewidth": 0,
              "ticks": ""
             }
            },
            "type": "scattergeo"
           }
          ],
          "scattergl": [
           {
            "marker": {
             "colorbar": {
              "outlinewidth": 0,
              "ticks": ""
             }
            },
            "type": "scattergl"
           }
          ],
          "scattermap": [
           {
            "marker": {
             "colorbar": {
              "outlinewidth": 0,
              "ticks": ""
             }
            },
            "type": "scattermap"
           }
          ],
          "scattermapbox": [
           {
            "marker": {
             "colorbar": {
              "outlinewidth": 0,
              "ticks": ""
             }
            },
            "type": "scattermapbox"
           }
          ],
          "scatterpolar": [
           {
            "marker": {
             "colorbar": {
              "outlinewidth": 0,
              "ticks": ""
             }
            },
            "type": "scatterpolar"
           }
          ],
          "scatterpolargl": [
           {
            "marker": {
             "colorbar": {
              "outlinewidth": 0,
              "ticks": ""
             }
            },
            "type": "scatterpolargl"
           }
          ],
          "scatterternary": [
           {
            "marker": {
             "colorbar": {
              "outlinewidth": 0,
              "ticks": ""
             }
            },
            "type": "scatterternary"
           }
          ],
          "surface": [
           {
            "colorbar": {
             "outlinewidth": 0,
             "ticks": ""
            },
            "colorscale": [
             [
              0,
              "#0d0887"
             ],
             [
              0.1111111111111111,
              "#46039f"
             ],
             [
              0.2222222222222222,
              "#7201a8"
             ],
             [
              0.3333333333333333,
              "#9c179e"
             ],
             [
              0.4444444444444444,
              "#bd3786"
             ],
             [
              0.5555555555555556,
              "#d8576b"
             ],
             [
              0.6666666666666666,
              "#ed7953"
             ],
             [
              0.7777777777777778,
              "#fb9f3a"
             ],
             [
              0.8888888888888888,
              "#fdca26"
             ],
             [
              1,
              "#f0f921"
             ]
            ],
            "type": "surface"
           }
          ],
          "table": [
           {
            "cells": {
             "fill": {
              "color": "#EBF0F8"
             },
             "line": {
              "color": "white"
             }
            },
            "header": {
             "fill": {
              "color": "#C8D4E3"
             },
             "line": {
              "color": "white"
             }
            },
            "type": "table"
           }
          ]
         },
         "layout": {
          "annotationdefaults": {
           "arrowcolor": "#2a3f5f",
           "arrowhead": 0,
           "arrowwidth": 1
          },
          "autotypenumbers": "strict",
          "coloraxis": {
           "colorbar": {
            "outlinewidth": 0,
            "ticks": ""
           }
          },
          "colorscale": {
           "diverging": [
            [
             0,
             "#8e0152"
            ],
            [
             0.1,
             "#c51b7d"
            ],
            [
             0.2,
             "#de77ae"
            ],
            [
             0.3,
             "#f1b6da"
            ],
            [
             0.4,
             "#fde0ef"
            ],
            [
             0.5,
             "#f7f7f7"
            ],
            [
             0.6,
             "#e6f5d0"
            ],
            [
             0.7,
             "#b8e186"
            ],
            [
             0.8,
             "#7fbc41"
            ],
            [
             0.9,
             "#4d9221"
            ],
            [
             1,
             "#276419"
            ]
           ],
           "sequential": [
            [
             0,
             "#0d0887"
            ],
            [
             0.1111111111111111,
             "#46039f"
            ],
            [
             0.2222222222222222,
             "#7201a8"
            ],
            [
             0.3333333333333333,
             "#9c179e"
            ],
            [
             0.4444444444444444,
             "#bd3786"
            ],
            [
             0.5555555555555556,
             "#d8576b"
            ],
            [
             0.6666666666666666,
             "#ed7953"
            ],
            [
             0.7777777777777778,
             "#fb9f3a"
            ],
            [
             0.8888888888888888,
             "#fdca26"
            ],
            [
             1,
             "#f0f921"
            ]
           ],
           "sequentialminus": [
            [
             0,
             "#0d0887"
            ],
            [
             0.1111111111111111,
             "#46039f"
            ],
            [
             0.2222222222222222,
             "#7201a8"
            ],
            [
             0.3333333333333333,
             "#9c179e"
            ],
            [
             0.4444444444444444,
             "#bd3786"
            ],
            [
             0.5555555555555556,
             "#d8576b"
            ],
            [
             0.6666666666666666,
             "#ed7953"
            ],
            [
             0.7777777777777778,
             "#fb9f3a"
            ],
            [
             0.8888888888888888,
             "#fdca26"
            ],
            [
             1,
             "#f0f921"
            ]
           ]
          },
          "colorway": [
           "#636efa",
           "#EF553B",
           "#00cc96",
           "#ab63fa",
           "#FFA15A",
           "#19d3f3",
           "#FF6692",
           "#B6E880",
           "#FF97FF",
           "#FECB52"
          ],
          "font": {
           "color": "#2a3f5f"
          },
          "geo": {
           "bgcolor": "white",
           "lakecolor": "white",
           "landcolor": "white",
           "showlakes": true,
           "showland": true,
           "subunitcolor": "#C8D4E3"
          },
          "hoverlabel": {
           "align": "left"
          },
          "hovermode": "closest",
          "mapbox": {
           "style": "light"
          },
          "paper_bgcolor": "white",
          "plot_bgcolor": "white",
          "polar": {
           "angularaxis": {
            "gridcolor": "#EBF0F8",
            "linecolor": "#EBF0F8",
            "ticks": ""
           },
           "bgcolor": "white",
           "radialaxis": {
            "gridcolor": "#EBF0F8",
            "linecolor": "#EBF0F8",
            "ticks": ""
           }
          },
          "scene": {
           "xaxis": {
            "backgroundcolor": "white",
            "gridcolor": "#DFE8F3",
            "gridwidth": 2,
            "linecolor": "#EBF0F8",
            "showbackground": true,
            "ticks": "",
            "zerolinecolor": "#EBF0F8"
           },
           "yaxis": {
            "backgroundcolor": "white",
            "gridcolor": "#DFE8F3",
            "gridwidth": 2,
            "linecolor": "#EBF0F8",
            "showbackground": true,
            "ticks": "",
            "zerolinecolor": "#EBF0F8"
           },
           "zaxis": {
            "backgroundcolor": "white",
            "gridcolor": "#DFE8F3",
            "gridwidth": 2,
            "linecolor": "#EBF0F8",
            "showbackground": true,
            "ticks": "",
            "zerolinecolor": "#EBF0F8"
           }
          },
          "shapedefaults": {
           "line": {
            "color": "#2a3f5f"
           }
          },
          "ternary": {
           "aaxis": {
            "gridcolor": "#DFE8F3",
            "linecolor": "#A2B1C6",
            "ticks": ""
           },
           "baxis": {
            "gridcolor": "#DFE8F3",
            "linecolor": "#A2B1C6",
            "ticks": ""
           },
           "bgcolor": "white",
           "caxis": {
            "gridcolor": "#DFE8F3",
            "linecolor": "#A2B1C6",
            "ticks": ""
           }
          },
          "title": {
           "x": 0.05
          },
          "xaxis": {
           "automargin": true,
           "gridcolor": "#EBF0F8",
           "linecolor": "#EBF0F8",
           "ticks": "",
           "title": {
            "standoff": 15
           },
           "zerolinecolor": "#EBF0F8",
           "zerolinewidth": 2
          },
          "yaxis": {
           "automargin": true,
           "gridcolor": "#EBF0F8",
           "linecolor": "#EBF0F8",
           "ticks": "",
           "title": {
            "standoff": 15
           },
           "zerolinecolor": "#EBF0F8",
           "zerolinewidth": 2
          }
         }
        },
        "title": {
         "text": "Borrower Segments Based on Monthly Income and Loan Amount"
        },
        "xaxis": {
         "anchor": "y",
         "domain": [
          0,
          1
         ],
         "title": {
          "text": "Monthly Income ($)"
         }
        },
        "yaxis": {
         "anchor": "x",
         "domain": [
          0,
          1
         ],
         "title": {
          "text": "Loan Amount ($)"
         }
        }
       }
      }
     },
     "metadata": {},
     "output_type": "display_data"
    }
   ],
   "source": [
    "optimal_k = 4\n",
    "kmeans = KMeans(n_clusters=optimal_k, random_state=42, n_init=10)\n",
    "df['Borrower_Segment'] = kmeans.fit_predict(df_scaled)\n",
    "\n",
    "fig = px.scatter(df, x='Monthly_Income', y='Loan_Amount',\n",
    "                 color=df['Borrower_Segment'].astype(str), size='Loan_Amount',\n",
    "                 hover_data={'Monthly_Income': True, 'Loan_Amount': True, 'Borrower_Segment': True},\n",
    "                 title=\"Borrower Segments Based on Monthly Income and Loan Amount\",\n",
    "                 labels={\"Monthly_Income\": \"Monthly Income ($)\", \"Loan_Amount\": \"Loan Amount ($)\", \"Borrower_Segment\": \"Segment\"},\n",
    "                 color_discrete_sequence=px.colors.qualitative.Vivid)\n",
    "\n",
    "fig.add_annotation(\n",
    "    x=df['Monthly_Income'].mean(), y=df['Loan_Amount'].max(),\n",
    "    text=\"Higher loans are clustered in specific income groups\",\n",
    "    showarrow=True,\n",
    "    arrowhead=2,\n",
    "    font=dict(size=12, color=\"red\")\n",
    ")\n",
    "\n",
    "fig.update_layout(\n",
    "    xaxis_title=\"Monthly Income ($)\",\n",
    "    yaxis_title=\"Loan Amount ($)\",\n",
    "    template=\"plotly_white\",\n",
    "    legend_title=\"Borrower Segment\"\n",
    ")\n",
    "\n",
    "fig.show()"
   ]
  },
  {
   "cell_type": "markdown",
   "id": "2be521e6",
   "metadata": {},
   "source": [
    "Segment 1 borrowers take on moderate to high loan amounts, indicating financial stability. The Segment 0 clusters around lower income levels and moderate loan sizes, reflecting potential financial strain. Segment 2 borrowers distribute evenly across the graph, representing a balanced but cautious group. Meanwhile, Segment 3 borrowers concentrate in high-loan areas, especially within specific high-income ranges, highlighting their susceptibility to default despite higher incomes."
   ]
  },
  {
   "cell_type": "code",
   "execution_count": 39,
   "id": "e83ed0ec",
   "metadata": {},
   "outputs": [],
   "source": [
    "# updating segment names\n",
    "df['Segment_Name'] = df['Borrower_Segment'].map({\n",
    "    0: 'Moderate Income, High Loan Burden',\n",
    "    1: 'High Income, Low Default Risk',\n",
    "    2: 'Moderate Income, Medium Risk',\n",
    "    3: 'High Loan, Higher Default Risk'\n",
    "})"
   ]
  },
  {
   "cell_type": "markdown",
   "id": "06cddd74",
   "metadata": {},
   "source": [
    "#### Building an Early Detection System for Loan Defaults based on the Risk Scores\n",
    "\n",
    "Now, we will use our segments to build a classification model to flag the borrowers with high default risk. Once the model finds the borrowers with a high default risk, we will assign a loan recovery strategy based on the level of the risk of the borrower. Let’s train the model first:"
   ]
  },
  {
   "cell_type": "code",
   "execution_count": null,
   "id": "0133717e",
   "metadata": {},
   "outputs": [],
   "source": [
    "from sklearn.ensemble import RandomForestClassifier #Random Forest: Robust to outliers, handles mixed data types, provides feature importance\n",
    "from sklearn.model_selection import train_test_split\n",
    "\n",
    "df['High_Risk_Flag'] = df['Segment_Name'].apply(lambda x: 1 if x in ['High Loan, Higher Default Risk', 'Moderate Income, High Loan Burden'] else 0)\n",
    "\n",
    "# selecting features for the model\n",
    "features = ['Age', 'Monthly_Income', 'Loan_Amount', 'Loan_Tenure', 'Interest_Rate',\n",
    "            'Collateral_Value', 'Outstanding_Loan_Amount', 'Monthly_EMI', 'Num_Missed_Payments', 'Days_Past_Due']\n",
    "X = df[features]\n",
    "y = df['High_Risk_Flag']\n",
    "\n",
    "# splitting the data\n",
    "X_train, X_test, y_train, y_test = train_test_split(X, y, test_size=0.2, random_state=42, stratify=y)\n",
    "\n",
    "\n",
    "\n",
    "# training the model\n",
    "rf_model = RandomForestClassifier(\n",
    "    n_estimators=200,            # Increased number of trees for better performance\n",
    "    max_depth=8,                 # Limit tree depth to prevent overfitting\n",
    "    min_samples_split=10,        # Minimum samples required to split an internal node\n",
    "    min_samples_leaf=4,          # Minimum samples required at a leaf node\n",
    "    max_features='sqrt',         # Use sqrt of features at each split (default for classification)\n",
    "    class_weight='balanced',     # Handle class imbalance if present\n",
    "    random_state=42,\n",
    "    bootstrap=True,              # Use bootstrap samples\n",
    "    oob_score=True,              # Enable out-of-bag score for validation\n",
    "    n_jobs=-1                    # Use all available cores\n",
    ")\n",
    "rf_model.fit(X_train, y_train)\n",
    "\n",
    "# get risk scores (probability of being high risk)\n",
    "risk_scores = rf_model.predict_proba(X_test)[:, 1]  # probability of high risk\n",
    "\n",
    "# add risk scores and flags to test data\n",
    "df_test = X_test.copy()\n",
    "df_test['Risk_Score'] = risk_scores\n",
    "df_test['Predicted_High_Risk'] = (df_test['Risk_Score'] > 0.5).astype(int)  # Threshold at 50% probability\n",
    "\n",
    "# merging with borrower details\n",
    "df_test = df_test.merge(df[['Borrower_ID', 'Segment_Name', 'Recovery_Status', 'Collection_Method', 'Collection_Attempts', 'Legal_Action_Taken']],\n",
    "                        left_index=True, right_index=True)"
   ]
  },
  {
   "cell_type": "code",
   "execution_count": null,
   "id": "061e29f9",
   "metadata": {},
   "outputs": [
    {
     "name": "stdout",
     "output_type": "stream",
     "text": [
      "Accuracy: 0.9200\n",
      "Precision: 0.9655\n",
      "ROC-AUC Score: 0.9847\n",
      "Confusion Matrix:\n",
      "[[36  2]\n",
      " [ 6 56]]\n"
     ]
    }
   ],
   "source": [
    "from sklearn.metrics import accuracy_score, roc_auc_score, confusion_matrix, precision_score\n",
    "\n",
    "# Evaluation Metrics Business Impact\n",
    "# - Precision: Reduces false positives in recovery efforts (saves collection costs)\n",
    "# - Recall: Minimizes missed high-risk borrowers (reduces potential losses)\n",
    "# - ROC-AUC: Overall model discriminative ability\n",
    "# Predict on test set\n",
    "\n",
    "\n",
    "y_pred = rf_model.predict(X_test)\n",
    "y_pred_proba = rf_model.predict_proba(X_test)[:, 1]\n",
    "\n",
    "# Accuracy\n",
    "accuracy = accuracy_score(y_test, y_pred)\n",
    "print(f\"Accuracy: {accuracy:.4f}\")\n",
    "\n",
    "# Precision\n",
    "precision = precision_score(y_test, y_pred)\n",
    "print(f\"Precision: {precision:.4f}\")\n",
    "\n",
    "# ROC-AUC\n",
    "roc_auc = roc_auc_score(y_test, y_pred_proba)\n",
    "print(f\"ROC-AUC Score: {roc_auc:.4f}\")\n",
    "\n",
    "# Confusion Matrix\n",
    "cm = confusion_matrix(y_test, y_pred)\n",
    "print(\"Confusion Matrix:\")\n",
    "print(cm)\n"
   ]
  },
  {
   "cell_type": "markdown",
   "id": "5dfb585e",
   "metadata": {},
   "source": [
    "Here, we first labelled borrowers as high-risk based on their segment classification. Then, we selected key financial and behavioural features to train a Random Forest Classifier. After splitting the data into training and testing sets, we trained the model to predict the probability of a borrower defaulting. We then applied this model to the test data to generate risk scores and classify borrowers as high-risk or low-risk based on a probability threshold. Finally, we merged these predictions with borrower details to enable data-driven recovery strategies."
   ]
  },
  {
   "cell_type": "code",
   "execution_count": 54,
   "id": "345d25af",
   "metadata": {},
   "outputs": [
    {
     "data": {
      "text/html": [
       "<div>\n",
       "<style scoped>\n",
       "    .dataframe tbody tr th:only-of-type {\n",
       "        vertical-align: middle;\n",
       "    }\n",
       "\n",
       "    .dataframe tbody tr th {\n",
       "        vertical-align: top;\n",
       "    }\n",
       "\n",
       "    .dataframe thead th {\n",
       "        text-align: right;\n",
       "    }\n",
       "</style>\n",
       "<table border=\"1\" class=\"dataframe\">\n",
       "  <thead>\n",
       "    <tr style=\"text-align: right;\">\n",
       "      <th></th>\n",
       "      <th>Age</th>\n",
       "      <th>Monthly_Income</th>\n",
       "      <th>Loan_Amount</th>\n",
       "      <th>Loan_Tenure</th>\n",
       "      <th>Interest_Rate</th>\n",
       "      <th>Collateral_Value</th>\n",
       "      <th>Outstanding_Loan_Amount</th>\n",
       "      <th>Monthly_EMI</th>\n",
       "      <th>Num_Missed_Payments</th>\n",
       "      <th>Days_Past_Due</th>\n",
       "      <th>Risk_Score</th>\n",
       "      <th>Predicted_High_Risk</th>\n",
       "      <th>Borrower_ID</th>\n",
       "      <th>Segment_Name</th>\n",
       "      <th>Recovery_Status</th>\n",
       "      <th>Collection_Method</th>\n",
       "      <th>Collection_Attempts</th>\n",
       "      <th>Legal_Action_Taken</th>\n",
       "      <th>Recovery_Strategy</th>\n",
       "    </tr>\n",
       "  </thead>\n",
       "  <tbody>\n",
       "    <tr>\n",
       "      <th>436</th>\n",
       "      <td>25</td>\n",
       "      <td>156826</td>\n",
       "      <td>1510049</td>\n",
       "      <td>60</td>\n",
       "      <td>16.22</td>\n",
       "      <td>8.373402e+05</td>\n",
       "      <td>3.296001e+05</td>\n",
       "      <td>5493.34</td>\n",
       "      <td>1</td>\n",
       "      <td>179</td>\n",
       "      <td>0.383863</td>\n",
       "      <td>0</td>\n",
       "      <td>BRW_437</td>\n",
       "      <td>High Loan, Higher Default Risk</td>\n",
       "      <td>Partially Recovered</td>\n",
       "      <td>Legal Notice</td>\n",
       "      <td>7</td>\n",
       "      <td>No</td>\n",
       "      <td>Automated reminders &amp; monitoring</td>\n",
       "    </tr>\n",
       "    <tr>\n",
       "      <th>448</th>\n",
       "      <td>57</td>\n",
       "      <td>33752</td>\n",
       "      <td>1803767</td>\n",
       "      <td>12</td>\n",
       "      <td>8.30</td>\n",
       "      <td>0.000000e+00</td>\n",
       "      <td>4.411477e+05</td>\n",
       "      <td>36762.31</td>\n",
       "      <td>0</td>\n",
       "      <td>0</td>\n",
       "      <td>0.546048</td>\n",
       "      <td>1</td>\n",
       "      <td>BRW_449</td>\n",
       "      <td>Moderate Income, High Loan Burden</td>\n",
       "      <td>Fully Recovered</td>\n",
       "      <td>Calls</td>\n",
       "      <td>2</td>\n",
       "      <td>No</td>\n",
       "      <td>Settlement offers &amp; repayment plans</td>\n",
       "    </tr>\n",
       "    <tr>\n",
       "      <th>88</th>\n",
       "      <td>27</td>\n",
       "      <td>71503</td>\n",
       "      <td>1898058</td>\n",
       "      <td>24</td>\n",
       "      <td>12.59</td>\n",
       "      <td>1.087594e+06</td>\n",
       "      <td>4.227607e+05</td>\n",
       "      <td>17615.03</td>\n",
       "      <td>2</td>\n",
       "      <td>179</td>\n",
       "      <td>0.629916</td>\n",
       "      <td>1</td>\n",
       "      <td>BRW_89</td>\n",
       "      <td>High Loan, Higher Default Risk</td>\n",
       "      <td>Fully Recovered</td>\n",
       "      <td>Debt Collectors</td>\n",
       "      <td>3</td>\n",
       "      <td>No</td>\n",
       "      <td>Settlement offers &amp; repayment plans</td>\n",
       "    </tr>\n",
       "    <tr>\n",
       "      <th>145</th>\n",
       "      <td>59</td>\n",
       "      <td>215641</td>\n",
       "      <td>1492181</td>\n",
       "      <td>36</td>\n",
       "      <td>15.85</td>\n",
       "      <td>1.340937e+06</td>\n",
       "      <td>1.337482e+06</td>\n",
       "      <td>37152.29</td>\n",
       "      <td>3</td>\n",
       "      <td>125</td>\n",
       "      <td>0.346930</td>\n",
       "      <td>0</td>\n",
       "      <td>BRW_146</td>\n",
       "      <td>High Income, Low Default Risk</td>\n",
       "      <td>Fully Recovered</td>\n",
       "      <td>Calls</td>\n",
       "      <td>3</td>\n",
       "      <td>No</td>\n",
       "      <td>Automated reminders &amp; monitoring</td>\n",
       "    </tr>\n",
       "    <tr>\n",
       "      <th>344</th>\n",
       "      <td>52</td>\n",
       "      <td>106658</td>\n",
       "      <td>1958911</td>\n",
       "      <td>36</td>\n",
       "      <td>12.09</td>\n",
       "      <td>2.128380e+06</td>\n",
       "      <td>1.592191e+06</td>\n",
       "      <td>44227.52</td>\n",
       "      <td>0</td>\n",
       "      <td>0</td>\n",
       "      <td>0.182492</td>\n",
       "      <td>0</td>\n",
       "      <td>BRW_345</td>\n",
       "      <td>High Income, Low Default Risk</td>\n",
       "      <td>Fully Recovered</td>\n",
       "      <td>Calls</td>\n",
       "      <td>0</td>\n",
       "      <td>No</td>\n",
       "      <td>Automated reminders &amp; monitoring</td>\n",
       "    </tr>\n",
       "  </tbody>\n",
       "</table>\n",
       "</div>"
      ],
      "text/plain": [
       "     Age  Monthly_Income  Loan_Amount  Loan_Tenure  Interest_Rate  \\\n",
       "436   25          156826      1510049           60          16.22   \n",
       "448   57           33752      1803767           12           8.30   \n",
       "88    27           71503      1898058           24          12.59   \n",
       "145   59          215641      1492181           36          15.85   \n",
       "344   52          106658      1958911           36          12.09   \n",
       "\n",
       "     Collateral_Value  Outstanding_Loan_Amount  Monthly_EMI  \\\n",
       "436      8.373402e+05             3.296001e+05      5493.34   \n",
       "448      0.000000e+00             4.411477e+05     36762.31   \n",
       "88       1.087594e+06             4.227607e+05     17615.03   \n",
       "145      1.340937e+06             1.337482e+06     37152.29   \n",
       "344      2.128380e+06             1.592191e+06     44227.52   \n",
       "\n",
       "     Num_Missed_Payments  Days_Past_Due  Risk_Score  Predicted_High_Risk  \\\n",
       "436                    1            179    0.383863                    0   \n",
       "448                    0              0    0.546048                    1   \n",
       "88                     2            179    0.629916                    1   \n",
       "145                    3            125    0.346930                    0   \n",
       "344                    0              0    0.182492                    0   \n",
       "\n",
       "    Borrower_ID                       Segment_Name      Recovery_Status  \\\n",
       "436     BRW_437     High Loan, Higher Default Risk  Partially Recovered   \n",
       "448     BRW_449  Moderate Income, High Loan Burden      Fully Recovered   \n",
       "88       BRW_89     High Loan, Higher Default Risk      Fully Recovered   \n",
       "145     BRW_146      High Income, Low Default Risk      Fully Recovered   \n",
       "344     BRW_345      High Income, Low Default Risk      Fully Recovered   \n",
       "\n",
       "    Collection_Method  Collection_Attempts Legal_Action_Taken  \\\n",
       "436      Legal Notice                    7                 No   \n",
       "448             Calls                    2                 No   \n",
       "88    Debt Collectors                    3                 No   \n",
       "145             Calls                    3                 No   \n",
       "344             Calls                    0                 No   \n",
       "\n",
       "                       Recovery_Strategy  \n",
       "436     Automated reminders & monitoring  \n",
       "448  Settlement offers & repayment plans  \n",
       "88   Settlement offers & repayment plans  \n",
       "145     Automated reminders & monitoring  \n",
       "344     Automated reminders & monitoring  "
      ]
     },
     "execution_count": 54,
     "metadata": {},
     "output_type": "execute_result"
    }
   ],
   "source": [
    "# creating a new column for the dynamic recovery strategy based on risk scores\n",
    "def assign_recovery_strategy(risk_score):\n",
    "    if risk_score > 0.75:\n",
    "        return \"Immediate legal notices & aggressive recovery attempts\"\n",
    "    elif 0.50 <= risk_score <= 0.75:\n",
    "        return \"Settlement offers & repayment plans\"\n",
    "    else:\n",
    "        return \"Automated reminders & monitoring\"\n",
    "\n",
    "df_test['Recovery_Strategy'] = df_test['Risk_Score'].apply(assign_recovery_strategy)\n",
    "\n",
    "df_test.head()"
   ]
  },
  {
   "cell_type": "markdown",
   "id": "7365f27d",
   "metadata": {},
   "source": [
    "Here, we defined a function that categorizes borrowers into three recovery approaches:\n",
    "\n",
    "- immediate legal action for high-risk borrowers (risk score > 0.75),\n",
    "- settlement offers and repayment plans for moderate-risk borrowers (0.50 – 0.75),\n",
    "- and automated reminders for low-risk borrowers (<0.50).\n",
    "\n",
    "This function was applied to the test dataset to assign a personalized recovery strategy to each borrower to ensure cost-effective and targeted loan recovery efforts."
   ]
  },
  {
   "cell_type": "markdown",
   "id": "68f46ad8",
   "metadata": {},
   "source": [
    "## Summary\n",
    "So, by leveraging borrower profiles, payment behaviours, and clustering techniques, we can build a smart loan recovery system to identify high-risk borrowers early and assign targeted recovery strategies based on risk levels."
   ]
  },
  {
   "cell_type": "markdown",
   "id": "d52bad0b",
   "metadata": {},
   "source": []
  }
 ],
 "metadata": {
  "kernelspec": {
   "display_name": ".venv",
   "language": "python",
   "name": "python3"
  },
  "language_info": {
   "codemirror_mode": {
    "name": "ipython",
    "version": 3
   },
   "file_extension": ".py",
   "mimetype": "text/x-python",
   "name": "python",
   "nbconvert_exporter": "python",
   "pygments_lexer": "ipython3",
   "version": "3.11.4"
  }
 },
 "nbformat": 4,
 "nbformat_minor": 5
}
